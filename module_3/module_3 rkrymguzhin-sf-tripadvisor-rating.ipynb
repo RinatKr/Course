{
 "cells": [
  {
   "cell_type": "markdown",
   "metadata": {},
   "source": [
    "![](https://www.pata.org/wp-content/uploads/2014/09/TripAdvisor_Logo-300x119.png)\n",
    "# Predict TripAdvisor Rating\n",
    "## В этом соревновании нам предстоит предсказать рейтинг ресторана в TripAdvisor\n",
    "**По ходу задачи:**\n",
    "* Прокачаем работу с pandas\n",
    "* Научимся работать с Kaggle Notebooks\n",
    "* Поймем как делать предобработку различных данных\n",
    "* Научимся работать с пропущенными данными (Nan)\n",
    "* Познакомимся с различными видами кодирования признаков\n",
    "* Немного попробуем [Feature Engineering](https://ru.wikipedia.org/wiki/Конструирование_признаков) (генерировать новые признаки)\n",
    "* И совсем немного затронем ML\n",
    "* И многое другое...   \n",
    "\n",
    "\n",
    "\n",
    "### И самое важное, все это вы сможете сделать самостоятельно!\n",
    "\n",
    "*Этот Ноутбук являетсся Примером/Шаблоном к этому соревнованию (Baseline) и не служит готовым решением!*   \n",
    "Вы можете использовать его как основу для построения своего решения.\n",
    "\n",
    "> что такое baseline решение, зачем оно нужно и почему предоставлять baseline к соревнованию стало важным стандартом на kaggle и других площадках.   \n",
    "**baseline** создается больше как шаблон, где можно посмотреть как происходит обращение с входящими данными и что нужно получить на выходе. При этом МЛ начинка может быть достаточно простой, просто для примера. Это помогает быстрее приступить к самому МЛ, а не тратить ценное время на чисто инженерные задачи. \n",
    "Также baseline являеться хорошей опорной точкой по метрике. Если твое решение хуже baseline - ты явно делаешь что-то не то и стоит попробовать другой путь) \n",
    "\n",
    "В контексте нашего соревнования baseline идет с небольшими примерами того, что можно делать с данными, и с инструкцией, что делать дальше, чтобы улучшить результат.  Вообще готовым решением это сложно назвать, так как используются всего 2 самых простых признака (а остальные исключаются)."
   ]
  },
  {
   "cell_type": "markdown",
   "metadata": {},
   "source": [
    "# import"
   ]
  },
  {
   "cell_type": "code",
   "execution_count": 1,
   "metadata": {
    "_cell_guid": "b1076dfc-b9ad-4769-8c92-a6c4dae69d19",
    "_uuid": "8f2839f25d086af736a60e9eeb907d3b93b6e0e5",
    "execution": {
     "iopub.execute_input": "2021-07-11T10:36:10.902346Z",
     "iopub.status.busy": "2021-07-11T10:36:10.902002Z",
     "iopub.status.idle": "2021-07-11T10:36:10.918994Z",
     "shell.execute_reply": "2021-07-11T10:36:10.917970Z",
     "shell.execute_reply.started": "2021-07-11T10:36:10.902297Z"
    }
   },
   "outputs": [
    {
     "name": "stdout",
     "output_type": "stream",
     "text": [
      "/kaggle/input/sf-dst-restaurant-rating/sample_submission.csv\n",
      "/kaggle/input/sf-dst-restaurant-rating/main_task.csv\n",
      "/kaggle/input/sf-dst-restaurant-rating/kaggle_task.csv\n",
      "/kaggle/input/worldcities-clean/worldcities_clean.csv\n"
     ]
    }
   ],
   "source": [
    "# This Python 3 environment comes with many helpful analytics libraries installed\n",
    "# It is defined by the kaggle/python docker image: https://github.com/kaggle/docker-python\n",
    "# For example, here's several helpful packages to load in \n",
    "\n",
    "import numpy as np # linear algebra\n",
    "import pandas as pd # data processing, CSV file I/O (e.g. pd.read_csv)\n",
    "\n",
    "import matplotlib.pyplot as plt\n",
    "import seaborn as sns \n",
    "%matplotlib inline\n",
    "\n",
    "import re\n",
    "from textblob import TextBlob\n",
    "from collections import Counter\n",
    "\n",
    "# Загружаем специальный удобный инструмент для разделения датасета:\n",
    "from sklearn.model_selection import train_test_split\n",
    "\n",
    "# Input data files are available in the \"../input/\" directory.\n",
    "# For example, running this (by clicking run or pressing Shift+Enter) will list all files under the input directory\n",
    "\n",
    "import os\n",
    "for dirname, _, filenames in os.walk('/kaggle/input'):\n",
    "    for filename in filenames:\n",
    "        print(os.path.join(dirname, filename))\n",
    "\n",
    "# Any results you write to the current directory are saved as output."
   ]
  },
  {
   "cell_type": "code",
   "execution_count": 2,
   "metadata": {
    "execution": {
     "iopub.execute_input": "2021-07-11T10:36:10.929960Z",
     "iopub.status.busy": "2021-07-11T10:36:10.929503Z",
     "iopub.status.idle": "2021-07-11T10:36:10.934156Z",
     "shell.execute_reply": "2021-07-11T10:36:10.932932Z",
     "shell.execute_reply.started": "2021-07-11T10:36:10.929899Z"
    }
   },
   "outputs": [],
   "source": [
    "# всегда фиксируйте RANDOM_SEED, чтобы ваши эксперименты были воспроизводимы!\n",
    "RANDOM_SEED = 42"
   ]
  },
  {
   "cell_type": "code",
   "execution_count": 3,
   "metadata": {
    "execution": {
     "iopub.execute_input": "2021-07-11T10:36:10.991173Z",
     "iopub.status.busy": "2021-07-11T10:36:10.990738Z",
     "iopub.status.idle": "2021-07-11T10:36:13.151057Z",
     "shell.execute_reply": "2021-07-11T10:36:13.149845Z",
     "shell.execute_reply.started": "2021-07-11T10:36:10.991130Z"
    }
   },
   "outputs": [],
   "source": [
    "# зафиксируем версию пакетов, чтобы эксперименты были воспроизводимы:\n",
    "!pip freeze > requirements.txt"
   ]
  },
  {
   "cell_type": "markdown",
   "metadata": {},
   "source": [
    "# DATA"
   ]
  },
  {
   "cell_type": "code",
   "execution_count": 4,
   "metadata": {
    "_cell_guid": "79c7e3d0-c299-4dcb-8224-4455121ee9b0",
    "_uuid": "d629ff2d2480ee46fbb7e2d37f6b5fab8052498a",
    "execution": {
     "iopub.execute_input": "2021-07-11T10:36:13.153311Z",
     "iopub.status.busy": "2021-07-11T10:36:13.153048Z",
     "iopub.status.idle": "2021-07-11T10:36:13.387309Z",
     "shell.execute_reply": "2021-07-11T10:36:13.386441Z",
     "shell.execute_reply.started": "2021-07-11T10:36:13.153268Z"
    }
   },
   "outputs": [],
   "source": [
    "DATA_DIR = '/kaggle/input/sf-dst-restaurant-rating/'\n",
    "df_train = pd.read_csv(DATA_DIR+'/main_task.csv')\n",
    "df_test = pd.read_csv(DATA_DIR+'kaggle_task.csv')\n",
    "sample_submission = pd.read_csv(DATA_DIR+'/sample_submission.csv')"
   ]
  },
  {
   "cell_type": "code",
   "execution_count": 5,
   "metadata": {
    "execution": {
     "iopub.execute_input": "2021-07-11T10:36:13.388893Z",
     "iopub.status.busy": "2021-07-11T10:36:13.388633Z",
     "iopub.status.idle": "2021-07-11T10:36:13.402389Z",
     "shell.execute_reply": "2021-07-11T10:36:13.401454Z",
     "shell.execute_reply.started": "2021-07-11T10:36:13.388849Z"
    }
   },
   "outputs": [],
   "source": [
    "DATA2_DIR = '/kaggle/input/worldcities-clean/'\n",
    "cities = pd.read_csv(DATA2_DIR+'worldcities_clean.csv')\n",
    "#Бесплатно распространяемая (как я понял) база с городами, странами и населением\n",
    "#https://gist.github.com/curran/13d30e855d48cdd6f22acdf0afe27286/#file-worldcities_clean-csv"
   ]
  },
  {
   "cell_type": "code",
   "execution_count": 6,
   "metadata": {
    "execution": {
     "iopub.execute_input": "2021-07-11T10:36:13.404171Z",
     "iopub.status.busy": "2021-07-11T10:36:13.403842Z",
     "iopub.status.idle": "2021-07-11T10:36:13.420524Z",
     "shell.execute_reply": "2021-07-11T10:36:13.419731Z",
     "shell.execute_reply.started": "2021-07-11T10:36:13.404131Z"
    }
   },
   "outputs": [
    {
     "data": {
      "text/html": [
       "<div>\n",
       "<style scoped>\n",
       "    .dataframe tbody tr th:only-of-type {\n",
       "        vertical-align: middle;\n",
       "    }\n",
       "\n",
       "    .dataframe tbody tr th {\n",
       "        vertical-align: top;\n",
       "    }\n",
       "\n",
       "    .dataframe thead th {\n",
       "        text-align: right;\n",
       "    }\n",
       "</style>\n",
       "<table border=\"1\" class=\"dataframe\">\n",
       "  <thead>\n",
       "    <tr style=\"text-align: right;\">\n",
       "      <th></th>\n",
       "      <th>Restaurant_id</th>\n",
       "      <th>City</th>\n",
       "      <th>Cuisine Style</th>\n",
       "      <th>Ranking</th>\n",
       "      <th>Rating</th>\n",
       "      <th>Price Range</th>\n",
       "      <th>Number of Reviews</th>\n",
       "      <th>Reviews</th>\n",
       "      <th>URL_TA</th>\n",
       "      <th>ID_TA</th>\n",
       "    </tr>\n",
       "  </thead>\n",
       "  <tbody>\n",
       "    <tr>\n",
       "      <th>0</th>\n",
       "      <td>id_5569</td>\n",
       "      <td>Paris</td>\n",
       "      <td>['European', 'French', 'International']</td>\n",
       "      <td>5570.0</td>\n",
       "      <td>3.5</td>\n",
       "      <td>$$ - $$$</td>\n",
       "      <td>194.0</td>\n",
       "      <td>[['Good food at your doorstep', 'A good hotel ...</td>\n",
       "      <td>/Restaurant_Review-g187147-d1912643-Reviews-R_...</td>\n",
       "      <td>d1912643</td>\n",
       "    </tr>\n",
       "    <tr>\n",
       "      <th>1</th>\n",
       "      <td>id_1535</td>\n",
       "      <td>Stockholm</td>\n",
       "      <td>NaN</td>\n",
       "      <td>1537.0</td>\n",
       "      <td>4.0</td>\n",
       "      <td>NaN</td>\n",
       "      <td>10.0</td>\n",
       "      <td>[['Unique cuisine', 'Delicious Nepalese food']...</td>\n",
       "      <td>/Restaurant_Review-g189852-d7992032-Reviews-Bu...</td>\n",
       "      <td>d7992032</td>\n",
       "    </tr>\n",
       "    <tr>\n",
       "      <th>2</th>\n",
       "      <td>id_352</td>\n",
       "      <td>London</td>\n",
       "      <td>['Japanese', 'Sushi', 'Asian', 'Grill', 'Veget...</td>\n",
       "      <td>353.0</td>\n",
       "      <td>4.5</td>\n",
       "      <td>$$$$</td>\n",
       "      <td>688.0</td>\n",
       "      <td>[['Catch up with friends', 'Not exceptional'],...</td>\n",
       "      <td>/Restaurant_Review-g186338-d8632781-Reviews-RO...</td>\n",
       "      <td>d8632781</td>\n",
       "    </tr>\n",
       "    <tr>\n",
       "      <th>3</th>\n",
       "      <td>id_3456</td>\n",
       "      <td>Berlin</td>\n",
       "      <td>NaN</td>\n",
       "      <td>3458.0</td>\n",
       "      <td>5.0</td>\n",
       "      <td>NaN</td>\n",
       "      <td>3.0</td>\n",
       "      <td>[[], []]</td>\n",
       "      <td>/Restaurant_Review-g187323-d1358776-Reviews-Es...</td>\n",
       "      <td>d1358776</td>\n",
       "    </tr>\n",
       "    <tr>\n",
       "      <th>4</th>\n",
       "      <td>id_615</td>\n",
       "      <td>Munich</td>\n",
       "      <td>['German', 'Central European', 'Vegetarian Fri...</td>\n",
       "      <td>621.0</td>\n",
       "      <td>4.0</td>\n",
       "      <td>$$ - $$$</td>\n",
       "      <td>84.0</td>\n",
       "      <td>[['Best place to try a Bavarian food', 'Nice b...</td>\n",
       "      <td>/Restaurant_Review-g187309-d6864963-Reviews-Au...</td>\n",
       "      <td>d6864963</td>\n",
       "    </tr>\n",
       "  </tbody>\n",
       "</table>\n",
       "</div>"
      ],
      "text/plain": [
       "  Restaurant_id       City                                      Cuisine Style  \\\n",
       "0       id_5569      Paris            ['European', 'French', 'International']   \n",
       "1       id_1535  Stockholm                                                NaN   \n",
       "2        id_352     London  ['Japanese', 'Sushi', 'Asian', 'Grill', 'Veget...   \n",
       "3       id_3456     Berlin                                                NaN   \n",
       "4        id_615     Munich  ['German', 'Central European', 'Vegetarian Fri...   \n",
       "\n",
       "   Ranking  Rating Price Range  Number of Reviews  \\\n",
       "0   5570.0     3.5    $$ - $$$              194.0   \n",
       "1   1537.0     4.0         NaN               10.0   \n",
       "2    353.0     4.5        $$$$              688.0   \n",
       "3   3458.0     5.0         NaN                3.0   \n",
       "4    621.0     4.0    $$ - $$$               84.0   \n",
       "\n",
       "                                             Reviews  \\\n",
       "0  [['Good food at your doorstep', 'A good hotel ...   \n",
       "1  [['Unique cuisine', 'Delicious Nepalese food']...   \n",
       "2  [['Catch up with friends', 'Not exceptional'],...   \n",
       "3                                           [[], []]   \n",
       "4  [['Best place to try a Bavarian food', 'Nice b...   \n",
       "\n",
       "                                              URL_TA     ID_TA  \n",
       "0  /Restaurant_Review-g187147-d1912643-Reviews-R_...  d1912643  \n",
       "1  /Restaurant_Review-g189852-d7992032-Reviews-Bu...  d7992032  \n",
       "2  /Restaurant_Review-g186338-d8632781-Reviews-RO...  d8632781  \n",
       "3  /Restaurant_Review-g187323-d1358776-Reviews-Es...  d1358776  \n",
       "4  /Restaurant_Review-g187309-d6864963-Reviews-Au...  d6864963  "
      ]
     },
     "execution_count": 6,
     "metadata": {},
     "output_type": "execute_result"
    }
   ],
   "source": [
    "df_train.head(5)"
   ]
  },
  {
   "cell_type": "code",
   "execution_count": 7,
   "metadata": {
    "execution": {
     "iopub.execute_input": "2021-07-11T10:36:13.424477Z",
     "iopub.status.busy": "2021-07-11T10:36:13.424162Z",
     "iopub.status.idle": "2021-07-11T10:36:13.450634Z",
     "shell.execute_reply": "2021-07-11T10:36:13.449491Z",
     "shell.execute_reply.started": "2021-07-11T10:36:13.424428Z"
    }
   },
   "outputs": [
    {
     "name": "stdout",
     "output_type": "stream",
     "text": [
      "<class 'pandas.core.frame.DataFrame'>\n",
      "RangeIndex: 40000 entries, 0 to 39999\n",
      "Data columns (total 10 columns):\n",
      "Restaurant_id        40000 non-null object\n",
      "City                 40000 non-null object\n",
      "Cuisine Style        30717 non-null object\n",
      "Ranking              40000 non-null float64\n",
      "Rating               40000 non-null float64\n",
      "Price Range          26114 non-null object\n",
      "Number of Reviews    37457 non-null float64\n",
      "Reviews              40000 non-null object\n",
      "URL_TA               40000 non-null object\n",
      "ID_TA                40000 non-null object\n",
      "dtypes: float64(3), object(7)\n",
      "memory usage: 3.1+ MB\n"
     ]
    }
   ],
   "source": [
    "df_train.info()"
   ]
  },
  {
   "cell_type": "code",
   "execution_count": 8,
   "metadata": {
    "execution": {
     "iopub.execute_input": "2021-07-11T10:36:13.453558Z",
     "iopub.status.busy": "2021-07-11T10:36:13.453280Z",
     "iopub.status.idle": "2021-07-11T10:36:13.466188Z",
     "shell.execute_reply": "2021-07-11T10:36:13.465368Z",
     "shell.execute_reply.started": "2021-07-11T10:36:13.453505Z"
    }
   },
   "outputs": [
    {
     "name": "stdout",
     "output_type": "stream",
     "text": [
      "<class 'pandas.core.frame.DataFrame'>\n",
      "RangeIndex: 10000 entries, 0 to 9999\n",
      "Data columns (total 9 columns):\n",
      "Restaurant_id        10000 non-null object\n",
      "City                 10000 non-null object\n",
      "Cuisine Style        7693 non-null object\n",
      "Ranking              10000 non-null float64\n",
      "Price Range          6525 non-null object\n",
      "Number of Reviews    9343 non-null float64\n",
      "Reviews              9998 non-null object\n",
      "URL_TA               10000 non-null object\n",
      "ID_TA                10000 non-null object\n",
      "dtypes: float64(2), object(7)\n",
      "memory usage: 703.2+ KB\n"
     ]
    }
   ],
   "source": [
    "df_test.info()"
   ]
  },
  {
   "cell_type": "code",
   "execution_count": 9,
   "metadata": {
    "execution": {
     "iopub.execute_input": "2021-07-11T10:36:13.467840Z",
     "iopub.status.busy": "2021-07-11T10:36:13.467547Z",
     "iopub.status.idle": "2021-07-11T10:36:13.489751Z",
     "shell.execute_reply": "2021-07-11T10:36:13.488649Z",
     "shell.execute_reply.started": "2021-07-11T10:36:13.467769Z"
    }
   },
   "outputs": [
    {
     "data": {
      "text/html": [
       "<div>\n",
       "<style scoped>\n",
       "    .dataframe tbody tr th:only-of-type {\n",
       "        vertical-align: middle;\n",
       "    }\n",
       "\n",
       "    .dataframe tbody tr th {\n",
       "        vertical-align: top;\n",
       "    }\n",
       "\n",
       "    .dataframe thead th {\n",
       "        text-align: right;\n",
       "    }\n",
       "</style>\n",
       "<table border=\"1\" class=\"dataframe\">\n",
       "  <thead>\n",
       "    <tr style=\"text-align: right;\">\n",
       "      <th></th>\n",
       "      <th>Restaurant_id</th>\n",
       "      <th>City</th>\n",
       "      <th>Cuisine Style</th>\n",
       "      <th>Ranking</th>\n",
       "      <th>Price Range</th>\n",
       "      <th>Number of Reviews</th>\n",
       "      <th>Reviews</th>\n",
       "      <th>URL_TA</th>\n",
       "      <th>ID_TA</th>\n",
       "    </tr>\n",
       "  </thead>\n",
       "  <tbody>\n",
       "    <tr>\n",
       "      <th>0</th>\n",
       "      <td>id_0</td>\n",
       "      <td>Paris</td>\n",
       "      <td>['Bar', 'Pub']</td>\n",
       "      <td>12963.0</td>\n",
       "      <td>$$ - $$$</td>\n",
       "      <td>4.0</td>\n",
       "      <td>[[], []]</td>\n",
       "      <td>/Restaurant_Review-g187147-d10746918-Reviews-L...</td>\n",
       "      <td>d10746918</td>\n",
       "    </tr>\n",
       "    <tr>\n",
       "      <th>1</th>\n",
       "      <td>id_1</td>\n",
       "      <td>Helsinki</td>\n",
       "      <td>['European', 'Scandinavian', 'Gluten Free Opti...</td>\n",
       "      <td>106.0</td>\n",
       "      <td>$$ - $$$</td>\n",
       "      <td>97.0</td>\n",
       "      <td>[['Very good reviews!', 'Fine dining in Hakani...</td>\n",
       "      <td>/Restaurant_Review-g189934-d6674944-Reviews-Ra...</td>\n",
       "      <td>d6674944</td>\n",
       "    </tr>\n",
       "    <tr>\n",
       "      <th>2</th>\n",
       "      <td>id_2</td>\n",
       "      <td>Edinburgh</td>\n",
       "      <td>['Vegetarian Friendly']</td>\n",
       "      <td>810.0</td>\n",
       "      <td>$$ - $$$</td>\n",
       "      <td>28.0</td>\n",
       "      <td>[['Better than the Links', 'Ivy Black'], ['12/...</td>\n",
       "      <td>/Restaurant_Review-g186525-d13129638-Reviews-B...</td>\n",
       "      <td>d13129638</td>\n",
       "    </tr>\n",
       "    <tr>\n",
       "      <th>3</th>\n",
       "      <td>id_3</td>\n",
       "      <td>London</td>\n",
       "      <td>['Italian', 'Mediterranean', 'European', 'Vege...</td>\n",
       "      <td>1669.0</td>\n",
       "      <td>$$$$</td>\n",
       "      <td>202.0</td>\n",
       "      <td>[['Most exquisite', 'Delicious and authentic']...</td>\n",
       "      <td>/Restaurant_Review-g186338-d680417-Reviews-Qui...</td>\n",
       "      <td>d680417</td>\n",
       "    </tr>\n",
       "    <tr>\n",
       "      <th>4</th>\n",
       "      <td>id_4</td>\n",
       "      <td>Bratislava</td>\n",
       "      <td>['Italian', 'Mediterranean', 'European', 'Seaf...</td>\n",
       "      <td>37.0</td>\n",
       "      <td>$$$$</td>\n",
       "      <td>162.0</td>\n",
       "      <td>[['Always the best in bratislava', 'Very good ...</td>\n",
       "      <td>/Restaurant_Review-g274924-d1112354-Reviews-Ma...</td>\n",
       "      <td>d1112354</td>\n",
       "    </tr>\n",
       "  </tbody>\n",
       "</table>\n",
       "</div>"
      ],
      "text/plain": [
       "  Restaurant_id        City  \\\n",
       "0          id_0       Paris   \n",
       "1          id_1    Helsinki   \n",
       "2          id_2   Edinburgh   \n",
       "3          id_3      London   \n",
       "4          id_4  Bratislava   \n",
       "\n",
       "                                       Cuisine Style  Ranking Price Range  \\\n",
       "0                                     ['Bar', 'Pub']  12963.0    $$ - $$$   \n",
       "1  ['European', 'Scandinavian', 'Gluten Free Opti...    106.0    $$ - $$$   \n",
       "2                            ['Vegetarian Friendly']    810.0    $$ - $$$   \n",
       "3  ['Italian', 'Mediterranean', 'European', 'Vege...   1669.0        $$$$   \n",
       "4  ['Italian', 'Mediterranean', 'European', 'Seaf...     37.0        $$$$   \n",
       "\n",
       "   Number of Reviews                                            Reviews  \\\n",
       "0                4.0                                           [[], []]   \n",
       "1               97.0  [['Very good reviews!', 'Fine dining in Hakani...   \n",
       "2               28.0  [['Better than the Links', 'Ivy Black'], ['12/...   \n",
       "3              202.0  [['Most exquisite', 'Delicious and authentic']...   \n",
       "4              162.0  [['Always the best in bratislava', 'Very good ...   \n",
       "\n",
       "                                              URL_TA      ID_TA  \n",
       "0  /Restaurant_Review-g187147-d10746918-Reviews-L...  d10746918  \n",
       "1  /Restaurant_Review-g189934-d6674944-Reviews-Ra...   d6674944  \n",
       "2  /Restaurant_Review-g186525-d13129638-Reviews-B...  d13129638  \n",
       "3  /Restaurant_Review-g186338-d680417-Reviews-Qui...    d680417  \n",
       "4  /Restaurant_Review-g274924-d1112354-Reviews-Ma...   d1112354  "
      ]
     },
     "execution_count": 9,
     "metadata": {},
     "output_type": "execute_result"
    }
   ],
   "source": [
    "df_test.head(5)"
   ]
  },
  {
   "cell_type": "code",
   "execution_count": 10,
   "metadata": {
    "execution": {
     "iopub.execute_input": "2021-07-11T10:36:13.491347Z",
     "iopub.status.busy": "2021-07-11T10:36:13.491095Z",
     "iopub.status.idle": "2021-07-11T10:36:13.501850Z",
     "shell.execute_reply": "2021-07-11T10:36:13.500915Z",
     "shell.execute_reply.started": "2021-07-11T10:36:13.491312Z"
    }
   },
   "outputs": [],
   "source": [
    "df_test1=df_test.copy()"
   ]
  },
  {
   "cell_type": "code",
   "execution_count": 11,
   "metadata": {
    "execution": {
     "iopub.execute_input": "2021-07-11T10:36:13.503511Z",
     "iopub.status.busy": "2021-07-11T10:36:13.503156Z",
     "iopub.status.idle": "2021-07-11T10:36:13.521659Z",
     "shell.execute_reply": "2021-07-11T10:36:13.520644Z",
     "shell.execute_reply.started": "2021-07-11T10:36:13.503436Z"
    }
   },
   "outputs": [
    {
     "data": {
      "text/html": [
       "<div>\n",
       "<style scoped>\n",
       "    .dataframe tbody tr th:only-of-type {\n",
       "        vertical-align: middle;\n",
       "    }\n",
       "\n",
       "    .dataframe tbody tr th {\n",
       "        vertical-align: top;\n",
       "    }\n",
       "\n",
       "    .dataframe thead th {\n",
       "        text-align: right;\n",
       "    }\n",
       "</style>\n",
       "<table border=\"1\" class=\"dataframe\">\n",
       "  <thead>\n",
       "    <tr style=\"text-align: right;\">\n",
       "      <th></th>\n",
       "      <th>Restaurant_id</th>\n",
       "      <th>Rating</th>\n",
       "    </tr>\n",
       "  </thead>\n",
       "  <tbody>\n",
       "    <tr>\n",
       "      <th>0</th>\n",
       "      <td>id_0</td>\n",
       "      <td>2.0</td>\n",
       "    </tr>\n",
       "    <tr>\n",
       "      <th>1</th>\n",
       "      <td>id_1</td>\n",
       "      <td>2.5</td>\n",
       "    </tr>\n",
       "    <tr>\n",
       "      <th>2</th>\n",
       "      <td>id_2</td>\n",
       "      <td>4.0</td>\n",
       "    </tr>\n",
       "    <tr>\n",
       "      <th>3</th>\n",
       "      <td>id_3</td>\n",
       "      <td>1.0</td>\n",
       "    </tr>\n",
       "    <tr>\n",
       "      <th>4</th>\n",
       "      <td>id_4</td>\n",
       "      <td>4.0</td>\n",
       "    </tr>\n",
       "  </tbody>\n",
       "</table>\n",
       "</div>"
      ],
      "text/plain": [
       "  Restaurant_id  Rating\n",
       "0          id_0     2.0\n",
       "1          id_1     2.5\n",
       "2          id_2     4.0\n",
       "3          id_3     1.0\n",
       "4          id_4     4.0"
      ]
     },
     "execution_count": 11,
     "metadata": {},
     "output_type": "execute_result"
    }
   ],
   "source": [
    "sample_submission.head(5)"
   ]
  },
  {
   "cell_type": "code",
   "execution_count": 12,
   "metadata": {
    "execution": {
     "iopub.execute_input": "2021-07-11T10:36:13.524100Z",
     "iopub.status.busy": "2021-07-11T10:36:13.523721Z",
     "iopub.status.idle": "2021-07-11T10:36:13.534951Z",
     "shell.execute_reply": "2021-07-11T10:36:13.533820Z",
     "shell.execute_reply.started": "2021-07-11T10:36:13.524027Z"
    }
   },
   "outputs": [
    {
     "name": "stdout",
     "output_type": "stream",
     "text": [
      "<class 'pandas.core.frame.DataFrame'>\n",
      "RangeIndex: 10000 entries, 0 to 9999\n",
      "Data columns (total 2 columns):\n",
      "Restaurant_id    10000 non-null object\n",
      "Rating           10000 non-null float64\n",
      "dtypes: float64(1), object(1)\n",
      "memory usage: 156.4+ KB\n"
     ]
    }
   ],
   "source": [
    "sample_submission.info()"
   ]
  },
  {
   "cell_type": "code",
   "execution_count": 13,
   "metadata": {
    "execution": {
     "iopub.execute_input": "2021-07-11T10:36:13.536903Z",
     "iopub.status.busy": "2021-07-11T10:36:13.536537Z",
     "iopub.status.idle": "2021-07-11T10:36:13.581813Z",
     "shell.execute_reply": "2021-07-11T10:36:13.580776Z",
     "shell.execute_reply.started": "2021-07-11T10:36:13.536837Z"
    }
   },
   "outputs": [],
   "source": [
    "# ВАЖНО! дря корректной обработки признаков объединяем трейн и тест в один датасет\n",
    "df_train['sample'] = 1 # помечаем где у нас трейн\n",
    "df_test['sample'] = 0 # помечаем где у нас тест\n",
    "df_test['Rating'] = 0 # в тесте у нас нет значения Rating, мы его должны предсказать, по этому пока просто заполняем нулями\n",
    "\n",
    "data = df_test.append(df_train, sort=False).reset_index(drop=True) # объединяем"
   ]
  },
  {
   "cell_type": "code",
   "execution_count": 14,
   "metadata": {
    "execution": {
     "iopub.execute_input": "2021-07-11T10:36:13.583339Z",
     "iopub.status.busy": "2021-07-11T10:36:13.583067Z",
     "iopub.status.idle": "2021-07-11T10:36:13.609607Z",
     "shell.execute_reply": "2021-07-11T10:36:13.608661Z",
     "shell.execute_reply.started": "2021-07-11T10:36:13.583289Z"
    }
   },
   "outputs": [
    {
     "name": "stdout",
     "output_type": "stream",
     "text": [
      "<class 'pandas.core.frame.DataFrame'>\n",
      "RangeIndex: 50000 entries, 0 to 49999\n",
      "Data columns (total 11 columns):\n",
      "Restaurant_id        50000 non-null object\n",
      "City                 50000 non-null object\n",
      "Cuisine Style        38410 non-null object\n",
      "Ranking              50000 non-null float64\n",
      "Price Range          32639 non-null object\n",
      "Number of Reviews    46800 non-null float64\n",
      "Reviews              49998 non-null object\n",
      "URL_TA               50000 non-null object\n",
      "ID_TA                50000 non-null object\n",
      "sample               50000 non-null int64\n",
      "Rating               50000 non-null float64\n",
      "dtypes: float64(3), int64(1), object(7)\n",
      "memory usage: 4.2+ MB\n"
     ]
    }
   ],
   "source": [
    "data.info()"
   ]
  },
  {
   "cell_type": "markdown",
   "metadata": {},
   "source": [
    "Подробнее по признакам:\n",
    "* City: Город \n",
    "* Cuisine Style: Кухня\n",
    "* Ranking: Ранг ресторана относительно других ресторанов в этом городе\n",
    "* Price Range: Цены в ресторане в 3 категориях\n",
    "* Number of Reviews: Количество отзывов\n",
    "* Reviews: 2 последних отзыва и даты этих отзывов\n",
    "* URL_TA: страница ресторана на 'www.tripadvisor.com' \n",
    "* ID_TA: ID ресторана в TripAdvisor\n",
    "* Rating: Рейтинг ресторана"
   ]
  },
  {
   "cell_type": "markdown",
   "metadata": {},
   "source": [
    "# Cleaning and Prepping Data\n",
    "Обычно данные содержат в себе кучу мусора, который необходимо почистить, для того чтобы привести их в приемлемый формат. Чистка данных — это необходимый этап решения почти любой реальной задачи.   \n",
    "![](https://analyticsindiamag.com/wp-content/uploads/2018/01/data-cleaning.png)"
   ]
  },
  {
   "cell_type": "markdown",
   "metadata": {},
   "source": [
    "# 0. Функции"
   ]
  },
  {
   "cell_type": "code",
   "execution_count": 15,
   "metadata": {
    "execution": {
     "iopub.execute_input": "2021-07-11T10:36:13.611515Z",
     "iopub.status.busy": "2021-07-11T10:36:13.611231Z",
     "iopub.status.idle": "2021-07-11T10:36:13.616642Z",
     "shell.execute_reply": "2021-07-11T10:36:13.615940Z",
     "shell.execute_reply.started": "2021-07-11T10:36:13.611464Z"
    }
   },
   "outputs": [],
   "source": [
    "def Row_to_list(row):\n",
    "    ''' Функция возвращает списком все, что  между '', кроме цифр '''\n",
    "    pattern=re.compile(\"'(\\D*?)'\")\n",
    "    return re.findall(pattern, str(row))"
   ]
  },
  {
   "cell_type": "code",
   "execution_count": 16,
   "metadata": {
    "execution": {
     "iopub.execute_input": "2021-07-11T10:36:13.618118Z",
     "iopub.status.busy": "2021-07-11T10:36:13.617893Z",
     "iopub.status.idle": "2021-07-11T10:36:13.627691Z",
     "shell.execute_reply": "2021-07-11T10:36:13.626750Z",
     "shell.execute_reply.started": "2021-07-11T10:36:13.618082Z"
    }
   },
   "outputs": [],
   "source": [
    "def Row_to_tuple(row):\n",
    "    ''' Функция возвращает кортежом все, что  между '', кроме цифр '''\n",
    "    pattern=re.compile(\"'(\\D*?)'\")\n",
    "    return tuple(set(re.findall(pattern, str(row))))"
   ]
  },
  {
   "cell_type": "code",
   "execution_count": 17,
   "metadata": {
    "execution": {
     "iopub.execute_input": "2021-07-11T10:36:13.629409Z",
     "iopub.status.busy": "2021-07-11T10:36:13.629057Z",
     "iopub.status.idle": "2021-07-11T10:36:13.640419Z",
     "shell.execute_reply": "2021-07-11T10:36:13.638965Z",
     "shell.execute_reply.started": "2021-07-11T10:36:13.629368Z"
    }
   },
   "outputs": [],
   "source": [
    "def Row_to_date(row):\n",
    "    '''Функция возвращает списком все похожее на паттерн даты'''\n",
    "    pattern=re.compile('\\d\\d/\\d\\d/\\d\\d\\d\\d')\n",
    "    return re.findall(pattern, str(row))"
   ]
  },
  {
   "cell_type": "code",
   "execution_count": 18,
   "metadata": {
    "execution": {
     "iopub.execute_input": "2021-07-11T10:36:13.642438Z",
     "iopub.status.busy": "2021-07-11T10:36:13.642089Z",
     "iopub.status.idle": "2021-07-11T10:36:13.651082Z",
     "shell.execute_reply": "2021-07-11T10:36:13.650188Z",
     "shell.execute_reply.started": "2021-07-11T10:36:13.642371Z"
    }
   },
   "outputs": [],
   "source": [
    "def PricetoRange(row):\n",
    "    '''Функция заменяет рейтинг цен цифрами'''\n",
    "    if row=='$': return 1\n",
    "    elif row=='$$ - $$$': return 2\n",
    "    elif row=='$$$$': return 3"
   ]
  },
  {
   "cell_type": "code",
   "execution_count": 19,
   "metadata": {
    "execution": {
     "iopub.execute_input": "2021-07-11T10:36:13.652259Z",
     "iopub.status.busy": "2021-07-11T10:36:13.652050Z",
     "iopub.status.idle": "2021-07-11T10:36:13.664285Z",
     "shell.execute_reply": "2021-07-11T10:36:13.663130Z",
     "shell.execute_reply.started": "2021-07-11T10:36:13.652227Z"
    }
   },
   "outputs": [],
   "source": [
    "def time_delta(row):\n",
    "    ''' Вычисляет время между Reviews0 и Reviews1  в днях '''\n",
    "    if pd.notna(row['Reviews_data0']) and pd.notna(row['Reviews_data1']):\n",
    "        if row['Reviews_data0']<row['Reviews_data1']:\n",
    "            return (row['Reviews_data1'] - row['Reviews_data0']).days\n",
    "        else:\n",
    "            return (row['Reviews_data0'] - row['Reviews_data1']).days\n",
    "    else:\n",
    "        return np.nan"
   ]
  },
  {
   "cell_type": "markdown",
   "metadata": {},
   "source": [
    "## 1. Обработка NAN \n",
    "У наличия пропусков могут быть разные причины, но пропуски нужно либо заполнить, либо исключить из набора полностью. Но с пропусками нужно быть внимательным, **даже отсутствие информации может быть важным признаком!**   \n",
    "По этому перед обработкой NAN лучше вынести информацию о наличии пропуска как отдельный признак "
   ]
  },
  {
   "cell_type": "code",
   "execution_count": 20,
   "metadata": {
    "execution": {
     "iopub.execute_input": "2021-07-11T10:36:13.666252Z",
     "iopub.status.busy": "2021-07-11T10:36:13.665823Z",
     "iopub.status.idle": "2021-07-11T10:36:13.677349Z",
     "shell.execute_reply": "2021-07-11T10:36:13.676339Z",
     "shell.execute_reply.started": "2021-07-11T10:36:13.666023Z"
    }
   },
   "outputs": [],
   "source": [
    "# Для примера я возьму столбец Number of Reviews\n",
    "data['Number_of_Reviews_isNAN'] = pd.isna(data['Number of Reviews']).astype('uint8')"
   ]
  },
  {
   "cell_type": "code",
   "execution_count": 21,
   "metadata": {
    "execution": {
     "iopub.execute_input": "2021-07-11T10:36:13.679146Z",
     "iopub.status.busy": "2021-07-11T10:36:13.678906Z",
     "iopub.status.idle": "2021-07-11T10:36:13.688634Z",
     "shell.execute_reply": "2021-07-11T10:36:13.687882Z",
     "shell.execute_reply.started": "2021-07-11T10:36:13.679103Z"
    }
   },
   "outputs": [],
   "source": [
    "# Остальные колонки обработаем позднее"
   ]
  },
  {
   "cell_type": "markdown",
   "metadata": {},
   "source": [
    "### 2. Обработка признаков\n",
    "Для начала посмотрим какие признаки у нас могут быть категориальными."
   ]
  },
  {
   "cell_type": "code",
   "execution_count": 22,
   "metadata": {
    "execution": {
     "iopub.execute_input": "2021-07-11T10:36:13.690136Z",
     "iopub.status.busy": "2021-07-11T10:36:13.689919Z",
     "iopub.status.idle": "2021-07-11T10:36:13.791400Z",
     "shell.execute_reply": "2021-07-11T10:36:13.790781Z",
     "shell.execute_reply.started": "2021-07-11T10:36:13.690104Z"
    }
   },
   "outputs": [
    {
     "data": {
      "text/plain": [
       "Restaurant_id              13094\n",
       "City                          31\n",
       "Cuisine Style              10732\n",
       "Ranking                    12975\n",
       "Price Range                    4\n",
       "Number of Reviews           1574\n",
       "Reviews                    41858\n",
       "URL_TA                     49963\n",
       "ID_TA                      49963\n",
       "sample                         2\n",
       "Rating                        10\n",
       "Number_of_Reviews_isNAN        2\n",
       "dtype: int64"
      ]
     },
     "execution_count": 22,
     "metadata": {},
     "output_type": "execute_result"
    }
   ],
   "source": [
    "data.nunique(dropna = False)"
   ]
  },
  {
   "cell_type": "markdown",
   "metadata": {},
   "source": [
    "### Поле Reviews"
   ]
  },
  {
   "cell_type": "markdown",
   "metadata": {},
   "source": [
    "Разобъем поле Reviews на отдельные колонки содержащие отзывы и даты"
   ]
  },
  {
   "cell_type": "code",
   "execution_count": 23,
   "metadata": {
    "execution": {
     "iopub.execute_input": "2021-07-11T10:36:13.792861Z",
     "iopub.status.busy": "2021-07-11T10:36:13.792460Z",
     "iopub.status.idle": "2021-07-11T10:36:13.841450Z",
     "shell.execute_reply": "2021-07-11T10:36:13.840652Z",
     "shell.execute_reply.started": "2021-07-11T10:36:13.792805Z"
    }
   },
   "outputs": [],
   "source": [
    "# Заметив несколько случаев присутствия, заменяем парные кавычки  в Reviews одинарными\n",
    "data['Reviews'] = data['Reviews'].str.replace(r\"[\\\"]\", r\"'\")"
   ]
  },
  {
   "cell_type": "code",
   "execution_count": 24,
   "metadata": {
    "execution": {
     "iopub.execute_input": "2021-07-11T10:36:13.843361Z",
     "iopub.status.busy": "2021-07-11T10:36:13.843052Z",
     "iopub.status.idle": "2021-07-11T10:36:14.053305Z",
     "shell.execute_reply": "2021-07-11T10:36:14.052157Z",
     "shell.execute_reply.started": "2021-07-11T10:36:13.843310Z"
    }
   },
   "outputs": [],
   "source": [
    "# Превращаем строковый тип поля  Reviews в  список отзывов без дат\n",
    "data['Reviews_str'] = data['Reviews'].apply(Row_to_list)"
   ]
  },
  {
   "cell_type": "code",
   "execution_count": 25,
   "metadata": {
    "execution": {
     "iopub.execute_input": "2021-07-11T10:36:14.055814Z",
     "iopub.status.busy": "2021-07-11T10:36:14.055274Z",
     "iopub.status.idle": "2021-07-11T10:36:14.066056Z",
     "shell.execute_reply": "2021-07-11T10:36:14.065033Z",
     "shell.execute_reply.started": "2021-07-11T10:36:14.055588Z"
    }
   },
   "outputs": [],
   "source": [
    "#Для обработки  копируем столбец отзывов\n",
    "Reviews=data['Reviews_str'].copy()"
   ]
  },
  {
   "cell_type": "code",
   "execution_count": 26,
   "metadata": {
    "execution": {
     "iopub.execute_input": "2021-07-11T10:36:14.067640Z",
     "iopub.status.busy": "2021-07-11T10:36:14.067283Z",
     "iopub.status.idle": "2021-07-11T10:36:25.421768Z",
     "shell.execute_reply": "2021-07-11T10:36:25.420767Z",
     "shell.execute_reply.started": "2021-07-11T10:36:14.067575Z"
    }
   },
   "outputs": [],
   "source": [
    "# Превращаем столбец в DF\n",
    "Reviews = Reviews.apply(pd.Series)"
   ]
  },
  {
   "cell_type": "code",
   "execution_count": 27,
   "metadata": {
    "execution": {
     "iopub.execute_input": "2021-07-11T10:36:25.423347Z",
     "iopub.status.busy": "2021-07-11T10:36:25.423090Z",
     "iopub.status.idle": "2021-07-11T10:36:25.438137Z",
     "shell.execute_reply": "2021-07-11T10:36:25.436988Z",
     "shell.execute_reply.started": "2021-07-11T10:36:25.423299Z"
    }
   },
   "outputs": [],
   "source": [
    "# Удалим мусор, т.к.  отзывы находятся в первых двух колонках\n",
    "del Reviews[2]\n",
    "del Reviews[3]\n",
    "del Reviews[4] "
   ]
  },
  {
   "cell_type": "code",
   "execution_count": 28,
   "metadata": {
    "execution": {
     "iopub.execute_input": "2021-07-11T10:36:25.439712Z",
     "iopub.status.busy": "2021-07-11T10:36:25.439441Z",
     "iopub.status.idle": "2021-07-11T10:36:25.448477Z",
     "shell.execute_reply": "2021-07-11T10:36:25.447575Z",
     "shell.execute_reply.started": "2021-07-11T10:36:25.439662Z"
    }
   },
   "outputs": [],
   "source": [
    "#Переименуем колонки\n",
    "Reviews=Reviews.rename(columns = {0: 'Reviews0', 1: 'Reviews1'})"
   ]
  },
  {
   "cell_type": "code",
   "execution_count": 29,
   "metadata": {
    "execution": {
     "iopub.execute_input": "2021-07-11T10:36:25.450203Z",
     "iopub.status.busy": "2021-07-11T10:36:25.449870Z",
     "iopub.status.idle": "2021-07-11T10:36:25.462632Z",
     "shell.execute_reply": "2021-07-11T10:36:25.461676Z",
     "shell.execute_reply.started": "2021-07-11T10:36:25.450090Z"
    }
   },
   "outputs": [
    {
     "data": {
      "text/plain": [
       "(50000, 2)"
      ]
     },
     "execution_count": 29,
     "metadata": {},
     "output_type": "execute_result"
    }
   ],
   "source": [
    "Reviews.shape"
   ]
  },
  {
   "cell_type": "code",
   "execution_count": null,
   "metadata": {},
   "outputs": [],
   "source": []
  },
  {
   "cell_type": "code",
   "execution_count": 30,
   "metadata": {
    "execution": {
     "iopub.execute_input": "2021-07-11T10:36:25.464034Z",
     "iopub.status.busy": "2021-07-11T10:36:25.463812Z",
     "iopub.status.idle": "2021-07-11T10:36:25.498235Z",
     "shell.execute_reply": "2021-07-11T10:36:25.497546Z",
     "shell.execute_reply.started": "2021-07-11T10:36:25.463998Z"
    }
   },
   "outputs": [],
   "source": [
    "#Присоединим получившиеся две колонки с отзывами к нашим данным\n",
    "#data = data.merge(Reviews[['Reviews0', 'Reviews1']], left_index = True, right_index = True)\n",
    "data = pd.concat([data, Reviews], axis=1)"
   ]
  },
  {
   "cell_type": "code",
   "execution_count": 31,
   "metadata": {
    "execution": {
     "iopub.execute_input": "2021-07-11T10:36:25.499690Z",
     "iopub.status.busy": "2021-07-11T10:36:25.499316Z",
     "iopub.status.idle": "2021-07-11T10:36:25.507342Z",
     "shell.execute_reply": "2021-07-11T10:36:25.506240Z",
     "shell.execute_reply.started": "2021-07-11T10:36:25.499637Z"
    }
   },
   "outputs": [
    {
     "data": {
      "text/plain": [
       "0                                                 [[], []]\n",
       "1        [['Very good reviews!', 'Fine dining in Hakani...\n",
       "2        [['Better than the Links', 'Ivy Black'], ['12/...\n",
       "3        [['Most exquisite', 'Delicious and authentic']...\n",
       "4        [['Always the best in bratislava', 'Very good ...\n",
       "                               ...                        \n",
       "49995    [['The real Italian experience!', 'Wonderful f...\n",
       "49996    [['Parisian atmosphere', 'Bit pricey but inter...\n",
       "49997    [['Good by swedish standards', 'A hidden jewel...\n",
       "49998    [['Underground restaurant', 'Oldest Restaurant...\n",
       "49999    [['Average', 'Nice an informal'], ['01/31/2016...\n",
       "Name: Reviews, Length: 50000, dtype: object"
      ]
     },
     "execution_count": 31,
     "metadata": {},
     "output_type": "execute_result"
    }
   ],
   "source": [
    "data['Reviews']"
   ]
  },
  {
   "cell_type": "code",
   "execution_count": 32,
   "metadata": {
    "execution": {
     "iopub.execute_input": "2021-07-11T10:36:25.508967Z",
     "iopub.status.busy": "2021-07-11T10:36:25.508625Z",
     "iopub.status.idle": "2021-07-11T10:36:25.697291Z",
     "shell.execute_reply": "2021-07-11T10:36:25.696480Z",
     "shell.execute_reply.started": "2021-07-11T10:36:25.508912Z"
    }
   },
   "outputs": [],
   "source": [
    "#Отберем список дат в отдельную колонку \n",
    "data['Reviews_dats'] = data['Reviews'].apply(Row_to_date)"
   ]
  },
  {
   "cell_type": "code",
   "execution_count": 33,
   "metadata": {
    "execution": {
     "iopub.execute_input": "2021-07-11T10:36:25.698813Z",
     "iopub.status.busy": "2021-07-11T10:36:25.698532Z",
     "iopub.status.idle": "2021-07-11T10:36:25.707422Z",
     "shell.execute_reply": "2021-07-11T10:36:25.706403Z",
     "shell.execute_reply.started": "2021-07-11T10:36:25.698750Z"
    }
   },
   "outputs": [
    {
     "data": {
      "text/plain": [
       "0                              []\n",
       "1        [12/05/2017, 10/29/2017]\n",
       "2        [12/28/2017, 12/06/2017]\n",
       "3        [12/06/2017, 11/22/2017]\n",
       "4        [02/08/2018, 01/24/2018]\n",
       "                   ...           \n",
       "49995    [12/16/2017, 11/12/2017]\n",
       "49996    [12/21/2017, 12/12/2017]\n",
       "49997    [11/03/2016, 04/12/2008]\n",
       "49998    [07/11/2017, 06/18/2017]\n",
       "49999    [01/31/2016, 07/04/2012]\n",
       "Name: Reviews_dats, Length: 50000, dtype: object"
      ]
     },
     "execution_count": 33,
     "metadata": {},
     "output_type": "execute_result"
    }
   ],
   "source": [
    "data['Reviews_dats']"
   ]
  },
  {
   "cell_type": "code",
   "execution_count": 34,
   "metadata": {
    "execution": {
     "iopub.execute_input": "2021-07-11T10:36:25.715661Z",
     "iopub.status.busy": "2021-07-11T10:36:25.715386Z",
     "iopub.status.idle": "2021-07-11T10:36:37.039652Z",
     "shell.execute_reply": "2021-07-11T10:36:37.038658Z",
     "shell.execute_reply.started": "2021-07-11T10:36:25.715610Z"
    }
   },
   "outputs": [],
   "source": [
    "# Превращаем список в DF\n",
    "data[['Reviews_data0', 'Reviews_data1']] = data['Reviews_dats'].apply(pd.Series)"
   ]
  },
  {
   "cell_type": "code",
   "execution_count": 35,
   "metadata": {
    "execution": {
     "iopub.execute_input": "2021-07-11T10:36:37.042432Z",
     "iopub.status.busy": "2021-07-11T10:36:37.041861Z",
     "iopub.status.idle": "2021-07-11T10:36:37.102901Z",
     "shell.execute_reply": "2021-07-11T10:36:37.101679Z",
     "shell.execute_reply.started": "2021-07-11T10:36:37.042158Z"
    }
   },
   "outputs": [],
   "source": [
    "# Превратим строковые данные в тип datetime\n",
    "data['Reviews_data0'] = pd.to_datetime(data['Reviews_data0'], errors='coerce')\n",
    "data['Reviews_data1'] = pd.to_datetime(data['Reviews_data1'], errors='coerce')"
   ]
  },
  {
   "cell_type": "code",
   "execution_count": 36,
   "metadata": {
    "execution": {
     "iopub.execute_input": "2021-07-11T10:36:37.104559Z",
     "iopub.status.busy": "2021-07-11T10:36:37.104288Z",
     "iopub.status.idle": "2021-07-11T10:36:37.115093Z",
     "shell.execute_reply": "2021-07-11T10:36:37.114103Z",
     "shell.execute_reply.started": "2021-07-11T10:36:37.104506Z"
    }
   },
   "outputs": [],
   "source": [
    "#  удалим мусор\n",
    "del data['Reviews']\n",
    "del data['Reviews_str']\n",
    "del data['Reviews_dats']"
   ]
  },
  {
   "cell_type": "code",
   "execution_count": 37,
   "metadata": {
    "execution": {
     "iopub.execute_input": "2021-07-11T10:36:37.117109Z",
     "iopub.status.busy": "2021-07-11T10:36:37.116882Z",
     "iopub.status.idle": "2021-07-11T10:36:41.599602Z",
     "shell.execute_reply": "2021-07-11T10:36:41.598694Z",
     "shell.execute_reply.started": "2021-07-11T10:36:37.117068Z"
    }
   },
   "outputs": [],
   "source": [
    "# Найдем разницу в датах\n",
    "data['time_delta'] = data.apply(time_delta, axis=1)"
   ]
  },
  {
   "cell_type": "code",
   "execution_count": 38,
   "metadata": {
    "execution": {
     "iopub.execute_input": "2021-07-11T10:36:41.601423Z",
     "iopub.status.busy": "2021-07-11T10:36:41.601087Z",
     "iopub.status.idle": "2021-07-11T10:36:41.608585Z",
     "shell.execute_reply": "2021-07-11T10:36:41.607434Z",
     "shell.execute_reply.started": "2021-07-11T10:36:41.601361Z"
    }
   },
   "outputs": [],
   "source": [
    "data['NaN_Reviews0'] = pd.isna(data['Reviews_data0']).astype('uint8')"
   ]
  },
  {
   "cell_type": "code",
   "execution_count": 39,
   "metadata": {
    "execution": {
     "iopub.execute_input": "2021-07-11T10:36:41.610538Z",
     "iopub.status.busy": "2021-07-11T10:36:41.610147Z",
     "iopub.status.idle": "2021-07-11T10:36:41.626542Z",
     "shell.execute_reply": "2021-07-11T10:36:41.625408Z",
     "shell.execute_reply.started": "2021-07-11T10:36:41.610471Z"
    }
   },
   "outputs": [],
   "source": [
    "data['NaN_Reviews1'] = pd.isna(data['Reviews_data1']).astype('uint8')"
   ]
  },
  {
   "cell_type": "code",
   "execution_count": 40,
   "metadata": {
    "execution": {
     "iopub.execute_input": "2021-07-11T10:36:41.628622Z",
     "iopub.status.busy": "2021-07-11T10:36:41.628194Z",
     "iopub.status.idle": "2021-07-11T10:36:41.636371Z",
     "shell.execute_reply": "2021-07-11T10:36:41.635294Z",
     "shell.execute_reply.started": "2021-07-11T10:36:41.628554Z"
    }
   },
   "outputs": [],
   "source": [
    "#Заполним пропуски средним числом\n",
    "mean_time_delta=data['time_delta'].mean()"
   ]
  },
  {
   "cell_type": "code",
   "execution_count": 41,
   "metadata": {
    "execution": {
     "iopub.execute_input": "2021-07-11T10:36:41.638484Z",
     "iopub.status.busy": "2021-07-11T10:36:41.638112Z",
     "iopub.status.idle": "2021-07-11T10:36:41.651751Z",
     "shell.execute_reply": "2021-07-11T10:36:41.650588Z",
     "shell.execute_reply.started": "2021-07-11T10:36:41.638428Z"
    }
   },
   "outputs": [],
   "source": [
    "data['time_delta'].fillna(mean_time_delta, inplace=True)"
   ]
  },
  {
   "cell_type": "code",
   "execution_count": 42,
   "metadata": {
    "execution": {
     "iopub.execute_input": "2021-07-11T10:36:41.653906Z",
     "iopub.status.busy": "2021-07-11T10:36:41.653302Z",
     "iopub.status.idle": "2021-07-11T10:36:41.678644Z",
     "shell.execute_reply": "2021-07-11T10:36:41.677672Z",
     "shell.execute_reply.started": "2021-07-11T10:36:41.653850Z"
    }
   },
   "outputs": [],
   "source": [
    "data['Reviews0'] = data['Reviews0'].fillna('')\n",
    "data['Reviews1'] = data['Reviews1'].fillna('')"
   ]
  },
  {
   "cell_type": "code",
   "execution_count": 43,
   "metadata": {
    "execution": {
     "iopub.execute_input": "2021-07-11T10:36:41.680054Z",
     "iopub.status.busy": "2021-07-11T10:36:41.679686Z",
     "iopub.status.idle": "2021-07-11T10:37:04.829410Z",
     "shell.execute_reply": "2021-07-11T10:37:04.828381Z",
     "shell.execute_reply.started": "2021-07-11T10:36:41.680008Z"
    }
   },
   "outputs": [],
   "source": [
    "data['Review_0'] = data['Reviews0'].apply(lambda x: TextBlob(x).polarity)\n"
   ]
  },
  {
   "cell_type": "code",
   "execution_count": 44,
   "metadata": {
    "execution": {
     "iopub.execute_input": "2021-07-11T10:37:04.831557Z",
     "iopub.status.busy": "2021-07-11T10:37:04.831204Z",
     "iopub.status.idle": "2021-07-11T10:37:27.695192Z",
     "shell.execute_reply": "2021-07-11T10:37:27.694277Z",
     "shell.execute_reply.started": "2021-07-11T10:37:04.831490Z"
    }
   },
   "outputs": [],
   "source": [
    "data['Review_1'] = data['Reviews1'].apply(lambda x: TextBlob(x).polarity)"
   ]
  },
  {
   "cell_type": "code",
   "execution_count": 45,
   "metadata": {
    "execution": {
     "iopub.execute_input": "2021-07-11T10:37:27.696951Z",
     "iopub.status.busy": "2021-07-11T10:37:27.696596Z",
     "iopub.status.idle": "2021-07-11T10:37:27.736589Z",
     "shell.execute_reply": "2021-07-11T10:37:27.735618Z",
     "shell.execute_reply.started": "2021-07-11T10:37:27.696884Z"
    }
   },
   "outputs": [
    {
     "name": "stdout",
     "output_type": "stream",
     "text": [
      "<class 'pandas.core.frame.DataFrame'>\n",
      "RangeIndex: 50000 entries, 0 to 49999\n",
      "Data columns (total 20 columns):\n",
      "Restaurant_id              50000 non-null object\n",
      "City                       50000 non-null object\n",
      "Cuisine Style              38410 non-null object\n",
      "Ranking                    50000 non-null float64\n",
      "Price Range                32639 non-null object\n",
      "Number of Reviews          46800 non-null float64\n",
      "URL_TA                     50000 non-null object\n",
      "ID_TA                      50000 non-null object\n",
      "sample                     50000 non-null int64\n",
      "Rating                     50000 non-null float64\n",
      "Number_of_Reviews_isNAN    50000 non-null uint8\n",
      "Reviews0                   50000 non-null object\n",
      "Reviews1                   50000 non-null object\n",
      "Reviews_data0              41886 non-null datetime64[ns]\n",
      "Reviews_data1              36206 non-null datetime64[ns]\n",
      "time_delta                 50000 non-null float64\n",
      "NaN_Reviews0               50000 non-null uint8\n",
      "NaN_Reviews1               50000 non-null uint8\n",
      "Review_0                   50000 non-null float64\n",
      "Review_1                   50000 non-null float64\n",
      "dtypes: datetime64[ns](2), float64(6), int64(1), object(8), uint8(3)\n",
      "memory usage: 6.6+ MB\n"
     ]
    }
   ],
   "source": [
    "data.info()"
   ]
  },
  {
   "cell_type": "markdown",
   "metadata": {},
   "source": [
    "### Поле Price Range"
   ]
  },
  {
   "cell_type": "code",
   "execution_count": 46,
   "metadata": {
    "execution": {
     "iopub.execute_input": "2021-07-11T10:37:27.738438Z",
     "iopub.status.busy": "2021-07-11T10:37:27.738072Z",
     "iopub.status.idle": "2021-07-11T10:37:27.746865Z",
     "shell.execute_reply": "2021-07-11T10:37:27.745500Z",
     "shell.execute_reply.started": "2021-07-11T10:37:27.738384Z"
    }
   },
   "outputs": [],
   "source": [
    "data['NaN_Price Range'] = pd.isna(data['Price Range']).astype('uint8')"
   ]
  },
  {
   "cell_type": "code",
   "execution_count": 47,
   "metadata": {
    "execution": {
     "iopub.execute_input": "2021-07-11T10:37:27.748378Z",
     "iopub.status.busy": "2021-07-11T10:37:27.748131Z",
     "iopub.status.idle": "2021-07-11T10:37:27.779763Z",
     "shell.execute_reply": "2021-07-11T10:37:27.778739Z",
     "shell.execute_reply.started": "2021-07-11T10:37:27.748323Z"
    }
   },
   "outputs": [],
   "source": [
    "# Переведем ранги цен из знаков  в цифры\n",
    "data['Price Range'] = data['Price Range'].apply(PricetoRange)"
   ]
  },
  {
   "cell_type": "code",
   "execution_count": 48,
   "metadata": {
    "execution": {
     "iopub.execute_input": "2021-07-11T10:37:27.781408Z",
     "iopub.status.busy": "2021-07-11T10:37:27.781149Z",
     "iopub.status.idle": "2021-07-11T10:37:27.797555Z",
     "shell.execute_reply": "2021-07-11T10:37:27.796263Z",
     "shell.execute_reply.started": "2021-07-11T10:37:27.781359Z"
    }
   },
   "outputs": [],
   "source": [
    "# Пропуски в Price Range заполним средним по городу\n",
    "men = data.groupby('City')['Price Range'].transform('mean')\n",
    "data['Price Range'] = data['Price Range'].fillna(men)"
   ]
  },
  {
   "cell_type": "code",
   "execution_count": 49,
   "metadata": {
    "execution": {
     "iopub.execute_input": "2021-07-11T10:37:27.799166Z",
     "iopub.status.busy": "2021-07-11T10:37:27.798864Z",
     "iopub.status.idle": "2021-07-11T10:37:27.802309Z",
     "shell.execute_reply": "2021-07-11T10:37:27.801517Z",
     "shell.execute_reply.started": "2021-07-11T10:37:27.799120Z"
    }
   },
   "outputs": [],
   "source": [
    "#Округлим средние до целого\n",
    "#data['Price Range']=data['Price Range'].astype('uint8')"
   ]
  },
  {
   "cell_type": "markdown",
   "metadata": {},
   "source": [
    "### Поле City"
   ]
  },
  {
   "cell_type": "markdown",
   "metadata": {},
   "source": [
    "Присоединим поля из cities с названиями стран и количеством населения в городаж к нашему датасету"
   ]
  },
  {
   "cell_type": "code",
   "execution_count": 50,
   "metadata": {
    "execution": {
     "iopub.execute_input": "2021-07-11T10:37:27.804314Z",
     "iopub.status.busy": "2021-07-11T10:37:27.803879Z",
     "iopub.status.idle": "2021-07-11T10:37:27.852842Z",
     "shell.execute_reply": "2021-07-11T10:37:27.851912Z",
     "shell.execute_reply.started": "2021-07-11T10:37:27.804259Z"
    }
   },
   "outputs": [],
   "source": [
    "#Очистим названия городов от пробелов и приведем к нижнему регистру\n",
    "data.City=data.City.str.lower()\n",
    "data.City=data.City.str.strip()"
   ]
  },
  {
   "cell_type": "code",
   "execution_count": 51,
   "metadata": {
    "execution": {
     "iopub.execute_input": "2021-07-11T10:37:27.854118Z",
     "iopub.status.busy": "2021-07-11T10:37:27.853910Z",
     "iopub.status.idle": "2021-07-11T10:37:27.860892Z",
     "shell.execute_reply": "2021-07-11T10:37:27.859621Z",
     "shell.execute_reply.started": "2021-07-11T10:37:27.854086Z"
    }
   },
   "outputs": [],
   "source": [
    "#Приведем  колонки к единобразному названию \n",
    "cities=cities.rename(columns={'city': 'City', 'country': 'Country', 'population': 'Population'})"
   ]
  },
  {
   "cell_type": "code",
   "execution_count": 52,
   "metadata": {
    "execution": {
     "iopub.execute_input": "2021-07-11T10:37:27.862904Z",
     "iopub.status.busy": "2021-07-11T10:37:27.862571Z",
     "iopub.status.idle": "2021-07-11T10:37:27.876395Z",
     "shell.execute_reply": "2021-07-11T10:37:27.875246Z",
     "shell.execute_reply.started": "2021-07-11T10:37:27.862850Z"
    }
   },
   "outputs": [],
   "source": [
    "cities.City=cities.City.str.lower()\n",
    "cities.City=cities.City.str.strip()"
   ]
  },
  {
   "cell_type": "code",
   "execution_count": 53,
   "metadata": {
    "execution": {
     "iopub.execute_input": "2021-07-11T10:37:27.878356Z",
     "iopub.status.busy": "2021-07-11T10:37:27.877940Z",
     "iopub.status.idle": "2021-07-11T10:37:27.893722Z",
     "shell.execute_reply": "2021-07-11T10:37:27.892897Z",
     "shell.execute_reply.started": "2021-07-11T10:37:27.878298Z"
    }
   },
   "outputs": [
    {
     "data": {
      "text/plain": [
       "265          suzhou\n",
       "291        santiago\n",
       "322       hyderabad\n",
       "396      vila velha\n",
       "520           natal\n",
       "           ...     \n",
       "4576         mérida\n",
       "4581       hamilton\n",
       "4613    saint cloud\n",
       "4640       trujillo\n",
       "4645       lakewood\n",
       "Name: City, Length: 158, dtype: object"
      ]
     },
     "execution_count": 53,
     "metadata": {},
     "output_type": "execute_result"
    }
   ],
   "source": [
    "#Имеются дубликаты назаний городов, что приведет к дублированию строк после merge\n",
    "cities.City[cities.City.duplicated()==True]"
   ]
  },
  {
   "cell_type": "code",
   "execution_count": 54,
   "metadata": {
    "execution": {
     "iopub.execute_input": "2021-07-11T10:37:27.895322Z",
     "iopub.status.busy": "2021-07-11T10:37:27.894897Z",
     "iopub.status.idle": "2021-07-11T10:37:27.914682Z",
     "shell.execute_reply": "2021-07-11T10:37:27.913922Z",
     "shell.execute_reply.started": "2021-07-11T10:37:27.895277Z"
    }
   },
   "outputs": [],
   "source": [
    "#Оставим только крупнейшие города из дубликатов \n",
    "cities=cities.sort_values(by='Population', ascending=False).groupby('City', as_index=False).first()"
   ]
  },
  {
   "cell_type": "code",
   "execution_count": 55,
   "metadata": {
    "execution": {
     "iopub.execute_input": "2021-07-11T10:37:27.916532Z",
     "iopub.status.busy": "2021-07-11T10:37:27.915954Z",
     "iopub.status.idle": "2021-07-11T10:37:27.973726Z",
     "shell.execute_reply": "2021-07-11T10:37:27.973122Z",
     "shell.execute_reply.started": "2021-07-11T10:37:27.916477Z"
    }
   },
   "outputs": [],
   "source": [
    "#Объединим таблицы по колонке City\n",
    "data=data.merge(cities, on='City', how='left')"
   ]
  },
  {
   "cell_type": "code",
   "execution_count": 56,
   "metadata": {
    "execution": {
     "iopub.execute_input": "2021-07-11T10:37:27.975029Z",
     "iopub.status.busy": "2021-07-11T10:37:27.974652Z",
     "iopub.status.idle": "2021-07-11T10:37:28.019643Z",
     "shell.execute_reply": "2021-07-11T10:37:28.018989Z",
     "shell.execute_reply.started": "2021-07-11T10:37:27.974990Z"
    }
   },
   "outputs": [
    {
     "name": "stdout",
     "output_type": "stream",
     "text": [
      "<class 'pandas.core.frame.DataFrame'>\n",
      "Int64Index: 50000 entries, 0 to 49999\n",
      "Data columns (total 25 columns):\n",
      "Restaurant_id              50000 non-null object\n",
      "City                       50000 non-null object\n",
      "Cuisine Style              38410 non-null object\n",
      "Ranking                    50000 non-null float64\n",
      "Price Range                50000 non-null float64\n",
      "Number of Reviews          46800 non-null float64\n",
      "URL_TA                     50000 non-null object\n",
      "ID_TA                      50000 non-null object\n",
      "sample                     50000 non-null int64\n",
      "Rating                     50000 non-null float64\n",
      "Number_of_Reviews_isNAN    50000 non-null uint8\n",
      "Reviews0                   50000 non-null object\n",
      "Reviews1                   50000 non-null object\n",
      "Reviews_data0              41886 non-null datetime64[ns]\n",
      "Reviews_data1              36206 non-null datetime64[ns]\n",
      "time_delta                 50000 non-null float64\n",
      "NaN_Reviews0               50000 non-null uint8\n",
      "NaN_Reviews1               50000 non-null uint8\n",
      "Review_0                   50000 non-null float64\n",
      "Review_1                   50000 non-null float64\n",
      "NaN_Price Range            50000 non-null uint8\n",
      "lat                        47300 non-null float64\n",
      "lng                        47300 non-null float64\n",
      "Country                    47300 non-null object\n",
      "Population                 47300 non-null float64\n",
      "dtypes: datetime64[ns](2), float64(10), int64(1), object(8), uint8(4)\n",
      "memory usage: 8.6+ MB\n"
     ]
    }
   ],
   "source": [
    "data.info()"
   ]
  },
  {
   "cell_type": "markdown",
   "metadata": {},
   "source": [
    "### Поле Cuisine Style"
   ]
  },
  {
   "cell_type": "code",
   "execution_count": 57,
   "metadata": {
    "execution": {
     "iopub.execute_input": "2021-07-11T10:37:28.021274Z",
     "iopub.status.busy": "2021-07-11T10:37:28.021024Z",
     "iopub.status.idle": "2021-07-11T10:37:28.230956Z",
     "shell.execute_reply": "2021-07-11T10:37:28.230295Z",
     "shell.execute_reply.started": "2021-07-11T10:37:28.021231Z"
    }
   },
   "outputs": [],
   "source": [
    "# Превращаем строковый тип поля Cuisine Style в список кухонь\n",
    "data['Cuisine Style']=data['Cuisine Style'].apply(Row_to_tuple)"
   ]
  },
  {
   "cell_type": "code",
   "execution_count": 58,
   "metadata": {
    "execution": {
     "iopub.execute_input": "2021-07-11T10:37:28.232216Z",
     "iopub.status.busy": "2021-07-11T10:37:28.231882Z",
     "iopub.status.idle": "2021-07-11T10:37:28.251767Z",
     "shell.execute_reply": "2021-07-11T10:37:28.251066Z",
     "shell.execute_reply.started": "2021-07-11T10:37:28.232180Z"
    }
   },
   "outputs": [],
   "source": [
    "# Заменим в поле Cuisine Style записи типа [[],[]] на np.nan\n",
    "data['Cuisine Style']=data['Cuisine Style'].apply(lambda row: row if len(row)!=0  else np.nan)"
   ]
  },
  {
   "cell_type": "code",
   "execution_count": 59,
   "metadata": {
    "execution": {
     "iopub.execute_input": "2021-07-11T10:37:28.253155Z",
     "iopub.status.busy": "2021-07-11T10:37:28.252780Z",
     "iopub.status.idle": "2021-07-11T10:37:28.261142Z",
     "shell.execute_reply": "2021-07-11T10:37:28.260377Z",
     "shell.execute_reply.started": "2021-07-11T10:37:28.253115Z"
    }
   },
   "outputs": [],
   "source": [
    "data['NaN_Cuisine Style'] = pd.isna(data['Cuisine Style']).astype('uint8')"
   ]
  },
  {
   "cell_type": "code",
   "execution_count": 60,
   "metadata": {
    "execution": {
     "iopub.execute_input": "2021-07-11T10:37:28.262476Z",
     "iopub.status.busy": "2021-07-11T10:37:28.262144Z",
     "iopub.status.idle": "2021-07-11T10:37:28.273880Z",
     "shell.execute_reply": "2021-07-11T10:37:28.273137Z",
     "shell.execute_reply.started": "2021-07-11T10:37:28.262439Z"
    }
   },
   "outputs": [],
   "source": [
    "#data.loc[data['Cuisine Style'].isnull(), 'Cuisine Style'] = data.groupby('City').transform('mean')"
   ]
  },
  {
   "cell_type": "code",
   "execution_count": null,
   "metadata": {},
   "outputs": [],
   "source": []
  },
  {
   "cell_type": "code",
   "execution_count": 61,
   "metadata": {
    "execution": {
     "iopub.execute_input": "2021-07-11T10:37:28.275266Z",
     "iopub.status.busy": "2021-07-11T10:37:28.274929Z",
     "iopub.status.idle": "2021-07-11T10:37:28.317893Z",
     "shell.execute_reply": "2021-07-11T10:37:28.316975Z",
     "shell.execute_reply.started": "2021-07-11T10:37:28.275230Z"
    }
   },
   "outputs": [
    {
     "name": "stdout",
     "output_type": "stream",
     "text": [
      "<class 'pandas.core.frame.DataFrame'>\n",
      "Int64Index: 50000 entries, 0 to 49999\n",
      "Data columns (total 26 columns):\n",
      "Restaurant_id              50000 non-null object\n",
      "City                       50000 non-null object\n",
      "Cuisine Style              38410 non-null object\n",
      "Ranking                    50000 non-null float64\n",
      "Price Range                50000 non-null float64\n",
      "Number of Reviews          46800 non-null float64\n",
      "URL_TA                     50000 non-null object\n",
      "ID_TA                      50000 non-null object\n",
      "sample                     50000 non-null int64\n",
      "Rating                     50000 non-null float64\n",
      "Number_of_Reviews_isNAN    50000 non-null uint8\n",
      "Reviews0                   50000 non-null object\n",
      "Reviews1                   50000 non-null object\n",
      "Reviews_data0              41886 non-null datetime64[ns]\n",
      "Reviews_data1              36206 non-null datetime64[ns]\n",
      "time_delta                 50000 non-null float64\n",
      "NaN_Reviews0               50000 non-null uint8\n",
      "NaN_Reviews1               50000 non-null uint8\n",
      "Review_0                   50000 non-null float64\n",
      "Review_1                   50000 non-null float64\n",
      "NaN_Price Range            50000 non-null uint8\n",
      "lat                        47300 non-null float64\n",
      "lng                        47300 non-null float64\n",
      "Country                    47300 non-null object\n",
      "Population                 47300 non-null float64\n",
      "NaN_Cuisine Style          50000 non-null uint8\n",
      "dtypes: datetime64[ns](2), float64(10), int64(1), object(8), uint8(5)\n",
      "memory usage: 8.6+ MB\n"
     ]
    }
   ],
   "source": [
    "data.info()"
   ]
  },
  {
   "cell_type": "markdown",
   "metadata": {},
   "source": [
    "Далее очень коряво, но я оставил свое решение по заполнению 'Cuisine Style' наиболее часто втречающимися значениями по городам"
   ]
  },
  {
   "cell_type": "code",
   "execution_count": 62,
   "metadata": {
    "execution": {
     "iopub.execute_input": "2021-07-11T10:37:28.319830Z",
     "iopub.status.busy": "2021-07-11T10:37:28.319294Z",
     "iopub.status.idle": "2021-07-11T10:37:28.373288Z",
     "shell.execute_reply": "2021-07-11T10:37:28.372347Z",
     "shell.execute_reply.started": "2021-07-11T10:37:28.319754Z"
    }
   },
   "outputs": [],
   "source": [
    "# Соберем в отдельную таблицу наиболее часто встречающуюся кухню в странах\n",
    "mod = data.groupby('City')['Cuisine Style'].apply(pd.Series.mode).reset_index()"
   ]
  },
  {
   "cell_type": "code",
   "execution_count": 63,
   "metadata": {
    "execution": {
     "iopub.execute_input": "2021-07-11T10:37:28.374758Z",
     "iopub.status.busy": "2021-07-11T10:37:28.374514Z",
     "iopub.status.idle": "2021-07-11T10:37:28.378856Z",
     "shell.execute_reply": "2021-07-11T10:37:28.377749Z",
     "shell.execute_reply.started": "2021-07-11T10:37:28.374714Z"
    }
   },
   "outputs": [],
   "source": [
    "del mod['level_1']"
   ]
  },
  {
   "cell_type": "code",
   "execution_count": 64,
   "metadata": {
    "execution": {
     "iopub.execute_input": "2021-07-11T10:37:28.380275Z",
     "iopub.status.busy": "2021-07-11T10:37:28.380058Z",
     "iopub.status.idle": "2021-07-11T10:37:28.408371Z",
     "shell.execute_reply": "2021-07-11T10:37:28.407776Z",
     "shell.execute_reply.started": "2021-07-11T10:37:28.380236Z"
    }
   },
   "outputs": [
    {
     "data": {
      "text/html": [
       "<div>\n",
       "<style scoped>\n",
       "    .dataframe tbody tr th:only-of-type {\n",
       "        vertical-align: middle;\n",
       "    }\n",
       "\n",
       "    .dataframe tbody tr th {\n",
       "        vertical-align: top;\n",
       "    }\n",
       "\n",
       "    .dataframe thead th {\n",
       "        text-align: right;\n",
       "    }\n",
       "</style>\n",
       "<table border=\"1\" class=\"dataframe\">\n",
       "  <thead>\n",
       "    <tr style=\"text-align: right;\">\n",
       "      <th></th>\n",
       "      <th>City</th>\n",
       "      <th>Cuisine Style</th>\n",
       "    </tr>\n",
       "  </thead>\n",
       "  <tbody>\n",
       "    <tr>\n",
       "      <th>0</th>\n",
       "      <td>amsterdam</td>\n",
       "      <td>(European, Dutch)</td>\n",
       "    </tr>\n",
       "    <tr>\n",
       "      <th>1</th>\n",
       "      <td>athens</td>\n",
       "      <td>(Greek,)</td>\n",
       "    </tr>\n",
       "    <tr>\n",
       "      <th>2</th>\n",
       "      <td>barcelona</td>\n",
       "      <td>(Spanish,)</td>\n",
       "    </tr>\n",
       "    <tr>\n",
       "      <th>3</th>\n",
       "      <td>berlin</td>\n",
       "      <td>(Italian,)</td>\n",
       "    </tr>\n",
       "    <tr>\n",
       "      <th>4</th>\n",
       "      <td>bratislava</td>\n",
       "      <td>(Pub,)</td>\n",
       "    </tr>\n",
       "    <tr>\n",
       "      <th>5</th>\n",
       "      <td>brussels</td>\n",
       "      <td>(Belgian, European)</td>\n",
       "    </tr>\n",
       "    <tr>\n",
       "      <th>6</th>\n",
       "      <td>budapest</td>\n",
       "      <td>(Hungarian, European)</td>\n",
       "    </tr>\n",
       "    <tr>\n",
       "      <th>7</th>\n",
       "      <td>copenhagen</td>\n",
       "      <td>(Scandinavian, European, Danish)</td>\n",
       "    </tr>\n",
       "    <tr>\n",
       "      <th>8</th>\n",
       "      <td>dublin</td>\n",
       "      <td>(Irish, Pub, Bar)</td>\n",
       "    </tr>\n",
       "    <tr>\n",
       "      <th>9</th>\n",
       "      <td>edinburgh</td>\n",
       "      <td>(Cafe,)</td>\n",
       "    </tr>\n",
       "    <tr>\n",
       "      <th>10</th>\n",
       "      <td>geneva</td>\n",
       "      <td>(European, Mediterranean, French)</td>\n",
       "    </tr>\n",
       "    <tr>\n",
       "      <th>11</th>\n",
       "      <td>hamburg</td>\n",
       "      <td>(Italian,)</td>\n",
       "    </tr>\n",
       "    <tr>\n",
       "      <th>12</th>\n",
       "      <td>helsinki</td>\n",
       "      <td>(Scandinavian, European)</td>\n",
       "    </tr>\n",
       "    <tr>\n",
       "      <th>13</th>\n",
       "      <td>krakow</td>\n",
       "      <td>(European, Polish)</td>\n",
       "    </tr>\n",
       "    <tr>\n",
       "      <th>14</th>\n",
       "      <td>lisbon</td>\n",
       "      <td>(European, Portuguese)</td>\n",
       "    </tr>\n",
       "    <tr>\n",
       "      <th>15</th>\n",
       "      <td>ljubljana</td>\n",
       "      <td>(Slovenian, European)</td>\n",
       "    </tr>\n",
       "    <tr>\n",
       "      <th>16</th>\n",
       "      <td>london</td>\n",
       "      <td>(Pub, Bar, British)</td>\n",
       "    </tr>\n",
       "    <tr>\n",
       "      <th>17</th>\n",
       "      <td>luxembourg</td>\n",
       "      <td>(European, French)</td>\n",
       "    </tr>\n",
       "    <tr>\n",
       "      <th>18</th>\n",
       "      <td>lyon</td>\n",
       "      <td>(French,)</td>\n",
       "    </tr>\n",
       "    <tr>\n",
       "      <th>19</th>\n",
       "      <td>madrid</td>\n",
       "      <td>(Spanish,)</td>\n",
       "    </tr>\n",
       "    <tr>\n",
       "      <th>20</th>\n",
       "      <td>milan</td>\n",
       "      <td>(Italian,)</td>\n",
       "    </tr>\n",
       "    <tr>\n",
       "      <th>21</th>\n",
       "      <td>munich</td>\n",
       "      <td>(Italian,)</td>\n",
       "    </tr>\n",
       "    <tr>\n",
       "      <th>22</th>\n",
       "      <td>oporto</td>\n",
       "      <td>(European, Portuguese)</td>\n",
       "    </tr>\n",
       "    <tr>\n",
       "      <th>23</th>\n",
       "      <td>oslo</td>\n",
       "      <td>(Pub,)</td>\n",
       "    </tr>\n",
       "    <tr>\n",
       "      <th>24</th>\n",
       "      <td>paris</td>\n",
       "      <td>(French,)</td>\n",
       "    </tr>\n",
       "    <tr>\n",
       "      <th>25</th>\n",
       "      <td>prague</td>\n",
       "      <td>(Czech, European)</td>\n",
       "    </tr>\n",
       "    <tr>\n",
       "      <th>26</th>\n",
       "      <td>rome</td>\n",
       "      <td>(Italian,)</td>\n",
       "    </tr>\n",
       "    <tr>\n",
       "      <th>27</th>\n",
       "      <td>stockholm</td>\n",
       "      <td>(Swedish, European)</td>\n",
       "    </tr>\n",
       "    <tr>\n",
       "      <th>28</th>\n",
       "      <td>vienna</td>\n",
       "      <td>(European, Austrian)</td>\n",
       "    </tr>\n",
       "    <tr>\n",
       "      <th>29</th>\n",
       "      <td>warsaw</td>\n",
       "      <td>(European, Polish)</td>\n",
       "    </tr>\n",
       "    <tr>\n",
       "      <th>30</th>\n",
       "      <td>zurich</td>\n",
       "      <td>(European, Swiss)</td>\n",
       "    </tr>\n",
       "  </tbody>\n",
       "</table>\n",
       "</div>"
      ],
      "text/plain": [
       "          City                      Cuisine Style\n",
       "0    amsterdam                  (European, Dutch)\n",
       "1       athens                           (Greek,)\n",
       "2    barcelona                         (Spanish,)\n",
       "3       berlin                         (Italian,)\n",
       "4   bratislava                             (Pub,)\n",
       "5     brussels                (Belgian, European)\n",
       "6     budapest              (Hungarian, European)\n",
       "7   copenhagen   (Scandinavian, European, Danish)\n",
       "8       dublin                  (Irish, Pub, Bar)\n",
       "9    edinburgh                            (Cafe,)\n",
       "10      geneva  (European, Mediterranean, French)\n",
       "11     hamburg                         (Italian,)\n",
       "12    helsinki           (Scandinavian, European)\n",
       "13      krakow                 (European, Polish)\n",
       "14      lisbon             (European, Portuguese)\n",
       "15   ljubljana              (Slovenian, European)\n",
       "16      london                (Pub, Bar, British)\n",
       "17  luxembourg                 (European, French)\n",
       "18        lyon                          (French,)\n",
       "19      madrid                         (Spanish,)\n",
       "20       milan                         (Italian,)\n",
       "21      munich                         (Italian,)\n",
       "22      oporto             (European, Portuguese)\n",
       "23        oslo                             (Pub,)\n",
       "24       paris                          (French,)\n",
       "25      prague                  (Czech, European)\n",
       "26        rome                         (Italian,)\n",
       "27   stockholm                (Swedish, European)\n",
       "28      vienna               (European, Austrian)\n",
       "29      warsaw                 (European, Polish)\n",
       "30      zurich                  (European, Swiss)"
      ]
     },
     "execution_count": 64,
     "metadata": {},
     "output_type": "execute_result"
    }
   ],
   "source": [
    "mod"
   ]
  },
  {
   "cell_type": "code",
   "execution_count": 65,
   "metadata": {
    "execution": {
     "iopub.execute_input": "2021-07-11T10:37:28.409645Z",
     "iopub.status.busy": "2021-07-11T10:37:28.409287Z",
     "iopub.status.idle": "2021-07-11T10:37:28.414722Z",
     "shell.execute_reply": "2021-07-11T10:37:28.414193Z",
     "shell.execute_reply.started": "2021-07-11T10:37:28.409607Z"
    }
   },
   "outputs": [],
   "source": [
    "mod.drop_duplicates(inplace=True)"
   ]
  },
  {
   "cell_type": "code",
   "execution_count": 66,
   "metadata": {
    "execution": {
     "iopub.execute_input": "2021-07-11T10:37:28.415928Z",
     "iopub.status.busy": "2021-07-11T10:37:28.415595Z",
     "iopub.status.idle": "2021-07-11T10:37:28.440424Z",
     "shell.execute_reply": "2021-07-11T10:37:28.439837Z",
     "shell.execute_reply.started": "2021-07-11T10:37:28.415891Z"
    }
   },
   "outputs": [
    {
     "data": {
      "text/html": [
       "<div>\n",
       "<style scoped>\n",
       "    .dataframe tbody tr th:only-of-type {\n",
       "        vertical-align: middle;\n",
       "    }\n",
       "\n",
       "    .dataframe tbody tr th {\n",
       "        vertical-align: top;\n",
       "    }\n",
       "\n",
       "    .dataframe thead th {\n",
       "        text-align: right;\n",
       "    }\n",
       "</style>\n",
       "<table border=\"1\" class=\"dataframe\">\n",
       "  <thead>\n",
       "    <tr style=\"text-align: right;\">\n",
       "      <th></th>\n",
       "      <th>City</th>\n",
       "      <th>Cuisine Style</th>\n",
       "    </tr>\n",
       "  </thead>\n",
       "  <tbody>\n",
       "    <tr>\n",
       "      <th>0</th>\n",
       "      <td>amsterdam</td>\n",
       "      <td>(European, Dutch)</td>\n",
       "    </tr>\n",
       "    <tr>\n",
       "      <th>1</th>\n",
       "      <td>athens</td>\n",
       "      <td>(Greek,)</td>\n",
       "    </tr>\n",
       "    <tr>\n",
       "      <th>2</th>\n",
       "      <td>barcelona</td>\n",
       "      <td>(Spanish,)</td>\n",
       "    </tr>\n",
       "    <tr>\n",
       "      <th>3</th>\n",
       "      <td>berlin</td>\n",
       "      <td>(Italian,)</td>\n",
       "    </tr>\n",
       "    <tr>\n",
       "      <th>4</th>\n",
       "      <td>bratislava</td>\n",
       "      <td>(Pub,)</td>\n",
       "    </tr>\n",
       "    <tr>\n",
       "      <th>5</th>\n",
       "      <td>brussels</td>\n",
       "      <td>(Belgian, European)</td>\n",
       "    </tr>\n",
       "    <tr>\n",
       "      <th>6</th>\n",
       "      <td>budapest</td>\n",
       "      <td>(Hungarian, European)</td>\n",
       "    </tr>\n",
       "    <tr>\n",
       "      <th>7</th>\n",
       "      <td>copenhagen</td>\n",
       "      <td>(Scandinavian, European, Danish)</td>\n",
       "    </tr>\n",
       "    <tr>\n",
       "      <th>8</th>\n",
       "      <td>dublin</td>\n",
       "      <td>(Irish, Pub, Bar)</td>\n",
       "    </tr>\n",
       "    <tr>\n",
       "      <th>9</th>\n",
       "      <td>edinburgh</td>\n",
       "      <td>(Cafe,)</td>\n",
       "    </tr>\n",
       "    <tr>\n",
       "      <th>10</th>\n",
       "      <td>geneva</td>\n",
       "      <td>(European, Mediterranean, French)</td>\n",
       "    </tr>\n",
       "    <tr>\n",
       "      <th>11</th>\n",
       "      <td>hamburg</td>\n",
       "      <td>(Italian,)</td>\n",
       "    </tr>\n",
       "    <tr>\n",
       "      <th>12</th>\n",
       "      <td>helsinki</td>\n",
       "      <td>(Scandinavian, European)</td>\n",
       "    </tr>\n",
       "    <tr>\n",
       "      <th>13</th>\n",
       "      <td>krakow</td>\n",
       "      <td>(European, Polish)</td>\n",
       "    </tr>\n",
       "    <tr>\n",
       "      <th>14</th>\n",
       "      <td>lisbon</td>\n",
       "      <td>(European, Portuguese)</td>\n",
       "    </tr>\n",
       "    <tr>\n",
       "      <th>15</th>\n",
       "      <td>ljubljana</td>\n",
       "      <td>(Slovenian, European)</td>\n",
       "    </tr>\n",
       "    <tr>\n",
       "      <th>16</th>\n",
       "      <td>london</td>\n",
       "      <td>(Pub, Bar, British)</td>\n",
       "    </tr>\n",
       "    <tr>\n",
       "      <th>17</th>\n",
       "      <td>luxembourg</td>\n",
       "      <td>(European, French)</td>\n",
       "    </tr>\n",
       "    <tr>\n",
       "      <th>18</th>\n",
       "      <td>lyon</td>\n",
       "      <td>(French,)</td>\n",
       "    </tr>\n",
       "    <tr>\n",
       "      <th>19</th>\n",
       "      <td>madrid</td>\n",
       "      <td>(Spanish,)</td>\n",
       "    </tr>\n",
       "    <tr>\n",
       "      <th>20</th>\n",
       "      <td>milan</td>\n",
       "      <td>(Italian,)</td>\n",
       "    </tr>\n",
       "    <tr>\n",
       "      <th>21</th>\n",
       "      <td>munich</td>\n",
       "      <td>(Italian,)</td>\n",
       "    </tr>\n",
       "    <tr>\n",
       "      <th>22</th>\n",
       "      <td>oporto</td>\n",
       "      <td>(European, Portuguese)</td>\n",
       "    </tr>\n",
       "    <tr>\n",
       "      <th>23</th>\n",
       "      <td>oslo</td>\n",
       "      <td>(Pub,)</td>\n",
       "    </tr>\n",
       "    <tr>\n",
       "      <th>24</th>\n",
       "      <td>paris</td>\n",
       "      <td>(French,)</td>\n",
       "    </tr>\n",
       "    <tr>\n",
       "      <th>25</th>\n",
       "      <td>prague</td>\n",
       "      <td>(Czech, European)</td>\n",
       "    </tr>\n",
       "    <tr>\n",
       "      <th>26</th>\n",
       "      <td>rome</td>\n",
       "      <td>(Italian,)</td>\n",
       "    </tr>\n",
       "    <tr>\n",
       "      <th>27</th>\n",
       "      <td>stockholm</td>\n",
       "      <td>(Swedish, European)</td>\n",
       "    </tr>\n",
       "    <tr>\n",
       "      <th>28</th>\n",
       "      <td>vienna</td>\n",
       "      <td>(European, Austrian)</td>\n",
       "    </tr>\n",
       "    <tr>\n",
       "      <th>29</th>\n",
       "      <td>warsaw</td>\n",
       "      <td>(European, Polish)</td>\n",
       "    </tr>\n",
       "    <tr>\n",
       "      <th>30</th>\n",
       "      <td>zurich</td>\n",
       "      <td>(European, Swiss)</td>\n",
       "    </tr>\n",
       "  </tbody>\n",
       "</table>\n",
       "</div>"
      ],
      "text/plain": [
       "          City                      Cuisine Style\n",
       "0    amsterdam                  (European, Dutch)\n",
       "1       athens                           (Greek,)\n",
       "2    barcelona                         (Spanish,)\n",
       "3       berlin                         (Italian,)\n",
       "4   bratislava                             (Pub,)\n",
       "5     brussels                (Belgian, European)\n",
       "6     budapest              (Hungarian, European)\n",
       "7   copenhagen   (Scandinavian, European, Danish)\n",
       "8       dublin                  (Irish, Pub, Bar)\n",
       "9    edinburgh                            (Cafe,)\n",
       "10      geneva  (European, Mediterranean, French)\n",
       "11     hamburg                         (Italian,)\n",
       "12    helsinki           (Scandinavian, European)\n",
       "13      krakow                 (European, Polish)\n",
       "14      lisbon             (European, Portuguese)\n",
       "15   ljubljana              (Slovenian, European)\n",
       "16      london                (Pub, Bar, British)\n",
       "17  luxembourg                 (European, French)\n",
       "18        lyon                          (French,)\n",
       "19      madrid                         (Spanish,)\n",
       "20       milan                         (Italian,)\n",
       "21      munich                         (Italian,)\n",
       "22      oporto             (European, Portuguese)\n",
       "23        oslo                             (Pub,)\n",
       "24       paris                          (French,)\n",
       "25      prague                  (Czech, European)\n",
       "26        rome                         (Italian,)\n",
       "27   stockholm                (Swedish, European)\n",
       "28      vienna               (European, Austrian)\n",
       "29      warsaw                 (European, Polish)\n",
       "30      zurich                  (European, Swiss)"
      ]
     },
     "execution_count": 66,
     "metadata": {},
     "output_type": "execute_result"
    }
   ],
   "source": [
    "mod"
   ]
  },
  {
   "cell_type": "code",
   "execution_count": 67,
   "metadata": {
    "execution": {
     "iopub.execute_input": "2021-07-11T10:37:28.441710Z",
     "iopub.status.busy": "2021-07-11T10:37:28.441356Z",
     "iopub.status.idle": "2021-07-11T10:37:28.516209Z",
     "shell.execute_reply": "2021-07-11T10:37:28.515300Z",
     "shell.execute_reply.started": "2021-07-11T10:37:28.441646Z"
    }
   },
   "outputs": [],
   "source": [
    "#Присоединим к наим данным, видим  что получилось новое поле с названием  Cuisine Style_x и Cuisine Style_y\n",
    "data = data.merge(mod, on = 'City', how = 'left')"
   ]
  },
  {
   "cell_type": "code",
   "execution_count": 68,
   "metadata": {
    "execution": {
     "iopub.execute_input": "2021-07-11T10:37:28.517924Z",
     "iopub.status.busy": "2021-07-11T10:37:28.517472Z",
     "iopub.status.idle": "2021-07-11T10:37:28.569905Z",
     "shell.execute_reply": "2021-07-11T10:37:28.568929Z",
     "shell.execute_reply.started": "2021-07-11T10:37:28.517673Z"
    }
   },
   "outputs": [
    {
     "data": {
      "text/html": [
       "<div>\n",
       "<style scoped>\n",
       "    .dataframe tbody tr th:only-of-type {\n",
       "        vertical-align: middle;\n",
       "    }\n",
       "\n",
       "    .dataframe tbody tr th {\n",
       "        vertical-align: top;\n",
       "    }\n",
       "\n",
       "    .dataframe thead th {\n",
       "        text-align: right;\n",
       "    }\n",
       "</style>\n",
       "<table border=\"1\" class=\"dataframe\">\n",
       "  <thead>\n",
       "    <tr style=\"text-align: right;\">\n",
       "      <th></th>\n",
       "      <th>Restaurant_id</th>\n",
       "      <th>City</th>\n",
       "      <th>Cuisine Style_x</th>\n",
       "      <th>Ranking</th>\n",
       "      <th>Price Range</th>\n",
       "      <th>Number of Reviews</th>\n",
       "      <th>URL_TA</th>\n",
       "      <th>ID_TA</th>\n",
       "      <th>sample</th>\n",
       "      <th>Rating</th>\n",
       "      <th>...</th>\n",
       "      <th>NaN_Reviews1</th>\n",
       "      <th>Review_0</th>\n",
       "      <th>Review_1</th>\n",
       "      <th>NaN_Price Range</th>\n",
       "      <th>lat</th>\n",
       "      <th>lng</th>\n",
       "      <th>Country</th>\n",
       "      <th>Population</th>\n",
       "      <th>NaN_Cuisine Style</th>\n",
       "      <th>Cuisine Style_y</th>\n",
       "    </tr>\n",
       "  </thead>\n",
       "  <tbody>\n",
       "    <tr>\n",
       "      <th>39968</th>\n",
       "      <td>id_1331</td>\n",
       "      <td>dublin</td>\n",
       "      <td>(Cafe, Vegetarian Friendly)</td>\n",
       "      <td>1334.0</td>\n",
       "      <td>2.000000</td>\n",
       "      <td>33.0</td>\n",
       "      <td>/Restaurant_Review-g186605-d6965386-Reviews-Th...</td>\n",
       "      <td>d6965386</td>\n",
       "      <td>1</td>\n",
       "      <td>4.0</td>\n",
       "      <td>...</td>\n",
       "      <td>0</td>\n",
       "      <td>0.000000</td>\n",
       "      <td>0.910000</td>\n",
       "      <td>0</td>\n",
       "      <td>53.3331</td>\n",
       "      <td>-6.2489</td>\n",
       "      <td>Ireland</td>\n",
       "      <td>1059000.0</td>\n",
       "      <td>0</td>\n",
       "      <td>(Irish, Pub, Bar)</td>\n",
       "    </tr>\n",
       "    <tr>\n",
       "      <th>17711</th>\n",
       "      <td>id_8971</td>\n",
       "      <td>london</td>\n",
       "      <td>(British,)</td>\n",
       "      <td>8980.0</td>\n",
       "      <td>1.808891</td>\n",
       "      <td>2.0</td>\n",
       "      <td>/Restaurant_Review-g186338-d7597135-Reviews-Se...</td>\n",
       "      <td>d7597135</td>\n",
       "      <td>1</td>\n",
       "      <td>5.0</td>\n",
       "      <td>...</td>\n",
       "      <td>0</td>\n",
       "      <td>0.000000</td>\n",
       "      <td>0.000000</td>\n",
       "      <td>1</td>\n",
       "      <td>51.5000</td>\n",
       "      <td>-0.1167</td>\n",
       "      <td>United Kingdom</td>\n",
       "      <td>8567000.0</td>\n",
       "      <td>0</td>\n",
       "      <td>(Pub, Bar, British)</td>\n",
       "    </tr>\n",
       "    <tr>\n",
       "      <th>17934</th>\n",
       "      <td>id_3463</td>\n",
       "      <td>rome</td>\n",
       "      <td>(Sushi, Asian, Seafood, Japanese)</td>\n",
       "      <td>3464.0</td>\n",
       "      <td>2.000000</td>\n",
       "      <td>178.0</td>\n",
       "      <td>/Restaurant_Review-g187791-d799462-Reviews-Nag...</td>\n",
       "      <td>d799462</td>\n",
       "      <td>1</td>\n",
       "      <td>4.0</td>\n",
       "      <td>...</td>\n",
       "      <td>0</td>\n",
       "      <td>0.390000</td>\n",
       "      <td>0.000000</td>\n",
       "      <td>0</td>\n",
       "      <td>41.8960</td>\n",
       "      <td>12.4833</td>\n",
       "      <td>Italy</td>\n",
       "      <td>3339000.0</td>\n",
       "      <td>0</td>\n",
       "      <td>(Italian,)</td>\n",
       "    </tr>\n",
       "    <tr>\n",
       "      <th>24036</th>\n",
       "      <td>id_206</td>\n",
       "      <td>edinburgh</td>\n",
       "      <td>(Vegan Options, Vegetarian Friendly, Gluten Fr...</td>\n",
       "      <td>207.0</td>\n",
       "      <td>2.000000</td>\n",
       "      <td>320.0</td>\n",
       "      <td>/Restaurant_Review-g186525-d1316486-Reviews-Da...</td>\n",
       "      <td>d1316486</td>\n",
       "      <td>1</td>\n",
       "      <td>4.5</td>\n",
       "      <td>...</td>\n",
       "      <td>0</td>\n",
       "      <td>0.000000</td>\n",
       "      <td>0.000000</td>\n",
       "      <td>0</td>\n",
       "      <td>55.9483</td>\n",
       "      <td>-3.2191</td>\n",
       "      <td>United Kingdom</td>\n",
       "      <td>504966.0</td>\n",
       "      <td>0</td>\n",
       "      <td>(Cafe,)</td>\n",
       "    </tr>\n",
       "    <tr>\n",
       "      <th>29325</th>\n",
       "      <td>id_11278</td>\n",
       "      <td>paris</td>\n",
       "      <td>NaN</td>\n",
       "      <td>11280.0</td>\n",
       "      <td>1.891774</td>\n",
       "      <td>3.0</td>\n",
       "      <td>/Restaurant_Review-g187147-d11785599-Reviews-D...</td>\n",
       "      <td>d11785599</td>\n",
       "      <td>1</td>\n",
       "      <td>4.0</td>\n",
       "      <td>...</td>\n",
       "      <td>1</td>\n",
       "      <td>0.000000</td>\n",
       "      <td>0.000000</td>\n",
       "      <td>1</td>\n",
       "      <td>48.8667</td>\n",
       "      <td>2.3333</td>\n",
       "      <td>France</td>\n",
       "      <td>9904000.0</td>\n",
       "      <td>1</td>\n",
       "      <td>(French,)</td>\n",
       "    </tr>\n",
       "    <tr>\n",
       "      <th>26432</th>\n",
       "      <td>id_1627</td>\n",
       "      <td>madrid</td>\n",
       "      <td>NaN</td>\n",
       "      <td>1629.0</td>\n",
       "      <td>1.849199</td>\n",
       "      <td>45.0</td>\n",
       "      <td>/Restaurant_Review-g187514-d8672298-Reviews-XA...</td>\n",
       "      <td>d8672298</td>\n",
       "      <td>1</td>\n",
       "      <td>4.5</td>\n",
       "      <td>...</td>\n",
       "      <td>0</td>\n",
       "      <td>0.583333</td>\n",
       "      <td>0.156250</td>\n",
       "      <td>1</td>\n",
       "      <td>40.4000</td>\n",
       "      <td>-3.6834</td>\n",
       "      <td>Spain</td>\n",
       "      <td>5567000.0</td>\n",
       "      <td>1</td>\n",
       "      <td>(Spanish,)</td>\n",
       "    </tr>\n",
       "    <tr>\n",
       "      <th>28207</th>\n",
       "      <td>id_482</td>\n",
       "      <td>rome</td>\n",
       "      <td>(Gluten Free Options, Seafood, European, Medit...</td>\n",
       "      <td>483.0</td>\n",
       "      <td>3.000000</td>\n",
       "      <td>481.0</td>\n",
       "      <td>/Restaurant_Review-g187791-d1012248-Reviews-Ai...</td>\n",
       "      <td>d1012248</td>\n",
       "      <td>1</td>\n",
       "      <td>4.5</td>\n",
       "      <td>...</td>\n",
       "      <td>0</td>\n",
       "      <td>0.800000</td>\n",
       "      <td>0.000000</td>\n",
       "      <td>0</td>\n",
       "      <td>41.8960</td>\n",
       "      <td>12.4833</td>\n",
       "      <td>Italy</td>\n",
       "      <td>3339000.0</td>\n",
       "      <td>0</td>\n",
       "      <td>(Italian,)</td>\n",
       "    </tr>\n",
       "    <tr>\n",
       "      <th>32909</th>\n",
       "      <td>id_795</td>\n",
       "      <td>krakow</td>\n",
       "      <td>NaN</td>\n",
       "      <td>796.0</td>\n",
       "      <td>1.652520</td>\n",
       "      <td>7.0</td>\n",
       "      <td>/Restaurant_Review-g274772-d12363461-Reviews-R...</td>\n",
       "      <td>d12363461</td>\n",
       "      <td>1</td>\n",
       "      <td>4.0</td>\n",
       "      <td>...</td>\n",
       "      <td>0</td>\n",
       "      <td>0.333333</td>\n",
       "      <td>0.333333</td>\n",
       "      <td>1</td>\n",
       "      <td>NaN</td>\n",
       "      <td>NaN</td>\n",
       "      <td>NaN</td>\n",
       "      <td>NaN</td>\n",
       "      <td>1</td>\n",
       "      <td>(European, Polish)</td>\n",
       "    </tr>\n",
       "    <tr>\n",
       "      <th>45606</th>\n",
       "      <td>id_536</td>\n",
       "      <td>lisbon</td>\n",
       "      <td>(Vegetarian Friendly, European, International,...</td>\n",
       "      <td>537.0</td>\n",
       "      <td>3.000000</td>\n",
       "      <td>168.0</td>\n",
       "      <td>/Restaurant_Review-g189158-d1045677-Reviews-Te...</td>\n",
       "      <td>d1045677</td>\n",
       "      <td>1</td>\n",
       "      <td>4.0</td>\n",
       "      <td>...</td>\n",
       "      <td>0</td>\n",
       "      <td>0.000000</td>\n",
       "      <td>-1.000000</td>\n",
       "      <td>0</td>\n",
       "      <td>38.7227</td>\n",
       "      <td>-9.1449</td>\n",
       "      <td>Portugal</td>\n",
       "      <td>2812000.0</td>\n",
       "      <td>0</td>\n",
       "      <td>(European, Portuguese)</td>\n",
       "    </tr>\n",
       "    <tr>\n",
       "      <th>32645</th>\n",
       "      <td>id_379</td>\n",
       "      <td>oslo</td>\n",
       "      <td>(Asian, Chinese)</td>\n",
       "      <td>380.0</td>\n",
       "      <td>2.000000</td>\n",
       "      <td>38.0</td>\n",
       "      <td>/Restaurant_Review-g190479-d1400157-Reviews-Da...</td>\n",
       "      <td>d1400157</td>\n",
       "      <td>1</td>\n",
       "      <td>4.0</td>\n",
       "      <td>...</td>\n",
       "      <td>0</td>\n",
       "      <td>1.000000</td>\n",
       "      <td>0.687500</td>\n",
       "      <td>0</td>\n",
       "      <td>59.9167</td>\n",
       "      <td>10.7500</td>\n",
       "      <td>Norway</td>\n",
       "      <td>835000.0</td>\n",
       "      <td>0</td>\n",
       "      <td>(Pub,)</td>\n",
       "    </tr>\n",
       "  </tbody>\n",
       "</table>\n",
       "<p>10 rows × 27 columns</p>\n",
       "</div>"
      ],
      "text/plain": [
       "      Restaurant_id       City  \\\n",
       "39968       id_1331     dublin   \n",
       "17711       id_8971     london   \n",
       "17934       id_3463       rome   \n",
       "24036        id_206  edinburgh   \n",
       "29325      id_11278      paris   \n",
       "26432       id_1627     madrid   \n",
       "28207        id_482       rome   \n",
       "32909        id_795     krakow   \n",
       "45606        id_536     lisbon   \n",
       "32645        id_379       oslo   \n",
       "\n",
       "                                         Cuisine Style_x  Ranking  \\\n",
       "39968                        (Cafe, Vegetarian Friendly)   1334.0   \n",
       "17711                                         (British,)   8980.0   \n",
       "17934                  (Sushi, Asian, Seafood, Japanese)   3464.0   \n",
       "24036  (Vegan Options, Vegetarian Friendly, Gluten Fr...    207.0   \n",
       "29325                                                NaN  11280.0   \n",
       "26432                                                NaN   1629.0   \n",
       "28207  (Gluten Free Options, Seafood, European, Medit...    483.0   \n",
       "32909                                                NaN    796.0   \n",
       "45606  (Vegetarian Friendly, European, International,...    537.0   \n",
       "32645                                   (Asian, Chinese)    380.0   \n",
       "\n",
       "       Price Range  Number of Reviews  \\\n",
       "39968     2.000000               33.0   \n",
       "17711     1.808891                2.0   \n",
       "17934     2.000000              178.0   \n",
       "24036     2.000000              320.0   \n",
       "29325     1.891774                3.0   \n",
       "26432     1.849199               45.0   \n",
       "28207     3.000000              481.0   \n",
       "32909     1.652520                7.0   \n",
       "45606     3.000000              168.0   \n",
       "32645     2.000000               38.0   \n",
       "\n",
       "                                                  URL_TA      ID_TA  sample  \\\n",
       "39968  /Restaurant_Review-g186605-d6965386-Reviews-Th...   d6965386       1   \n",
       "17711  /Restaurant_Review-g186338-d7597135-Reviews-Se...   d7597135       1   \n",
       "17934  /Restaurant_Review-g187791-d799462-Reviews-Nag...    d799462       1   \n",
       "24036  /Restaurant_Review-g186525-d1316486-Reviews-Da...   d1316486       1   \n",
       "29325  /Restaurant_Review-g187147-d11785599-Reviews-D...  d11785599       1   \n",
       "26432  /Restaurant_Review-g187514-d8672298-Reviews-XA...   d8672298       1   \n",
       "28207  /Restaurant_Review-g187791-d1012248-Reviews-Ai...   d1012248       1   \n",
       "32909  /Restaurant_Review-g274772-d12363461-Reviews-R...  d12363461       1   \n",
       "45606  /Restaurant_Review-g189158-d1045677-Reviews-Te...   d1045677       1   \n",
       "32645  /Restaurant_Review-g190479-d1400157-Reviews-Da...   d1400157       1   \n",
       "\n",
       "       Rating  ...  NaN_Reviews1  Review_0  Review_1 NaN_Price Range      lat  \\\n",
       "39968     4.0  ...             0  0.000000  0.910000               0  53.3331   \n",
       "17711     5.0  ...             0  0.000000  0.000000               1  51.5000   \n",
       "17934     4.0  ...             0  0.390000  0.000000               0  41.8960   \n",
       "24036     4.5  ...             0  0.000000  0.000000               0  55.9483   \n",
       "29325     4.0  ...             1  0.000000  0.000000               1  48.8667   \n",
       "26432     4.5  ...             0  0.583333  0.156250               1  40.4000   \n",
       "28207     4.5  ...             0  0.800000  0.000000               0  41.8960   \n",
       "32909     4.0  ...             0  0.333333  0.333333               1      NaN   \n",
       "45606     4.0  ...             0  0.000000 -1.000000               0  38.7227   \n",
       "32645     4.0  ...             0  1.000000  0.687500               0  59.9167   \n",
       "\n",
       "           lng         Country  Population  NaN_Cuisine Style  \\\n",
       "39968  -6.2489         Ireland   1059000.0                  0   \n",
       "17711  -0.1167  United Kingdom   8567000.0                  0   \n",
       "17934  12.4833           Italy   3339000.0                  0   \n",
       "24036  -3.2191  United Kingdom    504966.0                  0   \n",
       "29325   2.3333          France   9904000.0                  1   \n",
       "26432  -3.6834           Spain   5567000.0                  1   \n",
       "28207  12.4833           Italy   3339000.0                  0   \n",
       "32909      NaN             NaN         NaN                  1   \n",
       "45606  -9.1449        Portugal   2812000.0                  0   \n",
       "32645  10.7500          Norway    835000.0                  0   \n",
       "\n",
       "              Cuisine Style_y  \n",
       "39968       (Irish, Pub, Bar)  \n",
       "17711     (Pub, Bar, British)  \n",
       "17934              (Italian,)  \n",
       "24036                 (Cafe,)  \n",
       "29325               (French,)  \n",
       "26432              (Spanish,)  \n",
       "28207              (Italian,)  \n",
       "32909      (European, Polish)  \n",
       "45606  (European, Portuguese)  \n",
       "32645                  (Pub,)  \n",
       "\n",
       "[10 rows x 27 columns]"
      ]
     },
     "execution_count": 68,
     "metadata": {},
     "output_type": "execute_result"
    }
   ],
   "source": [
    "data.sample(10)"
   ]
  },
  {
   "cell_type": "code",
   "execution_count": 69,
   "metadata": {
    "execution": {
     "iopub.execute_input": "2021-07-11T10:37:28.571699Z",
     "iopub.status.busy": "2021-07-11T10:37:28.571358Z",
     "iopub.status.idle": "2021-07-11T10:37:28.608210Z",
     "shell.execute_reply": "2021-07-11T10:37:28.607300Z",
     "shell.execute_reply.started": "2021-07-11T10:37:28.571637Z"
    }
   },
   "outputs": [
    {
     "name": "stdout",
     "output_type": "stream",
     "text": [
      "<class 'pandas.core.frame.DataFrame'>\n",
      "Int64Index: 50000 entries, 0 to 49999\n",
      "Data columns (total 27 columns):\n",
      "Restaurant_id              50000 non-null object\n",
      "City                       50000 non-null object\n",
      "Cuisine Style_x            38410 non-null object\n",
      "Ranking                    50000 non-null float64\n",
      "Price Range                50000 non-null float64\n",
      "Number of Reviews          46800 non-null float64\n",
      "URL_TA                     50000 non-null object\n",
      "ID_TA                      50000 non-null object\n",
      "sample                     50000 non-null int64\n",
      "Rating                     50000 non-null float64\n",
      "Number_of_Reviews_isNAN    50000 non-null uint8\n",
      "Reviews0                   50000 non-null object\n",
      "Reviews1                   50000 non-null object\n",
      "Reviews_data0              41886 non-null datetime64[ns]\n",
      "Reviews_data1              36206 non-null datetime64[ns]\n",
      "time_delta                 50000 non-null float64\n",
      "NaN_Reviews0               50000 non-null uint8\n",
      "NaN_Reviews1               50000 non-null uint8\n",
      "Review_0                   50000 non-null float64\n",
      "Review_1                   50000 non-null float64\n",
      "NaN_Price Range            50000 non-null uint8\n",
      "lat                        47300 non-null float64\n",
      "lng                        47300 non-null float64\n",
      "Country                    47300 non-null object\n",
      "Population                 47300 non-null float64\n",
      "NaN_Cuisine Style          50000 non-null uint8\n",
      "Cuisine Style_y            50000 non-null object\n",
      "dtypes: datetime64[ns](2), float64(10), int64(1), object(9), uint8(5)\n",
      "memory usage: 9.0+ MB\n"
     ]
    }
   ],
   "source": [
    "data.info()"
   ]
  },
  {
   "cell_type": "code",
   "execution_count": 70,
   "metadata": {
    "execution": {
     "iopub.execute_input": "2021-07-11T10:37:28.609757Z",
     "iopub.status.busy": "2021-07-11T10:37:28.609421Z",
     "iopub.status.idle": "2021-07-11T10:37:28.634281Z",
     "shell.execute_reply": "2021-07-11T10:37:28.633452Z",
     "shell.execute_reply.started": "2021-07-11T10:37:28.609601Z"
    }
   },
   "outputs": [],
   "source": [
    "#Переименуем обратно нашу колонку\n",
    "data=data.rename(columns = {'Cuisine Style_x': 'Cuisine Style'})"
   ]
  },
  {
   "cell_type": "code",
   "execution_count": 71,
   "metadata": {
    "execution": {
     "iopub.execute_input": "2021-07-11T10:37:28.635981Z",
     "iopub.status.busy": "2021-07-11T10:37:28.635673Z",
     "iopub.status.idle": "2021-07-11T10:37:28.645380Z",
     "shell.execute_reply": "2021-07-11T10:37:28.644572Z",
     "shell.execute_reply.started": "2021-07-11T10:37:28.635925Z"
    }
   },
   "outputs": [],
   "source": [
    "#Коряво, но следующая строка сработала  только с пробелами, поэтому сделаем пробелы, вместо NaN \n",
    "data['Cuisine Style'] = data['Cuisine Style'].fillna('')"
   ]
  },
  {
   "cell_type": "code",
   "execution_count": 72,
   "metadata": {
    "execution": {
     "iopub.execute_input": "2021-07-11T10:37:28.646868Z",
     "iopub.status.busy": "2021-07-11T10:37:28.646606Z",
     "iopub.status.idle": "2021-07-11T10:37:30.832519Z",
     "shell.execute_reply": "2021-07-11T10:37:30.831632Z",
     "shell.execute_reply.started": "2021-07-11T10:37:28.646819Z"
    }
   },
   "outputs": [],
   "source": [
    "#Заменяем отсутствующие значения (пробелы) на моду по кухням по городам из Cuisine Style_y\n",
    "data['Cuisine Style'] = data.apply(lambda row: row['Cuisine Style_y'] if row['Cuisine Style'] == '' else row['Cuisine Style'], axis = 1)"
   ]
  },
  {
   "cell_type": "code",
   "execution_count": 73,
   "metadata": {
    "execution": {
     "iopub.execute_input": "2021-07-11T10:37:30.834261Z",
     "iopub.status.busy": "2021-07-11T10:37:30.833995Z",
     "iopub.status.idle": "2021-07-11T10:37:30.845005Z",
     "shell.execute_reply": "2021-07-11T10:37:30.844306Z",
     "shell.execute_reply.started": "2021-07-11T10:37:30.834215Z"
    }
   },
   "outputs": [],
   "source": [
    "# Удалим не нужный столбец\n",
    "del data['Cuisine Style_y']"
   ]
  },
  {
   "cell_type": "code",
   "execution_count": 74,
   "metadata": {
    "execution": {
     "iopub.execute_input": "2021-07-11T10:37:30.846423Z",
     "iopub.status.busy": "2021-07-11T10:37:30.846029Z",
     "iopub.status.idle": "2021-07-11T10:37:30.857315Z",
     "shell.execute_reply": "2021-07-11T10:37:30.856330Z",
     "shell.execute_reply.started": "2021-07-11T10:37:30.846368Z"
    }
   },
   "outputs": [],
   "source": [
    "#len(Counter(data['Cuisine Style'].sum()))"
   ]
  },
  {
   "cell_type": "code",
   "execution_count": 75,
   "metadata": {
    "execution": {
     "iopub.execute_input": "2021-07-11T10:37:30.860617Z",
     "iopub.status.busy": "2021-07-11T10:37:30.860244Z",
     "iopub.status.idle": "2021-07-11T10:37:30.876896Z",
     "shell.execute_reply": "2021-07-11T10:37:30.876152Z",
     "shell.execute_reply.started": "2021-07-11T10:37:30.860549Z"
    }
   },
   "outputs": [
    {
     "data": {
      "text/plain": [
       "0"
      ]
     },
     "execution_count": 75,
     "metadata": {},
     "output_type": "execute_result"
    }
   ],
   "source": [
    "data['Cuisine Style'].isnull().sum()"
   ]
  },
  {
   "cell_type": "code",
   "execution_count": 76,
   "metadata": {
    "execution": {
     "iopub.execute_input": "2021-07-11T10:37:30.878752Z",
     "iopub.status.busy": "2021-07-11T10:37:30.878294Z",
     "iopub.status.idle": "2021-07-11T10:37:30.887001Z",
     "shell.execute_reply": "2021-07-11T10:37:30.886345Z",
     "shell.execute_reply.started": "2021-07-11T10:37:30.878706Z"
    }
   },
   "outputs": [],
   "source": [
    "data['lat'] = data['lat'].fillna(0)\n",
    "data['lng'] = data['lng'].fillna(0)"
   ]
  },
  {
   "cell_type": "code",
   "execution_count": 77,
   "metadata": {
    "execution": {
     "iopub.execute_input": "2021-07-11T10:37:30.888384Z",
     "iopub.status.busy": "2021-07-11T10:37:30.887994Z",
     "iopub.status.idle": "2021-07-11T10:37:30.909928Z",
     "shell.execute_reply": "2021-07-11T10:37:30.909312Z",
     "shell.execute_reply.started": "2021-07-11T10:37:30.888331Z"
    }
   },
   "outputs": [],
   "source": [
    "# Создадим новый признак с количеством кухонь\n",
    "data['num_cuisine'] = data['Cuisine Style'].apply(len)"
   ]
  },
  {
   "cell_type": "markdown",
   "metadata": {},
   "source": [
    "### Заполним пропуски в полях Country и Population"
   ]
  },
  {
   "cell_type": "code",
   "execution_count": 78,
   "metadata": {
    "execution": {
     "iopub.execute_input": "2021-07-11T10:37:30.911288Z",
     "iopub.status.busy": "2021-07-11T10:37:30.910919Z",
     "iopub.status.idle": "2021-07-11T10:37:30.925580Z",
     "shell.execute_reply": "2021-07-11T10:37:30.925029Z",
     "shell.execute_reply.started": "2021-07-11T10:37:30.911236Z"
    }
   },
   "outputs": [
    {
     "data": {
      "text/plain": [
       "copenhagen    819\n",
       "zurich        685\n",
       "oporto        642\n",
       "krakow        554\n",
       "Name: City, dtype: int64"
      ]
     },
     "execution_count": 78,
     "metadata": {},
     "output_type": "execute_result"
    }
   ],
   "source": [
    "# В странах и численности жителей есть пропуски\n",
    "data.City[data.Population.isna()].value_counts()"
   ]
  },
  {
   "cell_type": "code",
   "execution_count": 79,
   "metadata": {
    "execution": {
     "iopub.execute_input": "2021-07-11T10:37:30.927207Z",
     "iopub.status.busy": "2021-07-11T10:37:30.926775Z",
     "iopub.status.idle": "2021-07-11T10:37:30.933024Z",
     "shell.execute_reply": "2021-07-11T10:37:30.932091Z",
     "shell.execute_reply.started": "2021-07-11T10:37:30.927151Z"
    }
   },
   "outputs": [],
   "source": [
    "# Создадим вручную словарь с данными \n",
    "county_set={'copenhagen': 'Denmark', 'zurich': 'Switzerland', 'oporto': 'Portugal', 'krakow' : 'Poland'}\n",
    "population_set= {'copenhagen' : 602481, 'zurich' : 402762, 'oporto': 214349, 'krakow': 766683}"
   ]
  },
  {
   "cell_type": "code",
   "execution_count": 80,
   "metadata": {
    "execution": {
     "iopub.execute_input": "2021-07-11T10:37:30.934483Z",
     "iopub.status.busy": "2021-07-11T10:37:30.934074Z",
     "iopub.status.idle": "2021-07-11T10:37:30.957904Z",
     "shell.execute_reply": "2021-07-11T10:37:30.957249Z",
     "shell.execute_reply.started": "2021-07-11T10:37:30.934444Z"
    }
   },
   "outputs": [],
   "source": [
    "# Заполним данными из словаря\n",
    "mask = data['Country'].astype('str').isin(['NaN','nan'])\n",
    "data.loc[mask, 'Country'] = data.loc[mask, 'City'].map(county_set)"
   ]
  },
  {
   "cell_type": "code",
   "execution_count": 81,
   "metadata": {
    "execution": {
     "iopub.execute_input": "2021-07-11T10:37:30.959464Z",
     "iopub.status.busy": "2021-07-11T10:37:30.958990Z",
     "iopub.status.idle": "2021-07-11T10:37:30.996061Z",
     "shell.execute_reply": "2021-07-11T10:37:30.995376Z",
     "shell.execute_reply.started": "2021-07-11T10:37:30.959424Z"
    }
   },
   "outputs": [],
   "source": [
    "mask = data['Population'].astype('str').isin(['NaN','nan'])\n",
    "data.loc[mask, 'Population'] = data.loc[mask, 'City'].map(population_set)"
   ]
  },
  {
   "cell_type": "markdown",
   "metadata": {},
   "source": [
    "### Поле Number of Reviews"
   ]
  },
  {
   "cell_type": "code",
   "execution_count": 82,
   "metadata": {
    "execution": {
     "iopub.execute_input": "2021-07-11T10:37:30.997683Z",
     "iopub.status.busy": "2021-07-11T10:37:30.997250Z",
     "iopub.status.idle": "2021-07-11T10:37:31.012260Z",
     "shell.execute_reply": "2021-07-11T10:37:31.011231Z",
     "shell.execute_reply.started": "2021-07-11T10:37:30.997625Z"
    }
   },
   "outputs": [],
   "source": [
    "# Пропуски в Number of Reviews заполним средним по городу\n",
    "men = data.groupby('City')['Number of Reviews'].transform('mean')\n",
    "data['Number of Reviews']=data['Number of Reviews'].fillna(men)"
   ]
  },
  {
   "cell_type": "code",
   "execution_count": 83,
   "metadata": {
    "execution": {
     "iopub.execute_input": "2021-07-11T10:37:31.013746Z",
     "iopub.status.busy": "2021-07-11T10:37:31.013512Z",
     "iopub.status.idle": "2021-07-11T10:37:31.019952Z",
     "shell.execute_reply": "2021-07-11T10:37:31.019127Z",
     "shell.execute_reply.started": "2021-07-11T10:37:31.013703Z"
    }
   },
   "outputs": [],
   "source": [
    "data['Number_of_Reviews_by_Populat']=data['Number of Reviews']/data['Population']"
   ]
  },
  {
   "cell_type": "markdown",
   "metadata": {},
   "source": [
    "### Посмотрим распределение признака"
   ]
  },
  {
   "cell_type": "code",
   "execution_count": 84,
   "metadata": {
    "execution": {
     "iopub.execute_input": "2021-07-11T10:37:31.021458Z",
     "iopub.status.busy": "2021-07-11T10:37:31.021161Z",
     "iopub.status.idle": "2021-07-11T10:37:31.447600Z",
     "shell.execute_reply": "2021-07-11T10:37:31.446827Z",
     "shell.execute_reply.started": "2021-07-11T10:37:31.021410Z"
    }
   },
   "outputs": [
    {
     "data": {
      "text/plain": [
       "<matplotlib.axes._subplots.AxesSubplot at 0x7f2796bce6a0>"
      ]
     },
     "execution_count": 84,
     "metadata": {},
     "output_type": "execute_result"
    },
    {
     "data": {
      "image/png": "[encoded data removed]",
      "text/plain": [
       "<Figure size 720x504 with 1 Axes>"
      ]
     },
     "metadata": {
      "needs_background": "light"
     },
     "output_type": "display_data"
    }
   ],
   "source": [
    "plt.rcParams['figure.figsize'] = (10,7)\n",
    "df_train['Ranking'].hist(bins=100)"
   ]
  },
  {
   "cell_type": "markdown",
   "metadata": {},
   "source": [
    "У нас много ресторанов, которые не дотягивают и до 2500 места в своем городе, а что там по городам?"
   ]
  },
  {
   "cell_type": "code",
   "execution_count": 85,
   "metadata": {
    "execution": {
     "iopub.execute_input": "2021-07-11T10:37:31.449330Z",
     "iopub.status.busy": "2021-07-11T10:37:31.449010Z",
     "iopub.status.idle": "2021-07-11T10:37:31.777248Z",
     "shell.execute_reply": "2021-07-11T10:37:31.771963Z",
     "shell.execute_reply.started": "2021-07-11T10:37:31.449278Z"
    }
   },
   "outputs": [
    {
     "data": {
      "text/plain": [
       "<matplotlib.axes._subplots.AxesSubplot at 0x7f27adc7f588>"
      ]
     },
     "execution_count": 85,
     "metadata": {},
     "output_type": "execute_result"
    },
    {
     "data": {
      "image/png": "[encoded data removed]",
      "text/plain": [
       "<Figure size 720x504 with 1 Axes>"
      ]
     },
     "metadata": {
      "needs_background": "light"
     },
     "output_type": "display_data"
    }
   ],
   "source": [
    "df_train['City'].value_counts(ascending=True).plot(kind='barh')"
   ]
  },
  {
   "cell_type": "markdown",
   "metadata": {},
   "source": [
    "А кто-то говорил, что французы любят поесть=) Посмотрим, как изменится распределение в большом городе:"
   ]
  },
  {
   "cell_type": "code",
   "execution_count": 86,
   "metadata": {
    "execution": {
     "iopub.execute_input": "2021-07-11T10:37:31.779394Z",
     "iopub.status.busy": "2021-07-11T10:37:31.778895Z",
     "iopub.status.idle": "2021-07-11T10:37:32.191119Z",
     "shell.execute_reply": "2021-07-11T10:37:32.190025Z",
     "shell.execute_reply.started": "2021-07-11T10:37:31.779193Z"
    }
   },
   "outputs": [
    {
     "data": {
      "text/plain": [
       "<matplotlib.axes._subplots.AxesSubplot at 0x7f27964d6a90>"
      ]
     },
     "execution_count": 86,
     "metadata": {},
     "output_type": "execute_result"
    },
    {
     "data": {
      "image/png": "[encoded data removed]",
      "text/plain": [
       "<Figure size 720x504 with 1 Axes>"
      ]
     },
     "metadata": {
      "needs_background": "light"
     },
     "output_type": "display_data"
    }
   ],
   "source": [
    "df_train['Ranking'][df_train['City'] =='London'].hist(bins=100)"
   ]
  },
  {
   "cell_type": "code",
   "execution_count": 87,
   "metadata": {
    "execution": {
     "iopub.execute_input": "2021-07-11T10:37:32.193339Z",
     "iopub.status.busy": "2021-07-11T10:37:32.192820Z",
     "iopub.status.idle": "2021-07-11T10:37:34.402339Z",
     "shell.execute_reply": "2021-07-11T10:37:34.401243Z",
     "shell.execute_reply.started": "2021-07-11T10:37:32.193103Z"
    }
   },
   "outputs": [
    {
     "data": {
      "image/png": "[encoded data removed]",
      "text/plain": [
       "<Figure size 720x504 with 1 Axes>"
      ]
     },
     "metadata": {
      "needs_background": "light"
     },
     "output_type": "display_data"
    }
   ],
   "source": [
    "# посмотрим на топ 10 городов\n",
    "for x in (df_train['City'].value_counts())[0:10].index:\n",
    "    df_train['Ranking'][df_train['City'] == x].hist(bins=100)\n",
    "plt.show()"
   ]
  },
  {
   "cell_type": "markdown",
   "metadata": {},
   "source": [
    "****Получается, что Ranking имеет нормальное распределение, просто в больших городах больше ресторанов, из-за мы этого имеем смещение.\n",
    "\n",
    ">Подумайте как из этого можно сделать признак для вашей модели. Я покажу вам пример, как визуализация помогает находить взаимосвязи. А далее действуйте без подсказок =) \n"
   ]
  },
  {
   "cell_type": "markdown",
   "metadata": {},
   "source": [
    "### Поле Ranking (число отзывов) отцентрируем по среднему и поделим на количество ресторанов в городе"
   ]
  },
  {
   "cell_type": "code",
   "execution_count": 88,
   "metadata": {
    "execution": {
     "iopub.execute_input": "2021-07-11T10:37:34.404201Z",
     "iopub.status.busy": "2021-07-11T10:37:34.403873Z",
     "iopub.status.idle": "2021-07-11T10:37:34.412395Z",
     "shell.execute_reply": "2021-07-11T10:37:34.411341Z",
     "shell.execute_reply.started": "2021-07-11T10:37:34.404139Z"
    }
   },
   "outputs": [],
   "source": [
    "data['Ranking_by_Populat']=data['Ranking']/data['Population']"
   ]
  },
  {
   "cell_type": "code",
   "execution_count": 89,
   "metadata": {
    "execution": {
     "iopub.execute_input": "2021-07-11T10:37:34.414256Z",
     "iopub.status.busy": "2021-07-11T10:37:34.413744Z",
     "iopub.status.idle": "2021-07-11T10:37:35.293366Z",
     "shell.execute_reply": "2021-07-11T10:37:35.292380Z",
     "shell.execute_reply.started": "2021-07-11T10:37:34.414202Z"
    }
   },
   "outputs": [],
   "source": [
    "mean_Ranking = data.groupby(['City'])['Ranking'].mean()\n",
    "count_Restorant = data['City'].value_counts(ascending=False)\n",
    "data['mean_Ranking'] = data['City'].apply(lambda x: mean_Ranking[x])\n",
    "data['count_Restorant'] = data['City'].apply(lambda x: count_Restorant[x])\n",
    "data['Ranking_weighed'] = (data['Ranking'] - data['mean_Ranking']) / data['count_Restorant']"
   ]
  },
  {
   "cell_type": "code",
   "execution_count": 90,
   "metadata": {
    "execution": {
     "iopub.execute_input": "2021-07-11T10:37:35.298522Z",
     "iopub.status.busy": "2021-07-11T10:37:35.297967Z",
     "iopub.status.idle": "2021-07-11T10:37:37.379425Z",
     "shell.execute_reply": "2021-07-11T10:37:37.378684Z",
     "shell.execute_reply.started": "2021-07-11T10:37:35.298461Z"
    }
   },
   "outputs": [
    {
     "data": {
      "image/png": "[encoded data removed]",
      "text/plain": [
       "<Figure size 720x504 with 1 Axes>"
      ]
     },
     "metadata": {
      "needs_background": "light"
     },
     "output_type": "display_data"
    }
   ],
   "source": [
    "for x in (data['City'].value_counts())[0:10].index:\n",
    "    data['Ranking_weighed'][data['City'] == x].hist(bins=100)\n",
    "plt.show()"
   ]
  },
  {
   "cell_type": "markdown",
   "metadata": {},
   "source": [
    "Для кодирования категориальных признаков есть множество подходов:\n",
    "* Label Encoding\n",
    "* One-Hot Encoding\n",
    "* Target Encoding\n",
    "* Hashing\n",
    "\n",
    "Выбор кодирования зависит от признака и выбраной модели.\n",
    "Не будем сейчас сильно погружаться в эту тематику, давайте посмотрим лучше пример с One-Hot Encoding:\n",
    "![](https://i.imgur.com/mtimFxh.png)"
   ]
  },
  {
   "cell_type": "code",
   "execution_count": 91,
   "metadata": {
    "execution": {
     "iopub.execute_input": "2021-07-11T10:37:37.381255Z",
     "iopub.status.busy": "2021-07-11T10:37:37.380723Z",
     "iopub.status.idle": "2021-07-11T10:37:37.465266Z",
     "shell.execute_reply": "2021-07-11T10:37:37.464356Z",
     "shell.execute_reply.started": "2021-07-11T10:37:37.381196Z"
    }
   },
   "outputs": [
    {
     "data": {
      "text/html": [
       "<div>\n",
       "<style scoped>\n",
       "    .dataframe tbody tr th:only-of-type {\n",
       "        vertical-align: middle;\n",
       "    }\n",
       "\n",
       "    .dataframe tbody tr th {\n",
       "        vertical-align: top;\n",
       "    }\n",
       "\n",
       "    .dataframe thead th {\n",
       "        text-align: right;\n",
       "    }\n",
       "</style>\n",
       "<table border=\"1\" class=\"dataframe\">\n",
       "  <thead>\n",
       "    <tr style=\"text-align: right;\">\n",
       "      <th></th>\n",
       "      <th>Restaurant_id</th>\n",
       "      <th>City</th>\n",
       "      <th>Cuisine Style</th>\n",
       "      <th>Ranking</th>\n",
       "      <th>Price Range</th>\n",
       "      <th>Number of Reviews</th>\n",
       "      <th>URL_TA</th>\n",
       "      <th>ID_TA</th>\n",
       "      <th>sample</th>\n",
       "      <th>Rating</th>\n",
       "      <th>...</th>\n",
       "      <th>lng</th>\n",
       "      <th>Country</th>\n",
       "      <th>Population</th>\n",
       "      <th>NaN_Cuisine Style</th>\n",
       "      <th>num_cuisine</th>\n",
       "      <th>Number_of_Reviews_by_Populat</th>\n",
       "      <th>Ranking_by_Populat</th>\n",
       "      <th>mean_Ranking</th>\n",
       "      <th>count_Restorant</th>\n",
       "      <th>Ranking_weighed</th>\n",
       "    </tr>\n",
       "  </thead>\n",
       "  <tbody>\n",
       "    <tr>\n",
       "      <th>0</th>\n",
       "      <td>id_0</td>\n",
       "      <td>paris</td>\n",
       "      <td>(Pub, Bar)</td>\n",
       "      <td>12963.0</td>\n",
       "      <td>2.000000</td>\n",
       "      <td>4.0</td>\n",
       "      <td>/Restaurant_Review-g187147-d10746918-Reviews-L...</td>\n",
       "      <td>d10746918</td>\n",
       "      <td>0</td>\n",
       "      <td>0.0</td>\n",
       "      <td>...</td>\n",
       "      <td>2.3333</td>\n",
       "      <td>France</td>\n",
       "      <td>9904000.0</td>\n",
       "      <td>0</td>\n",
       "      <td>2</td>\n",
       "      <td>4.038772e-07</td>\n",
       "      <td>0.001309</td>\n",
       "      <td>6938.557138</td>\n",
       "      <td>6108</td>\n",
       "      <td>0.986320</td>\n",
       "    </tr>\n",
       "    <tr>\n",
       "      <th>1</th>\n",
       "      <td>id_1</td>\n",
       "      <td>helsinki</td>\n",
       "      <td>(Vegan Options, Gluten Free Options, Vegetaria...</td>\n",
       "      <td>106.0</td>\n",
       "      <td>2.000000</td>\n",
       "      <td>97.0</td>\n",
       "      <td>/Restaurant_Review-g189934-d6674944-Reviews-Ra...</td>\n",
       "      <td>d6674944</td>\n",
       "      <td>0</td>\n",
       "      <td>0.0</td>\n",
       "      <td>...</td>\n",
       "      <td>24.9341</td>\n",
       "      <td>Finland</td>\n",
       "      <td>1115000.0</td>\n",
       "      <td>0</td>\n",
       "      <td>5</td>\n",
       "      <td>8.699552e-05</td>\n",
       "      <td>0.000095</td>\n",
       "      <td>564.231579</td>\n",
       "      <td>475</td>\n",
       "      <td>-0.964698</td>\n",
       "    </tr>\n",
       "    <tr>\n",
       "      <th>2</th>\n",
       "      <td>id_2</td>\n",
       "      <td>edinburgh</td>\n",
       "      <td>(Vegetarian Friendly,)</td>\n",
       "      <td>810.0</td>\n",
       "      <td>2.000000</td>\n",
       "      <td>28.0</td>\n",
       "      <td>/Restaurant_Review-g186525-d13129638-Reviews-B...</td>\n",
       "      <td>d13129638</td>\n",
       "      <td>0</td>\n",
       "      <td>0.0</td>\n",
       "      <td>...</td>\n",
       "      <td>-3.2191</td>\n",
       "      <td>United Kingdom</td>\n",
       "      <td>504966.0</td>\n",
       "      <td>0</td>\n",
       "      <td>1</td>\n",
       "      <td>5.544928e-05</td>\n",
       "      <td>0.001604</td>\n",
       "      <td>885.130201</td>\n",
       "      <td>745</td>\n",
       "      <td>-0.100846</td>\n",
       "    </tr>\n",
       "    <tr>\n",
       "      <th>3</th>\n",
       "      <td>id_3</td>\n",
       "      <td>london</td>\n",
       "      <td>(Gluten Free Options, Vegetarian Friendly, Eur...</td>\n",
       "      <td>1669.0</td>\n",
       "      <td>3.000000</td>\n",
       "      <td>202.0</td>\n",
       "      <td>/Restaurant_Review-g186338-d680417-Reviews-Qui...</td>\n",
       "      <td>d680417</td>\n",
       "      <td>0</td>\n",
       "      <td>0.0</td>\n",
       "      <td>...</td>\n",
       "      <td>-0.1167</td>\n",
       "      <td>United Kingdom</td>\n",
       "      <td>8567000.0</td>\n",
       "      <td>0</td>\n",
       "      <td>5</td>\n",
       "      <td>2.357885e-05</td>\n",
       "      <td>0.000195</td>\n",
       "      <td>8169.707354</td>\n",
       "      <td>7193</td>\n",
       "      <td>-0.903755</td>\n",
       "    </tr>\n",
       "    <tr>\n",
       "      <th>4</th>\n",
       "      <td>id_4</td>\n",
       "      <td>bratislava</td>\n",
       "      <td>(Gluten Free Options, Seafood, Vegetarian Frie...</td>\n",
       "      <td>37.0</td>\n",
       "      <td>3.000000</td>\n",
       "      <td>162.0</td>\n",
       "      <td>/Restaurant_Review-g274924-d1112354-Reviews-Ma...</td>\n",
       "      <td>d1112354</td>\n",
       "      <td>0</td>\n",
       "      <td>0.0</td>\n",
       "      <td>...</td>\n",
       "      <td>17.1170</td>\n",
       "      <td>Slovakia</td>\n",
       "      <td>423737.0</td>\n",
       "      <td>0</td>\n",
       "      <td>6</td>\n",
       "      <td>3.823126e-04</td>\n",
       "      <td>0.000087</td>\n",
       "      <td>462.428947</td>\n",
       "      <td>380</td>\n",
       "      <td>-1.119550</td>\n",
       "    </tr>\n",
       "    <tr>\n",
       "      <th>...</th>\n",
       "      <td>...</td>\n",
       "      <td>...</td>\n",
       "      <td>...</td>\n",
       "      <td>...</td>\n",
       "      <td>...</td>\n",
       "      <td>...</td>\n",
       "      <td>...</td>\n",
       "      <td>...</td>\n",
       "      <td>...</td>\n",
       "      <td>...</td>\n",
       "      <td>...</td>\n",
       "      <td>...</td>\n",
       "      <td>...</td>\n",
       "      <td>...</td>\n",
       "      <td>...</td>\n",
       "      <td>...</td>\n",
       "      <td>...</td>\n",
       "      <td>...</td>\n",
       "      <td>...</td>\n",
       "      <td>...</td>\n",
       "      <td>...</td>\n",
       "    </tr>\n",
       "    <tr>\n",
       "      <th>49995</th>\n",
       "      <td>id_499</td>\n",
       "      <td>milan</td>\n",
       "      <td>(Vegan Options, Vegetarian Friendly, Gluten Fr...</td>\n",
       "      <td>500.0</td>\n",
       "      <td>2.000000</td>\n",
       "      <td>79.0</td>\n",
       "      <td>/Restaurant_Review-g187849-d2104414-Reviews-Ro...</td>\n",
       "      <td>d2104414</td>\n",
       "      <td>1</td>\n",
       "      <td>4.5</td>\n",
       "      <td>...</td>\n",
       "      <td>9.2050</td>\n",
       "      <td>Italy</td>\n",
       "      <td>2945000.0</td>\n",
       "      <td>0</td>\n",
       "      <td>4</td>\n",
       "      <td>2.682513e-05</td>\n",
       "      <td>0.000170</td>\n",
       "      <td>3106.027840</td>\n",
       "      <td>2694</td>\n",
       "      <td>-0.967345</td>\n",
       "    </tr>\n",
       "    <tr>\n",
       "      <th>49996</th>\n",
       "      <td>id_6340</td>\n",
       "      <td>paris</td>\n",
       "      <td>(Vegetarian Friendly, Bar, French, American, E...</td>\n",
       "      <td>6341.0</td>\n",
       "      <td>2.000000</td>\n",
       "      <td>542.0</td>\n",
       "      <td>/Restaurant_Review-g187147-d1800036-Reviews-La...</td>\n",
       "      <td>d1800036</td>\n",
       "      <td>1</td>\n",
       "      <td>3.5</td>\n",
       "      <td>...</td>\n",
       "      <td>2.3333</td>\n",
       "      <td>France</td>\n",
       "      <td>9904000.0</td>\n",
       "      <td>0</td>\n",
       "      <td>5</td>\n",
       "      <td>5.472536e-05</td>\n",
       "      <td>0.000640</td>\n",
       "      <td>6938.557138</td>\n",
       "      <td>6108</td>\n",
       "      <td>-0.097832</td>\n",
       "    </tr>\n",
       "    <tr>\n",
       "      <th>49997</th>\n",
       "      <td>id_1649</td>\n",
       "      <td>stockholm</td>\n",
       "      <td>(Sushi, Japanese)</td>\n",
       "      <td>1652.0</td>\n",
       "      <td>1.942238</td>\n",
       "      <td>4.0</td>\n",
       "      <td>/Restaurant_Review-g189852-d947615-Reviews-Sus...</td>\n",
       "      <td>d947615</td>\n",
       "      <td>1</td>\n",
       "      <td>4.5</td>\n",
       "      <td>...</td>\n",
       "      <td>18.0973</td>\n",
       "      <td>Sweden</td>\n",
       "      <td>1264000.0</td>\n",
       "      <td>0</td>\n",
       "      <td>2</td>\n",
       "      <td>3.164557e-06</td>\n",
       "      <td>0.001307</td>\n",
       "      <td>1237.482091</td>\n",
       "      <td>1033</td>\n",
       "      <td>0.401276</td>\n",
       "    </tr>\n",
       "    <tr>\n",
       "      <th>49998</th>\n",
       "      <td>id_640</td>\n",
       "      <td>warsaw</td>\n",
       "      <td>(Eastern European, Vegetarian Friendly, Polish...</td>\n",
       "      <td>641.0</td>\n",
       "      <td>2.000000</td>\n",
       "      <td>70.0</td>\n",
       "      <td>/Restaurant_Review-g274856-d1100838-Reviews-Ho...</td>\n",
       "      <td>d1100838</td>\n",
       "      <td>1</td>\n",
       "      <td>4.0</td>\n",
       "      <td>...</td>\n",
       "      <td>21.0000</td>\n",
       "      <td>Poland</td>\n",
       "      <td>1707000.0</td>\n",
       "      <td>0</td>\n",
       "      <td>5</td>\n",
       "      <td>4.100762e-05</td>\n",
       "      <td>0.000376</td>\n",
       "      <td>1055.193514</td>\n",
       "      <td>925</td>\n",
       "      <td>-0.447777</td>\n",
       "    </tr>\n",
       "    <tr>\n",
       "      <th>49999</th>\n",
       "      <td>id_4824</td>\n",
       "      <td>milan</td>\n",
       "      <td>(Spanish,)</td>\n",
       "      <td>4827.0</td>\n",
       "      <td>2.000000</td>\n",
       "      <td>260.0</td>\n",
       "      <td>/Restaurant_Review-g187849-d1109020-Reviews-Ta...</td>\n",
       "      <td>d1109020</td>\n",
       "      <td>1</td>\n",
       "      <td>3.0</td>\n",
       "      <td>...</td>\n",
       "      <td>9.2050</td>\n",
       "      <td>Italy</td>\n",
       "      <td>2945000.0</td>\n",
       "      <td>0</td>\n",
       "      <td>1</td>\n",
       "      <td>8.828523e-05</td>\n",
       "      <td>0.001639</td>\n",
       "      <td>3106.027840</td>\n",
       "      <td>2694</td>\n",
       "      <td>0.638817</td>\n",
       "    </tr>\n",
       "  </tbody>\n",
       "</table>\n",
       "<p>50000 rows × 32 columns</p>\n",
       "</div>"
      ],
      "text/plain": [
       "      Restaurant_id        City  \\\n",
       "0              id_0       paris   \n",
       "1              id_1    helsinki   \n",
       "2              id_2   edinburgh   \n",
       "3              id_3      london   \n",
       "4              id_4  bratislava   \n",
       "...             ...         ...   \n",
       "49995        id_499       milan   \n",
       "49996       id_6340       paris   \n",
       "49997       id_1649   stockholm   \n",
       "49998        id_640      warsaw   \n",
       "49999       id_4824       milan   \n",
       "\n",
       "                                           Cuisine Style  Ranking  \\\n",
       "0                                             (Pub, Bar)  12963.0   \n",
       "1      (Vegan Options, Gluten Free Options, Vegetaria...    106.0   \n",
       "2                                 (Vegetarian Friendly,)    810.0   \n",
       "3      (Gluten Free Options, Vegetarian Friendly, Eur...   1669.0   \n",
       "4      (Gluten Free Options, Seafood, Vegetarian Frie...     37.0   \n",
       "...                                                  ...      ...   \n",
       "49995  (Vegan Options, Vegetarian Friendly, Gluten Fr...    500.0   \n",
       "49996  (Vegetarian Friendly, Bar, French, American, E...   6341.0   \n",
       "49997                                  (Sushi, Japanese)   1652.0   \n",
       "49998  (Eastern European, Vegetarian Friendly, Polish...    641.0   \n",
       "49999                                         (Spanish,)   4827.0   \n",
       "\n",
       "       Price Range  Number of Reviews  \\\n",
       "0         2.000000                4.0   \n",
       "1         2.000000               97.0   \n",
       "2         2.000000               28.0   \n",
       "3         3.000000              202.0   \n",
       "4         3.000000              162.0   \n",
       "...            ...                ...   \n",
       "49995     2.000000               79.0   \n",
       "49996     2.000000              542.0   \n",
       "49997     1.942238                4.0   \n",
       "49998     2.000000               70.0   \n",
       "49999     2.000000              260.0   \n",
       "\n",
       "                                                  URL_TA      ID_TA  sample  \\\n",
       "0      /Restaurant_Review-g187147-d10746918-Reviews-L...  d10746918       0   \n",
       "1      /Restaurant_Review-g189934-d6674944-Reviews-Ra...   d6674944       0   \n",
       "2      /Restaurant_Review-g186525-d13129638-Reviews-B...  d13129638       0   \n",
       "3      /Restaurant_Review-g186338-d680417-Reviews-Qui...    d680417       0   \n",
       "4      /Restaurant_Review-g274924-d1112354-Reviews-Ma...   d1112354       0   \n",
       "...                                                  ...        ...     ...   \n",
       "49995  /Restaurant_Review-g187849-d2104414-Reviews-Ro...   d2104414       1   \n",
       "49996  /Restaurant_Review-g187147-d1800036-Reviews-La...   d1800036       1   \n",
       "49997  /Restaurant_Review-g189852-d947615-Reviews-Sus...    d947615       1   \n",
       "49998  /Restaurant_Review-g274856-d1100838-Reviews-Ho...   d1100838       1   \n",
       "49999  /Restaurant_Review-g187849-d1109020-Reviews-Ta...   d1109020       1   \n",
       "\n",
       "       Rating  ...      lng         Country Population NaN_Cuisine Style  \\\n",
       "0         0.0  ...   2.3333          France  9904000.0                 0   \n",
       "1         0.0  ...  24.9341         Finland  1115000.0                 0   \n",
       "2         0.0  ...  -3.2191  United Kingdom   504966.0                 0   \n",
       "3         0.0  ...  -0.1167  United Kingdom  8567000.0                 0   \n",
       "4         0.0  ...  17.1170        Slovakia   423737.0                 0   \n",
       "...       ...  ...      ...             ...        ...               ...   \n",
       "49995     4.5  ...   9.2050           Italy  2945000.0                 0   \n",
       "49996     3.5  ...   2.3333          France  9904000.0                 0   \n",
       "49997     4.5  ...  18.0973          Sweden  1264000.0                 0   \n",
       "49998     4.0  ...  21.0000          Poland  1707000.0                 0   \n",
       "49999     3.0  ...   9.2050           Italy  2945000.0                 0   \n",
       "\n",
       "      num_cuisine  Number_of_Reviews_by_Populat  Ranking_by_Populat  \\\n",
       "0               2                  4.038772e-07            0.001309   \n",
       "1               5                  8.699552e-05            0.000095   \n",
       "2               1                  5.544928e-05            0.001604   \n",
       "3               5                  2.357885e-05            0.000195   \n",
       "4               6                  3.823126e-04            0.000087   \n",
       "...           ...                           ...                 ...   \n",
       "49995           4                  2.682513e-05            0.000170   \n",
       "49996           5                  5.472536e-05            0.000640   \n",
       "49997           2                  3.164557e-06            0.001307   \n",
       "49998           5                  4.100762e-05            0.000376   \n",
       "49999           1                  8.828523e-05            0.001639   \n",
       "\n",
       "       mean_Ranking  count_Restorant  Ranking_weighed  \n",
       "0       6938.557138             6108         0.986320  \n",
       "1        564.231579              475        -0.964698  \n",
       "2        885.130201              745        -0.100846  \n",
       "3       8169.707354             7193        -0.903755  \n",
       "4        462.428947              380        -1.119550  \n",
       "...             ...              ...              ...  \n",
       "49995   3106.027840             2694        -0.967345  \n",
       "49996   6938.557138             6108        -0.097832  \n",
       "49997   1237.482091             1033         0.401276  \n",
       "49998   1055.193514              925        -0.447777  \n",
       "49999   3106.027840             2694         0.638817  \n",
       "\n",
       "[50000 rows x 32 columns]"
      ]
     },
     "execution_count": 91,
     "metadata": {},
     "output_type": "execute_result"
    }
   ],
   "source": [
    "data"
   ]
  },
  {
   "cell_type": "code",
   "execution_count": 92,
   "metadata": {
    "execution": {
     "iopub.execute_input": "2021-07-11T10:37:37.467152Z",
     "iopub.status.busy": "2021-07-11T10:37:37.466636Z",
     "iopub.status.idle": "2021-07-11T10:37:37.514616Z",
     "shell.execute_reply": "2021-07-11T10:37:37.513764Z",
     "shell.execute_reply.started": "2021-07-11T10:37:37.467094Z"
    }
   },
   "outputs": [],
   "source": [
    "# для One-Hot Encoding в pandas есть готовая функция - get_dummies. Особенно радует параметр dummy_na\n",
    "data = pd.get_dummies(data, columns=[ 'City',], dummy_na=True)\n",
    "#data = pd.get_dummies(data, columns=[ 'Country',], dummy_na=True)"
   ]
  },
  {
   "cell_type": "markdown",
   "metadata": {},
   "source": [
    "### Посмотрим распределение целевой переменной"
   ]
  },
  {
   "cell_type": "code",
   "execution_count": 93,
   "metadata": {
    "execution": {
     "iopub.execute_input": "2021-07-11T10:37:37.516241Z",
     "iopub.status.busy": "2021-07-11T10:37:37.516022Z",
     "iopub.status.idle": "2021-07-11T10:37:37.794913Z",
     "shell.execute_reply": "2021-07-11T10:37:37.793882Z",
     "shell.execute_reply.started": "2021-07-11T10:37:37.516208Z"
    }
   },
   "outputs": [
    {
     "data": {
      "text/plain": [
       "<matplotlib.axes._subplots.AxesSubplot at 0x7f279469bef0>"
      ]
     },
     "execution_count": 93,
     "metadata": {},
     "output_type": "execute_result"
    },
    {
     "data": {
      "image/png": "[encoded data removed]",
      "text/plain": [
       "<Figure size 720x504 with 1 Axes>"
      ]
     },
     "metadata": {
      "needs_background": "light"
     },
     "output_type": "display_data"
    }
   ],
   "source": [
    "df_train['Rating'].value_counts(ascending=True).plot(kind='barh')"
   ]
  },
  {
   "cell_type": "markdown",
   "metadata": {},
   "source": [
    "### Посмотрим распределение целевой переменной относительно признака"
   ]
  },
  {
   "cell_type": "code",
   "execution_count": 94,
   "metadata": {
    "execution": {
     "iopub.execute_input": "2021-07-11T10:37:37.797164Z",
     "iopub.status.busy": "2021-07-11T10:37:37.796647Z",
     "iopub.status.idle": "2021-07-11T10:37:38.272396Z",
     "shell.execute_reply": "2021-07-11T10:37:38.271234Z",
     "shell.execute_reply.started": "2021-07-11T10:37:37.796961Z"
    }
   },
   "outputs": [
    {
     "data": {
      "text/plain": [
       "<matplotlib.axes._subplots.AxesSubplot at 0x7f27936bf9e8>"
      ]
     },
     "execution_count": 94,
     "metadata": {},
     "output_type": "execute_result"
    },
    {
     "data": {
      "image/png": "[encoded data removed]",
      "text/plain": [
       "<Figure size 720x504 with 1 Axes>"
      ]
     },
     "metadata": {
      "needs_background": "light"
     },
     "output_type": "display_data"
    }
   ],
   "source": [
    "df_train['Ranking'][df_train['Rating'] == 5].hist(bins=100)"
   ]
  },
  {
   "cell_type": "code",
   "execution_count": 95,
   "metadata": {
    "execution": {
     "iopub.execute_input": "2021-07-11T10:37:38.274805Z",
     "iopub.status.busy": "2021-07-11T10:37:38.274190Z",
     "iopub.status.idle": "2021-07-11T10:37:38.990026Z",
     "shell.execute_reply": "2021-07-11T10:37:38.989023Z",
     "shell.execute_reply.started": "2021-07-11T10:37:38.274503Z"
    }
   },
   "outputs": [
    {
     "data": {
      "text/plain": [
       "<matplotlib.axes._subplots.AxesSubplot at 0x7f2795a7d978>"
      ]
     },
     "execution_count": 95,
     "metadata": {},
     "output_type": "execute_result"
    },
    {
     "data": {
      "image/png": "[encoded data removed]",
      "text/plain": [
       "<Figure size 720x504 with 1 Axes>"
      ]
     },
     "metadata": {
      "needs_background": "light"
     },
     "output_type": "display_data"
    }
   ],
   "source": [
    "df_train['Ranking'][df_train['Rating'] < 4].hist(bins=100)"
   ]
  },
  {
   "cell_type": "markdown",
   "metadata": {},
   "source": [
    "### И один из моих любимых - [корреляция признаков](https://ru.wikipedia.org/wiki/Корреляция)\n",
    "На этом графике уже сейчас вы сможете заметить, как признаки связаны между собой и с целевой переменной."
   ]
  },
  {
   "cell_type": "code",
   "execution_count": 96,
   "metadata": {
    "execution": {
     "iopub.execute_input": "2021-07-11T10:37:38.992140Z",
     "iopub.status.busy": "2021-07-11T10:37:38.991592Z",
     "iopub.status.idle": "2021-07-11T10:37:39.025636Z",
     "shell.execute_reply": "2021-07-11T10:37:39.024659Z",
     "shell.execute_reply.started": "2021-07-11T10:37:38.992079Z"
    }
   },
   "outputs": [],
   "source": [
    "del data['Restaurant_id']\n",
    "del data['Cuisine Style']\n",
    "del data['URL_TA']\n",
    "del data['ID_TA']\n",
    "del data['Reviews0']\n",
    "del data['Reviews1']\n",
    "del data['Reviews_data0']\n",
    "del data['Reviews_data1']\n",
    "del data['City_nan']\n",
    "del data['Country']\n",
    "del data['mean_Ranking']\n",
    "del data['count_Restorant']\n"
   ]
  },
  {
   "cell_type": "code",
   "execution_count": 97,
   "metadata": {
    "execution": {
     "iopub.execute_input": "2021-07-11T10:37:39.027658Z",
     "iopub.status.busy": "2021-07-11T10:37:39.027125Z",
     "iopub.status.idle": "2021-07-11T10:37:40.747059Z",
     "shell.execute_reply": "2021-07-11T10:37:40.745938Z",
     "shell.execute_reply.started": "2021-07-11T10:37:39.027599Z"
    }
   },
   "outputs": [
    {
     "data": {
      "text/plain": [
       "<matplotlib.axes._subplots.AxesSubplot at 0x7f27956b8278>"
      ]
     },
     "execution_count": 97,
     "metadata": {},
     "output_type": "execute_result"
    },
    {
     "data": {
      "image/png": "[encoded data removed]",
      "text/plain": [
       "<Figure size 1080x720 with 2 Axes>"
      ]
     },
     "metadata": {
      "needs_background": "light"
     },
     "output_type": "display_data"
    }
   ],
   "source": [
    "plt.rcParams['figure.figsize'] = (15,10)\n",
    "sns.heatmap(data.drop(['sample'], axis=1).corr(),)"
   ]
  },
  {
   "cell_type": "markdown",
   "metadata": {},
   "source": [
    "Вообще благодаря визуализации в этом датасете можно узнать много интересных фактов, например:\n",
    "* где больше Пицерий в Мадриде или Лондоне?\n",
    "* в каком городе кухня ресторанов более разнообразна?\n",
    "\n",
    "придумайте свои вопрос и найдите на него ответ в данных)"
   ]
  },
  {
   "cell_type": "code",
   "execution_count": 98,
   "metadata": {
    "execution": {
     "iopub.execute_input": "2021-07-11T10:37:40.749132Z",
     "iopub.status.busy": "2021-07-11T10:37:40.748618Z",
     "iopub.status.idle": "2021-07-11T10:37:40.774039Z",
     "shell.execute_reply": "2021-07-11T10:37:40.773325Z",
     "shell.execute_reply.started": "2021-07-11T10:37:40.749076Z"
    }
   },
   "outputs": [
    {
     "name": "stdout",
     "output_type": "stream",
     "text": [
      "<class 'pandas.core.frame.DataFrame'>\n",
      "Int64Index: 50000 entries, 0 to 49999\n",
      "Data columns (total 51 columns):\n",
      "Ranking                         50000 non-null float64\n",
      "Price Range                     50000 non-null float64\n",
      "Number of Reviews               50000 non-null float64\n",
      "sample                          50000 non-null int64\n",
      "Rating                          50000 non-null float64\n",
      "Number_of_Reviews_isNAN         50000 non-null uint8\n",
      "time_delta                      50000 non-null float64\n",
      "NaN_Reviews0                    50000 non-null uint8\n",
      "NaN_Reviews1                    50000 non-null uint8\n",
      "Review_0                        50000 non-null float64\n",
      "Review_1                        50000 non-null float64\n",
      "NaN_Price Range                 50000 non-null uint8\n",
      "lat                             50000 non-null float64\n",
      "lng                             50000 non-null float64\n",
      "Population                      50000 non-null float64\n",
      "NaN_Cuisine Style               50000 non-null uint8\n",
      "num_cuisine                     50000 non-null int64\n",
      "Number_of_Reviews_by_Populat    50000 non-null float64\n",
      "Ranking_by_Populat              50000 non-null float64\n",
      "Ranking_weighed                 50000 non-null float64\n",
      "City_amsterdam                  50000 non-null uint8\n",
      "City_athens                     50000 non-null uint8\n",
      "City_barcelona                  50000 non-null uint8\n",
      "City_berlin                     50000 non-null uint8\n",
      "City_bratislava                 50000 non-null uint8\n",
      "City_brussels                   50000 non-null uint8\n",
      "City_budapest                   50000 non-null uint8\n",
      "City_copenhagen                 50000 non-null uint8\n",
      "City_dublin                     50000 non-null uint8\n",
      "City_edinburgh                  50000 non-null uint8\n",
      "City_geneva                     50000 non-null uint8\n",
      "City_hamburg                    50000 non-null uint8\n",
      "City_helsinki                   50000 non-null uint8\n",
      "City_krakow                     50000 non-null uint8\n",
      "City_lisbon                     50000 non-null uint8\n",
      "City_ljubljana                  50000 non-null uint8\n",
      "City_london                     50000 non-null uint8\n",
      "City_luxembourg                 50000 non-null uint8\n",
      "City_lyon                       50000 non-null uint8\n",
      "City_madrid                     50000 non-null uint8\n",
      "City_milan                      50000 non-null uint8\n",
      "City_munich                     50000 non-null uint8\n",
      "City_oporto                     50000 non-null uint8\n",
      "City_oslo                       50000 non-null uint8\n",
      "City_paris                      50000 non-null uint8\n",
      "City_prague                     50000 non-null uint8\n",
      "City_rome                       50000 non-null uint8\n",
      "City_stockholm                  50000 non-null uint8\n",
      "City_vienna                     50000 non-null uint8\n",
      "City_warsaw                     50000 non-null uint8\n",
      "City_zurich                     50000 non-null uint8\n",
      "dtypes: float64(13), int64(2), uint8(36)\n",
      "memory usage: 7.8 MB\n"
     ]
    }
   ],
   "source": [
    "data.info()"
   ]
  },
  {
   "cell_type": "markdown",
   "metadata": {},
   "source": [
    "#### Запускаем и проверяем что получилось"
   ]
  },
  {
   "cell_type": "code",
   "execution_count": 99,
   "metadata": {
    "execution": {
     "iopub.execute_input": "2021-07-11T10:37:40.775621Z",
     "iopub.status.busy": "2021-07-11T10:37:40.775370Z",
     "iopub.status.idle": "2021-07-11T10:37:40.780116Z",
     "shell.execute_reply": "2021-07-11T10:37:40.778954Z",
     "shell.execute_reply.started": "2021-07-11T10:37:40.775572Z"
    }
   },
   "outputs": [],
   "source": [
    "df_preproc = data\n"
   ]
  },
  {
   "cell_type": "code",
   "execution_count": null,
   "metadata": {},
   "outputs": [],
   "source": []
  },
  {
   "cell_type": "code",
   "execution_count": 100,
   "metadata": {
    "execution": {
     "iopub.execute_input": "2021-07-11T10:37:40.781679Z",
     "iopub.status.busy": "2021-07-11T10:37:40.781248Z",
     "iopub.status.idle": "2021-07-11T10:37:40.822250Z",
     "shell.execute_reply": "2021-07-11T10:37:40.821447Z",
     "shell.execute_reply.started": "2021-07-11T10:37:40.781634Z"
    }
   },
   "outputs": [],
   "source": [
    "# Теперь выделим тестовую часть\n",
    "train_data = df_preproc.query('sample == 1').drop(['sample'], axis=1)\n",
    "test_data = df_preproc.query('sample == 0').drop(['sample'], axis=1)\n",
    "\n",
    "y = train_data.Rating.values            # наш таргет\n",
    "X = train_data.drop(['Rating'], axis=1)"
   ]
  },
  {
   "cell_type": "markdown",
   "metadata": {},
   "source": [
    "**Перед тем как отправлять наши данные на обучение, разделим данные на еще один тест и трейн, для валидации. \n",
    "Это поможет нам проверить, как хорошо наша модель работает, до отправки submissiona на kaggle.**"
   ]
  },
  {
   "cell_type": "code",
   "execution_count": 101,
   "metadata": {
    "execution": {
     "iopub.execute_input": "2021-07-11T10:37:40.823608Z",
     "iopub.status.busy": "2021-07-11T10:37:40.823265Z",
     "iopub.status.idle": "2021-07-11T10:37:40.842214Z",
     "shell.execute_reply": "2021-07-11T10:37:40.841076Z",
     "shell.execute_reply.started": "2021-07-11T10:37:40.823571Z"
    }
   },
   "outputs": [],
   "source": [
    "# Воспользуемся специальной функцие train_test_split для разбивки тестовых данных\n",
    "# выделим 20% данных на валидацию (параметр test_size)\n",
    "X_train, X_test, y_train, y_test = train_test_split(X, y, test_size=0.2, random_state=RANDOM_SEED)"
   ]
  },
  {
   "cell_type": "code",
   "execution_count": 102,
   "metadata": {
    "execution": {
     "iopub.execute_input": "2021-07-11T10:37:40.843918Z",
     "iopub.status.busy": "2021-07-11T10:37:40.843547Z",
     "iopub.status.idle": "2021-07-11T10:37:40.850045Z",
     "shell.execute_reply": "2021-07-11T10:37:40.849346Z",
     "shell.execute_reply.started": "2021-07-11T10:37:40.843743Z"
    }
   },
   "outputs": [
    {
     "data": {
      "text/plain": [
       "((10000, 50), (40000, 50), (40000, 49), (32000, 49), (8000, 49))"
      ]
     },
     "execution_count": 102,
     "metadata": {},
     "output_type": "execute_result"
    }
   ],
   "source": [
    "# проверяем\n",
    "test_data.shape, train_data.shape, X.shape, X_train.shape, X_test.shape"
   ]
  },
  {
   "cell_type": "markdown",
   "metadata": {},
   "source": [
    "# Model \n",
    "Сам ML"
   ]
  },
  {
   "cell_type": "code",
   "execution_count": 103,
   "metadata": {
    "execution": {
     "iopub.execute_input": "2021-07-11T10:37:40.851888Z",
     "iopub.status.busy": "2021-07-11T10:37:40.851383Z",
     "iopub.status.idle": "2021-07-11T10:37:40.860251Z",
     "shell.execute_reply": "2021-07-11T10:37:40.859046Z",
     "shell.execute_reply.started": "2021-07-11T10:37:40.851848Z"
    }
   },
   "outputs": [],
   "source": [
    "# Импортируем необходимые библиотеки:\n",
    "from sklearn.ensemble import RandomForestRegressor # инструмент для создания и обучения модели\n",
    "from sklearn import metrics # инструменты для оценки точности модели"
   ]
  },
  {
   "cell_type": "code",
   "execution_count": 104,
   "metadata": {
    "execution": {
     "iopub.execute_input": "2021-07-11T10:37:40.861883Z",
     "iopub.status.busy": "2021-07-11T10:37:40.861612Z",
     "iopub.status.idle": "2021-07-11T10:37:40.873280Z",
     "shell.execute_reply": "2021-07-11T10:37:40.872261Z",
     "shell.execute_reply.started": "2021-07-11T10:37:40.861832Z"
    }
   },
   "outputs": [],
   "source": [
    "# Создаём модель (НАСТРОЙКИ НЕ ТРОГАЕМ)\n",
    "model = RandomForestRegressor(n_estimators=100, verbose=1, n_jobs=-1, random_state=RANDOM_SEED)"
   ]
  },
  {
   "cell_type": "code",
   "execution_count": 105,
   "metadata": {
    "execution": {
     "iopub.execute_input": "2021-07-11T10:37:40.875037Z",
     "iopub.status.busy": "2021-07-11T10:37:40.874752Z",
     "iopub.status.idle": "2021-07-11T10:37:53.171389Z",
     "shell.execute_reply": "2021-07-11T10:37:53.170505Z",
     "shell.execute_reply.started": "2021-07-11T10:37:40.874992Z"
    }
   },
   "outputs": [
    {
     "name": "stderr",
     "output_type": "stream",
     "text": [
      "[Parallel(n_jobs=-1)]: Using backend ThreadingBackend with 4 concurrent workers.\n",
      "[Parallel(n_jobs=-1)]: Done  42 tasks      | elapsed:    5.4s\n",
      "[Parallel(n_jobs=-1)]: Done 100 out of 100 | elapsed:   12.5s finished\n",
      "[Parallel(n_jobs=4)]: Using backend ThreadingBackend with 4 concurrent workers.\n",
      "[Parallel(n_jobs=4)]: Done  42 tasks      | elapsed:    0.0s\n",
      "[Parallel(n_jobs=4)]: Done 100 out of 100 | elapsed:    0.1s finished\n"
     ]
    }
   ],
   "source": [
    "# Обучаем модель на тестовом наборе данных\n",
    "model.fit(X_train, y_train)\n",
    "\n",
    "# Используем обученную модель для предсказания рейтинга ресторанов в тестовой выборке.\n",
    "# Предсказанные значения записываем в переменную y_pred\n",
    "y_pred = model.predict(X_test)"
   ]
  },
  {
   "cell_type": "code",
   "execution_count": 106,
   "metadata": {
    "execution": {
     "iopub.execute_input": "2021-07-11T10:37:53.173302Z",
     "iopub.status.busy": "2021-07-11T10:37:53.172955Z",
     "iopub.status.idle": "2021-07-11T10:37:53.180470Z",
     "shell.execute_reply": "2021-07-11T10:37:53.179487Z",
     "shell.execute_reply.started": "2021-07-11T10:37:53.173235Z"
    }
   },
   "outputs": [
    {
     "data": {
      "text/plain": [
       "array([4.5, 5. , 4. , ..., 4.5, 4.5, 4. ])"
      ]
     },
     "execution_count": 106,
     "metadata": {},
     "output_type": "execute_result"
    }
   ],
   "source": [
    "# Округлим до 0.5 полученные значения рейтинга\n",
    "y_pred = (y_pred * 2).round()/2\n",
    "y_pred"
   ]
  },
  {
   "cell_type": "code",
   "execution_count": 107,
   "metadata": {
    "execution": {
     "iopub.execute_input": "2021-07-11T10:37:53.182528Z",
     "iopub.status.busy": "2021-07-11T10:37:53.182187Z",
     "iopub.status.idle": "2021-07-11T10:37:53.193637Z",
     "shell.execute_reply": "2021-07-11T10:37:53.192921Z",
     "shell.execute_reply.started": "2021-07-11T10:37:53.182460Z"
    }
   },
   "outputs": [
    {
     "name": "stdout",
     "output_type": "stream",
     "text": [
      "MAE: 0.17175\n"
     ]
    }
   ],
   "source": [
    "# Сравниваем предсказанные значения (y_pred) с реальными (y_test), и смотрим насколько они в среднем отличаются\n",
    "# Метрика называется Mean Absolute Error (MAE) и показывает среднее отклонение предсказанных значений от фактических.\n",
    "print('MAE:', metrics.mean_absolute_error(y_test, y_pred))"
   ]
  },
  {
   "cell_type": "code",
   "execution_count": 108,
   "metadata": {
    "execution": {
     "iopub.execute_input": "2021-07-11T10:37:53.195176Z",
     "iopub.status.busy": "2021-07-11T10:37:53.194927Z",
     "iopub.status.idle": "2021-07-11T10:37:53.641231Z",
     "shell.execute_reply": "2021-07-11T10:37:53.639905Z",
     "shell.execute_reply.started": "2021-07-11T10:37:53.195130Z"
    }
   },
   "outputs": [
    {
     "data": {
      "text/plain": [
       "<matplotlib.axes._subplots.AxesSubplot at 0x7f27947d3b00>"
      ]
     },
     "execution_count": 108,
     "metadata": {},
     "output_type": "execute_result"
    },
    {
     "data": {
      "image/png": "[encoded data removed]",
      "text/plain": [
       "<Figure size 720x720 with 1 Axes>"
      ]
     },
     "metadata": {
      "needs_background": "light"
     },
     "output_type": "display_data"
    }
   ],
   "source": [
    "# в RandomForestRegressor есть возможность вывести самые важные признаки для модели\n",
    "plt.rcParams['figure.figsize'] = (10,10)\n",
    "feat_importances = pd.Series(model.feature_importances_, index=X.columns)\n",
    "feat_importances.nlargest(15).plot(kind='barh')"
   ]
  },
  {
   "cell_type": "markdown",
   "metadata": {},
   "source": [
    "# Submission\n",
    "Если все устраевает - готовим Submission на кагл"
   ]
  },
  {
   "cell_type": "code",
   "execution_count": 109,
   "metadata": {
    "execution": {
     "iopub.execute_input": "2021-07-11T10:37:53.643616Z",
     "iopub.status.busy": "2021-07-11T10:37:53.643088Z",
     "iopub.status.idle": "2021-07-11T10:37:53.678657Z",
     "shell.execute_reply": "2021-07-11T10:37:53.677698Z",
     "shell.execute_reply.started": "2021-07-11T10:37:53.643393Z"
    }
   },
   "outputs": [
    {
     "data": {
      "text/html": [
       "<div>\n",
       "<style scoped>\n",
       "    .dataframe tbody tr th:only-of-type {\n",
       "        vertical-align: middle;\n",
       "    }\n",
       "\n",
       "    .dataframe tbody tr th {\n",
       "        vertical-align: top;\n",
       "    }\n",
       "\n",
       "    .dataframe thead th {\n",
       "        text-align: right;\n",
       "    }\n",
       "</style>\n",
       "<table border=\"1\" class=\"dataframe\">\n",
       "  <thead>\n",
       "    <tr style=\"text-align: right;\">\n",
       "      <th></th>\n",
       "      <th>Ranking</th>\n",
       "      <th>Price Range</th>\n",
       "      <th>Number of Reviews</th>\n",
       "      <th>Rating</th>\n",
       "      <th>Number_of_Reviews_isNAN</th>\n",
       "      <th>time_delta</th>\n",
       "      <th>NaN_Reviews0</th>\n",
       "      <th>NaN_Reviews1</th>\n",
       "      <th>Review_0</th>\n",
       "      <th>Review_1</th>\n",
       "      <th>...</th>\n",
       "      <th>City_munich</th>\n",
       "      <th>City_oporto</th>\n",
       "      <th>City_oslo</th>\n",
       "      <th>City_paris</th>\n",
       "      <th>City_prague</th>\n",
       "      <th>City_rome</th>\n",
       "      <th>City_stockholm</th>\n",
       "      <th>City_vienna</th>\n",
       "      <th>City_warsaw</th>\n",
       "      <th>City_zurich</th>\n",
       "    </tr>\n",
       "  </thead>\n",
       "  <tbody>\n",
       "    <tr>\n",
       "      <th>0</th>\n",
       "      <td>12963.0</td>\n",
       "      <td>2.0</td>\n",
       "      <td>4.0</td>\n",
       "      <td>0.0</td>\n",
       "      <td>0</td>\n",
       "      <td>142.548832</td>\n",
       "      <td>1</td>\n",
       "      <td>1</td>\n",
       "      <td>0.00</td>\n",
       "      <td>0.000000</td>\n",
       "      <td>...</td>\n",
       "      <td>0</td>\n",
       "      <td>0</td>\n",
       "      <td>0</td>\n",
       "      <td>1</td>\n",
       "      <td>0</td>\n",
       "      <td>0</td>\n",
       "      <td>0</td>\n",
       "      <td>0</td>\n",
       "      <td>0</td>\n",
       "      <td>0</td>\n",
       "    </tr>\n",
       "    <tr>\n",
       "      <th>1</th>\n",
       "      <td>106.0</td>\n",
       "      <td>2.0</td>\n",
       "      <td>97.0</td>\n",
       "      <td>0.0</td>\n",
       "      <td>0</td>\n",
       "      <td>37.000000</td>\n",
       "      <td>0</td>\n",
       "      <td>0</td>\n",
       "      <td>1.00</td>\n",
       "      <td>0.416667</td>\n",
       "      <td>...</td>\n",
       "      <td>0</td>\n",
       "      <td>0</td>\n",
       "      <td>0</td>\n",
       "      <td>0</td>\n",
       "      <td>0</td>\n",
       "      <td>0</td>\n",
       "      <td>0</td>\n",
       "      <td>0</td>\n",
       "      <td>0</td>\n",
       "      <td>0</td>\n",
       "    </tr>\n",
       "    <tr>\n",
       "      <th>2</th>\n",
       "      <td>810.0</td>\n",
       "      <td>2.0</td>\n",
       "      <td>28.0</td>\n",
       "      <td>0.0</td>\n",
       "      <td>0</td>\n",
       "      <td>22.000000</td>\n",
       "      <td>0</td>\n",
       "      <td>0</td>\n",
       "      <td>0.50</td>\n",
       "      <td>-0.166667</td>\n",
       "      <td>...</td>\n",
       "      <td>0</td>\n",
       "      <td>0</td>\n",
       "      <td>0</td>\n",
       "      <td>0</td>\n",
       "      <td>0</td>\n",
       "      <td>0</td>\n",
       "      <td>0</td>\n",
       "      <td>0</td>\n",
       "      <td>0</td>\n",
       "      <td>0</td>\n",
       "    </tr>\n",
       "    <tr>\n",
       "      <th>3</th>\n",
       "      <td>1669.0</td>\n",
       "      <td>3.0</td>\n",
       "      <td>202.0</td>\n",
       "      <td>0.0</td>\n",
       "      <td>0</td>\n",
       "      <td>14.000000</td>\n",
       "      <td>0</td>\n",
       "      <td>0</td>\n",
       "      <td>0.75</td>\n",
       "      <td>0.750000</td>\n",
       "      <td>...</td>\n",
       "      <td>0</td>\n",
       "      <td>0</td>\n",
       "      <td>0</td>\n",
       "      <td>0</td>\n",
       "      <td>0</td>\n",
       "      <td>0</td>\n",
       "      <td>0</td>\n",
       "      <td>0</td>\n",
       "      <td>0</td>\n",
       "      <td>0</td>\n",
       "    </tr>\n",
       "    <tr>\n",
       "      <th>4</th>\n",
       "      <td>37.0</td>\n",
       "      <td>3.0</td>\n",
       "      <td>162.0</td>\n",
       "      <td>0.0</td>\n",
       "      <td>0</td>\n",
       "      <td>15.000000</td>\n",
       "      <td>0</td>\n",
       "      <td>0</td>\n",
       "      <td>1.00</td>\n",
       "      <td>0.910000</td>\n",
       "      <td>...</td>\n",
       "      <td>0</td>\n",
       "      <td>0</td>\n",
       "      <td>0</td>\n",
       "      <td>0</td>\n",
       "      <td>0</td>\n",
       "      <td>0</td>\n",
       "      <td>0</td>\n",
       "      <td>0</td>\n",
       "      <td>0</td>\n",
       "      <td>0</td>\n",
       "    </tr>\n",
       "  </tbody>\n",
       "</table>\n",
       "<p>5 rows × 50 columns</p>\n",
       "</div>"
      ],
      "text/plain": [
       "   Ranking  Price Range  Number of Reviews  Rating  Number_of_Reviews_isNAN  \\\n",
       "0  12963.0          2.0                4.0     0.0                        0   \n",
       "1    106.0          2.0               97.0     0.0                        0   \n",
       "2    810.0          2.0               28.0     0.0                        0   \n",
       "3   1669.0          3.0              202.0     0.0                        0   \n",
       "4     37.0          3.0              162.0     0.0                        0   \n",
       "\n",
       "   time_delta  NaN_Reviews0  NaN_Reviews1  Review_0  Review_1  ...  \\\n",
       "0  142.548832             1             1      0.00  0.000000  ...   \n",
       "1   37.000000             0             0      1.00  0.416667  ...   \n",
       "2   22.000000             0             0      0.50 -0.166667  ...   \n",
       "3   14.000000             0             0      0.75  0.750000  ...   \n",
       "4   15.000000             0             0      1.00  0.910000  ...   \n",
       "\n",
       "   City_munich  City_oporto  City_oslo  City_paris  City_prague  City_rome  \\\n",
       "0            0            0          0           1            0          0   \n",
       "1            0            0          0           0            0          0   \n",
       "2            0            0          0           0            0          0   \n",
       "3            0            0          0           0            0          0   \n",
       "4            0            0          0           0            0          0   \n",
       "\n",
       "   City_stockholm  City_vienna  City_warsaw  City_zurich  \n",
       "0               0            0            0            0  \n",
       "1               0            0            0            0  \n",
       "2               0            0            0            0  \n",
       "3               0            0            0            0  \n",
       "4               0            0            0            0  \n",
       "\n",
       "[5 rows x 50 columns]"
      ]
     },
     "execution_count": 109,
     "metadata": {},
     "output_type": "execute_result"
    }
   ],
   "source": [
    "test_data.head(5)"
   ]
  },
  {
   "cell_type": "code",
   "execution_count": 110,
   "metadata": {
    "execution": {
     "iopub.execute_input": "2021-07-11T10:37:53.680628Z",
     "iopub.status.busy": "2021-07-11T10:37:53.680298Z",
     "iopub.status.idle": "2021-07-11T10:37:53.687816Z",
     "shell.execute_reply": "2021-07-11T10:37:53.686963Z",
     "shell.execute_reply.started": "2021-07-11T10:37:53.680563Z"
    }
   },
   "outputs": [],
   "source": [
    "test_data = test_data.drop(['Rating'], axis=1)"
   ]
  },
  {
   "cell_type": "code",
   "execution_count": 111,
   "metadata": {
    "execution": {
     "iopub.execute_input": "2021-07-11T10:37:53.689954Z",
     "iopub.status.busy": "2021-07-11T10:37:53.689610Z",
     "iopub.status.idle": "2021-07-11T10:37:53.713881Z",
     "shell.execute_reply": "2021-07-11T10:37:53.713121Z",
     "shell.execute_reply.started": "2021-07-11T10:37:53.689892Z"
    }
   },
   "outputs": [
    {
     "data": {
      "text/html": [
       "<div>\n",
       "<style scoped>\n",
       "    .dataframe tbody tr th:only-of-type {\n",
       "        vertical-align: middle;\n",
       "    }\n",
       "\n",
       "    .dataframe tbody tr th {\n",
       "        vertical-align: top;\n",
       "    }\n",
       "\n",
       "    .dataframe thead th {\n",
       "        text-align: right;\n",
       "    }\n",
       "</style>\n",
       "<table border=\"1\" class=\"dataframe\">\n",
       "  <thead>\n",
       "    <tr style=\"text-align: right;\">\n",
       "      <th></th>\n",
       "      <th>Restaurant_id</th>\n",
       "      <th>Rating</th>\n",
       "    </tr>\n",
       "  </thead>\n",
       "  <tbody>\n",
       "    <tr>\n",
       "      <th>0</th>\n",
       "      <td>id_0</td>\n",
       "      <td>2.0</td>\n",
       "    </tr>\n",
       "    <tr>\n",
       "      <th>1</th>\n",
       "      <td>id_1</td>\n",
       "      <td>2.5</td>\n",
       "    </tr>\n",
       "    <tr>\n",
       "      <th>2</th>\n",
       "      <td>id_2</td>\n",
       "      <td>4.0</td>\n",
       "    </tr>\n",
       "    <tr>\n",
       "      <th>3</th>\n",
       "      <td>id_3</td>\n",
       "      <td>1.0</td>\n",
       "    </tr>\n",
       "    <tr>\n",
       "      <th>4</th>\n",
       "      <td>id_4</td>\n",
       "      <td>4.0</td>\n",
       "    </tr>\n",
       "    <tr>\n",
       "      <th>...</th>\n",
       "      <td>...</td>\n",
       "      <td>...</td>\n",
       "    </tr>\n",
       "    <tr>\n",
       "      <th>9995</th>\n",
       "      <td>id_9995</td>\n",
       "      <td>3.0</td>\n",
       "    </tr>\n",
       "    <tr>\n",
       "      <th>9996</th>\n",
       "      <td>id_9996</td>\n",
       "      <td>1.5</td>\n",
       "    </tr>\n",
       "    <tr>\n",
       "      <th>9997</th>\n",
       "      <td>id_9997</td>\n",
       "      <td>4.5</td>\n",
       "    </tr>\n",
       "    <tr>\n",
       "      <th>9998</th>\n",
       "      <td>id_9998</td>\n",
       "      <td>1.0</td>\n",
       "    </tr>\n",
       "    <tr>\n",
       "      <th>9999</th>\n",
       "      <td>id_9999</td>\n",
       "      <td>2.5</td>\n",
       "    </tr>\n",
       "  </tbody>\n",
       "</table>\n",
       "<p>10000 rows × 2 columns</p>\n",
       "</div>"
      ],
      "text/plain": [
       "     Restaurant_id  Rating\n",
       "0             id_0     2.0\n",
       "1             id_1     2.5\n",
       "2             id_2     4.0\n",
       "3             id_3     1.0\n",
       "4             id_4     4.0\n",
       "...            ...     ...\n",
       "9995       id_9995     3.0\n",
       "9996       id_9996     1.5\n",
       "9997       id_9997     4.5\n",
       "9998       id_9998     1.0\n",
       "9999       id_9999     2.5\n",
       "\n",
       "[10000 rows x 2 columns]"
      ]
     },
     "execution_count": 111,
     "metadata": {},
     "output_type": "execute_result"
    }
   ],
   "source": [
    "sample_submission"
   ]
  },
  {
   "cell_type": "code",
   "execution_count": 112,
   "metadata": {
    "execution": {
     "iopub.execute_input": "2021-07-11T10:37:53.715327Z",
     "iopub.status.busy": "2021-07-11T10:37:53.714957Z",
     "iopub.status.idle": "2021-07-11T10:37:53.832449Z",
     "shell.execute_reply": "2021-07-11T10:37:53.831633Z",
     "shell.execute_reply.started": "2021-07-11T10:37:53.715272Z"
    }
   },
   "outputs": [
    {
     "name": "stderr",
     "output_type": "stream",
     "text": [
      "[Parallel(n_jobs=4)]: Using backend ThreadingBackend with 4 concurrent workers.\n",
      "[Parallel(n_jobs=4)]: Done  42 tasks      | elapsed:    0.0s\n",
      "[Parallel(n_jobs=4)]: Done 100 out of 100 | elapsed:    0.1s finished\n"
     ]
    }
   ],
   "source": [
    "predict_submission = model.predict(test_data)"
   ]
  },
  {
   "cell_type": "code",
   "execution_count": 113,
   "metadata": {
    "execution": {
     "iopub.execute_input": "2021-07-11T10:37:53.833753Z",
     "iopub.status.busy": "2021-07-11T10:37:53.833516Z",
     "iopub.status.idle": "2021-07-11T10:37:53.837827Z",
     "shell.execute_reply": "2021-07-11T10:37:53.837070Z",
     "shell.execute_reply.started": "2021-07-11T10:37:53.833712Z"
    }
   },
   "outputs": [],
   "source": [
    "predict_submission = (predict_submission * 2).round()/2"
   ]
  },
  {
   "cell_type": "code",
   "execution_count": 114,
   "metadata": {
    "execution": {
     "iopub.execute_input": "2021-07-11T10:37:53.839752Z",
     "iopub.status.busy": "2021-07-11T10:37:53.839410Z",
     "iopub.status.idle": "2021-07-11T10:37:53.883455Z",
     "shell.execute_reply": "2021-07-11T10:37:53.882515Z",
     "shell.execute_reply.started": "2021-07-11T10:37:53.839686Z"
    }
   },
   "outputs": [
    {
     "data": {
      "text/html": [
       "<div>\n",
       "<style scoped>\n",
       "    .dataframe tbody tr th:only-of-type {\n",
       "        vertical-align: middle;\n",
       "    }\n",
       "\n",
       "    .dataframe tbody tr th {\n",
       "        vertical-align: top;\n",
       "    }\n",
       "\n",
       "    .dataframe thead th {\n",
       "        text-align: right;\n",
       "    }\n",
       "</style>\n",
       "<table border=\"1\" class=\"dataframe\">\n",
       "  <thead>\n",
       "    <tr style=\"text-align: right;\">\n",
       "      <th></th>\n",
       "      <th>Restaurant_id</th>\n",
       "      <th>Rating</th>\n",
       "    </tr>\n",
       "  </thead>\n",
       "  <tbody>\n",
       "    <tr>\n",
       "      <th>0</th>\n",
       "      <td>id_0</td>\n",
       "      <td>3.0</td>\n",
       "    </tr>\n",
       "    <tr>\n",
       "      <th>1</th>\n",
       "      <td>id_1</td>\n",
       "      <td>4.5</td>\n",
       "    </tr>\n",
       "    <tr>\n",
       "      <th>2</th>\n",
       "      <td>id_2</td>\n",
       "      <td>4.5</td>\n",
       "    </tr>\n",
       "    <tr>\n",
       "      <th>3</th>\n",
       "      <td>id_3</td>\n",
       "      <td>4.0</td>\n",
       "    </tr>\n",
       "    <tr>\n",
       "      <th>4</th>\n",
       "      <td>id_4</td>\n",
       "      <td>4.5</td>\n",
       "    </tr>\n",
       "    <tr>\n",
       "      <th>5</th>\n",
       "      <td>id_5</td>\n",
       "      <td>4.5</td>\n",
       "    </tr>\n",
       "    <tr>\n",
       "      <th>6</th>\n",
       "      <td>id_6</td>\n",
       "      <td>2.5</td>\n",
       "    </tr>\n",
       "    <tr>\n",
       "      <th>7</th>\n",
       "      <td>id_7</td>\n",
       "      <td>2.5</td>\n",
       "    </tr>\n",
       "    <tr>\n",
       "      <th>8</th>\n",
       "      <td>id_8</td>\n",
       "      <td>4.0</td>\n",
       "    </tr>\n",
       "    <tr>\n",
       "      <th>9</th>\n",
       "      <td>id_9</td>\n",
       "      <td>4.5</td>\n",
       "    </tr>\n",
       "  </tbody>\n",
       "</table>\n",
       "</div>"
      ],
      "text/plain": [
       "  Restaurant_id  Rating\n",
       "0          id_0     3.0\n",
       "1          id_1     4.5\n",
       "2          id_2     4.5\n",
       "3          id_3     4.0\n",
       "4          id_4     4.5\n",
       "5          id_5     4.5\n",
       "6          id_6     2.5\n",
       "7          id_7     2.5\n",
       "8          id_8     4.0\n",
       "9          id_9     4.5"
      ]
     },
     "execution_count": 114,
     "metadata": {},
     "output_type": "execute_result"
    }
   ],
   "source": [
    "sample_submission['Rating'] = predict_submission\n",
    "sample_submission.to_csv('submission.csv', index=False)\n",
    "sample_submission.head(10)"
   ]
  },
  {
   "cell_type": "markdown",
   "metadata": {},
   "source": [
    "# What's next?\n",
    "Или что делать, чтоб улучшить результат:\n",
    "* Обработать оставшиеся признаки в понятный для машины формат\n",
    "* Посмотреть, что еще можно извлечь из признаков\n",
    "* Сгенерировать новые признаки\n",
    "* Подгрузить дополнительные данные, например: по населению или благосостоянию городов\n",
    "* Подобрать состав признаков\n",
    "\n",
    "В общем, процесс творческий и весьма увлекательный! Удачи в соревновании!\n"
   ]
  }
 ],
 "metadata": {
  "kernelspec": {
   "display_name": "Python 3",
   "language": "python",
   "name": "python3"
  },
  "language_info": {
   "codemirror_mode": {
    "name": "ipython",
    "version": 3
   },
   "file_extension": ".py",
   "mimetype": "text/x-python",
   "name": "python",
   "nbconvert_exporter": "python",
   "pygments_lexer": "ipython3",
   "version": "3.6.6"
  }
 },
 "nbformat": 4,
 "nbformat_minor": 4
}
