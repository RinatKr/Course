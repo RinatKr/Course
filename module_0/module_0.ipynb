{
 "cells": [
  {
   "cell_type": "code",
   "execution_count": 22,
   "metadata": {},
   "outputs": [
    {
     "name": "stdout",
     "output_type": "stream",
     "text": [
      "Вы угадали число 26 за 6 попыток.\n"
     ]
    }
   ],
   "source": [
    "\"\"\"Программа, использующая бинарный поиск для угадывания числа за минимальное число попыток\"\"\"\n",
    "import numpy as np\n",
    "count = 0                                        # счетчик попыток\n",
    "number = np.random.randint(1,101)                # загаданное число\n",
    "min_range = 1                                    # нижняя граница диапазона поиска\n",
    "max_range = 100                                  # верхняя граница диапазона поиска\n",
    "while True:\n",
    "    predict = (max_range+min_range)//2           #находим середину диапазона поиска\n",
    "    count += 1                                   # плюсуем попытку\n",
    "    if number == predict: break                  # выход из цикла, если угадали\n",
    "    elif number > predict: min_range = predict   # если предположение  больше загаданного, середину назначаем нижней границей\n",
    "    elif number < predict: max_range = predict   # если предположение  меньше загаданного, середину назначаем верхней границей\n",
    "print (\"Вы угадали число {} за {} попыток.\".format(number, count)) "
   ]
  }
 ],
 "metadata": {
  "kernelspec": {
   "display_name": "Python 3",
   "language": "python",
   "name": "python3"
  },
  "language_info": {
   "codemirror_mode": {
    "name": "ipython",
    "version": 3
   },
   "file_extension": ".py",
   "mimetype": "text/x-python",
   "name": "python",
   "nbconvert_exporter": "python",
   "pygments_lexer": "ipython3",
   "version": "3.8.5"
  }
 },
 "nbformat": 4,
 "nbformat_minor": 4
}
