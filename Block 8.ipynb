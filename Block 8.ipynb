{
 "cells": [
  {
   "cell_type": "markdown",
   "id": "27a43380",
   "metadata": {},
   "source": [
    "### Курс Профессия Data Science\n",
    "Итоговый проект. Бриф “Агентство\n",
    "недвижимости”"
   ]
  },
  {
   "cell_type": "markdown",
   "id": "b5465deb",
   "metadata": {},
   "source": [
    "Дана задача:\n",
    "    разработать сервис для предсказания стоимости\n",
    "домов на основе истории предложений"
   ]
  },
  {
   "cell_type": "code",
   "execution_count": 2,
   "id": "8b950ca8",
   "metadata": {},
   "outputs": [],
   "source": [
    "#pip install swifter"
   ]
  },
  {
   "cell_type": "code",
   "execution_count": 4,
   "id": "9d980e20",
   "metadata": {},
   "outputs": [],
   "source": [
    "import numpy as np \n",
    "import pandas as pd \n",
    "import sys\n",
    "import re\n",
    "import json\n",
    "import swifter\n",
    "import seaborn as sns\n",
    "from sklearn.model_selection import train_test_split\n",
    "#from sklearn.model_selection import KFold\n",
    "#from tqdm.notebook import tqdm\n",
    "from catboost import CatBoostRegressor, Pool\n",
    "import ipywidgets\n",
    "from sklearn.preprocessing import LabelEncoder\n",
    "from matplotlib import pyplot as plt\n",
    "from matplotlib import gridspec\n",
    "import seaborn as sns\n",
    "#import pylab\n",
    "\n",
    "#from sklearn.preprocessing import StandardScaler\n",
    "#from sklearn.cluster import KMeans\n",
    "#from sklearn.mixture import GaussianMixture\n",
    "from sklearn.ensemble import ExtraTreesRegressor\n",
    "#from sklearn.multioutput import MultiOutputRegressor\n",
    "from sklearn.model_selection import GridSearchCV\n",
    "from sklearn.ensemble import GradientBoostingRegressor\n",
    "import xgboost as xgb\n",
    "\n",
    "#from sklearn.linear_model import LogisticRegression\n",
    "#from sklearn.ensemble import RandomForestClassifier, GradientBoostingClassifier"
   ]
  },
  {
   "cell_type": "code",
   "execution_count": 5,
   "id": "cac97150",
   "metadata": {},
   "outputs": [],
   "source": [
    "# зафиксируем RANDOM_SEED\n",
    "RANDOM_SEED = 42\n",
    "VAL_SIZE   = 0.20   # 20%"
   ]
  },
  {
   "cell_type": "code",
   "execution_count": 6,
   "id": "c02447b2",
   "metadata": {},
   "outputs": [],
   "source": [
    "def extract_first_digit(x, return_type='float'):\n",
    "    \"\"\" выдать числа идущие в начале строки\"\"\"\n",
    "    if pd.isna(x):\n",
    "        return None\n",
    "    else:\n",
    "        match = re.search(r'^\\d(.|,)?\\d*', x)\n",
    "        if match:\n",
    "            try:\n",
    "                if return_type=='integer':\n",
    "                    return int(match.group().replace(',', '.').split('/')[0].strip())\n",
    "                else: return float(match.group().replace(',', '.').split('/')[0].strip())\n",
    "            except: return np.nan\n",
    "        else:\n",
    "            return None"
   ]
  },
  {
   "cell_type": "code",
   "execution_count": 7,
   "id": "1899a151",
   "metadata": {},
   "outputs": [],
   "source": [
    "def extract_cost(x):\n",
    "    \"\"\"выдать числа из строки\"\"\"\n",
    "    if pd.isna(x):\n",
    "        return None\n",
    "    else:\n",
    "        match = re.search(r'(?:\\d+,*)+', x)\n",
    "        if match:\n",
    "            try:\n",
    "                return float(match.group().replace(',', ''))\n",
    "            except: return np.nan\n",
    "                     \n",
    "        else:\n",
    "            return None"
   ]
  },
  {
   "cell_type": "code",
   "execution_count": 8,
   "id": "51a77a88",
   "metadata": {},
   "outputs": [],
   "source": [
    "# Функция для оценки MAPE\n",
    "def mape(y_true, y_pred):\n",
    "    return np.mean(np.abs((y_pred-y_true)/y_true))"
   ]
  },
  {
   "cell_type": "markdown",
   "id": "627ebb08",
   "metadata": {},
   "source": [
    "# Data"
   ]
  },
  {
   "cell_type": "code",
   "execution_count": 9,
   "id": "446e8c11",
   "metadata": {},
   "outputs": [],
   "source": [
    "df = pd.read_csv(r\"C:\\Users\\Krymg\\Final\\Недвижимость\\data.csv\")"
   ]
  },
  {
   "cell_type": "code",
   "execution_count": 10,
   "id": "7db1ce8c",
   "metadata": {},
   "outputs": [
    {
     "data": {
      "text/plain": [
       "(377185, 18)"
      ]
     },
     "execution_count": 10,
     "metadata": {},
     "output_type": "execute_result"
    }
   ],
   "source": [
    "df.shape"
   ]
  },
  {
   "cell_type": "code",
   "execution_count": 11,
   "id": "e8881b50",
   "metadata": {},
   "outputs": [
    {
     "data": {
      "text/html": [
       "<div>\n",
       "<style scoped>\n",
       "    .dataframe tbody tr th:only-of-type {\n",
       "        vertical-align: middle;\n",
       "    }\n",
       "\n",
       "    .dataframe tbody tr th {\n",
       "        vertical-align: top;\n",
       "    }\n",
       "\n",
       "    .dataframe thead th {\n",
       "        text-align: right;\n",
       "    }\n",
       "</style>\n",
       "<table border=\"1\" class=\"dataframe\">\n",
       "  <thead>\n",
       "    <tr style=\"text-align: right;\">\n",
       "      <th></th>\n",
       "      <th>nunique</th>\n",
       "      <th>&lt;lambda&gt;</th>\n",
       "      <th>null</th>\n",
       "      <th>dtype</th>\n",
       "    </tr>\n",
       "  </thead>\n",
       "  <tbody>\n",
       "    <tr>\n",
       "      <th>status</th>\n",
       "      <td>159</td>\n",
       "      <td>[Active, for sale, nan, New construction, New,...</td>\n",
       "      <td>39918</td>\n",
       "      <td>object</td>\n",
       "    </tr>\n",
       "    <tr>\n",
       "      <th>private pool</th>\n",
       "      <td>1</td>\n",
       "      <td>[nan, Yes]</td>\n",
       "      <td>373004</td>\n",
       "      <td>object</td>\n",
       "    </tr>\n",
       "    <tr>\n",
       "      <th>propertyType</th>\n",
       "      <td>1280</td>\n",
       "      <td>[Single Family Home, single-family home, lot/l...</td>\n",
       "      <td>34733</td>\n",
       "      <td>object</td>\n",
       "    </tr>\n",
       "    <tr>\n",
       "      <th>street</th>\n",
       "      <td>337076</td>\n",
       "      <td>[240 Heather Ln, 12911 E Heroy Ave, 2005 Westr...</td>\n",
       "      <td>2</td>\n",
       "      <td>object</td>\n",
       "    </tr>\n",
       "    <tr>\n",
       "      <th>baths</th>\n",
       "      <td>229</td>\n",
       "      <td>[3.5, 3 Baths, 2 Baths, 8 Baths, nan, 2, 3, Ba...</td>\n",
       "      <td>106338</td>\n",
       "      <td>object</td>\n",
       "    </tr>\n",
       "    <tr>\n",
       "      <th>homeFacts</th>\n",
       "      <td>321009</td>\n",
       "      <td>[{'atAGlanceFacts': [{'factValue': '2019', 'fa...</td>\n",
       "      <td>0</td>\n",
       "      <td>object</td>\n",
       "    </tr>\n",
       "    <tr>\n",
       "      <th>fireplace</th>\n",
       "      <td>1653</td>\n",
       "      <td>[Gas Logs, nan, yes, Yes, 2, 0, 1, Not Applica...</td>\n",
       "      <td>274070</td>\n",
       "      <td>object</td>\n",
       "    </tr>\n",
       "    <tr>\n",
       "      <th>city</th>\n",
       "      <td>2026</td>\n",
       "      <td>[Southern Pines, Spokane Valley, Los Angeles, ...</td>\n",
       "      <td>34</td>\n",
       "      <td>object</td>\n",
       "    </tr>\n",
       "    <tr>\n",
       "      <th>schools</th>\n",
       "      <td>297365</td>\n",
       "      <td>[[{'rating': ['4', '4', '7', 'NR', '4', '7', '...</td>\n",
       "      <td>0</td>\n",
       "      <td>object</td>\n",
       "    </tr>\n",
       "    <tr>\n",
       "      <th>sqft</th>\n",
       "      <td>25405</td>\n",
       "      <td>[2900, 1,947 sqft, 3,000 sqft, 6,457 sqft, nan...</td>\n",
       "      <td>40577</td>\n",
       "      <td>object</td>\n",
       "    </tr>\n",
       "    <tr>\n",
       "      <th>zipcode</th>\n",
       "      <td>4549</td>\n",
       "      <td>[28387, 99216, 90049, 75205, 32908, 19145, 347...</td>\n",
       "      <td>0</td>\n",
       "      <td>object</td>\n",
       "    </tr>\n",
       "    <tr>\n",
       "      <th>beds</th>\n",
       "      <td>1184</td>\n",
       "      <td>[4, 3 Beds, 5 Beds, nan, 2 Beds, 3, 4 Beds, 3 ...</td>\n",
       "      <td>91282</td>\n",
       "      <td>object</td>\n",
       "    </tr>\n",
       "    <tr>\n",
       "      <th>state</th>\n",
       "      <td>39</td>\n",
       "      <td>[NC, WA, CA, TX, FL, PA, TN, IA, NY, OR, DC, N...</td>\n",
       "      <td>0</td>\n",
       "      <td>object</td>\n",
       "    </tr>\n",
       "    <tr>\n",
       "      <th>stories</th>\n",
       "      <td>348</td>\n",
       "      <td>[nan, 2.0, 1.0, 3.0, One, 2, Multi/Split, 4.0,...</td>\n",
       "      <td>150715</td>\n",
       "      <td>object</td>\n",
       "    </tr>\n",
       "    <tr>\n",
       "      <th>mls-id</th>\n",
       "      <td>24907</td>\n",
       "      <td>[nan, 19221142, SR19195113, 201909438, T315986...</td>\n",
       "      <td>352243</td>\n",
       "      <td>object</td>\n",
       "    </tr>\n",
       "    <tr>\n",
       "      <th>PrivatePool</th>\n",
       "      <td>2</td>\n",
       "      <td>[nan, yes, Yes]</td>\n",
       "      <td>336874</td>\n",
       "      <td>object</td>\n",
       "    </tr>\n",
       "    <tr>\n",
       "      <th>MlsId</th>\n",
       "      <td>232944</td>\n",
       "      <td>[611019, 201916904, FR19221027, 14191809, 8617...</td>\n",
       "      <td>66880</td>\n",
       "      <td>object</td>\n",
       "    </tr>\n",
       "    <tr>\n",
       "      <th>target</th>\n",
       "      <td>43939</td>\n",
       "      <td>[$418,000, $310,000, $2,895,000, $2,395,000, $...</td>\n",
       "      <td>2481</td>\n",
       "      <td>object</td>\n",
       "    </tr>\n",
       "  </tbody>\n",
       "</table>\n",
       "</div>"
      ],
      "text/plain": [
       "             nunique                                           <lambda>  \\\n",
       "status           159  [Active, for sale, nan, New construction, New,...   \n",
       "private pool       1                                         [nan, Yes]   \n",
       "propertyType    1280  [Single Family Home, single-family home, lot/l...   \n",
       "street        337076  [240 Heather Ln, 12911 E Heroy Ave, 2005 Westr...   \n",
       "baths            229  [3.5, 3 Baths, 2 Baths, 8 Baths, nan, 2, 3, Ba...   \n",
       "homeFacts     321009  [{'atAGlanceFacts': [{'factValue': '2019', 'fa...   \n",
       "fireplace       1653  [Gas Logs, nan, yes, Yes, 2, 0, 1, Not Applica...   \n",
       "city            2026  [Southern Pines, Spokane Valley, Los Angeles, ...   \n",
       "schools       297365  [[{'rating': ['4', '4', '7', 'NR', '4', '7', '...   \n",
       "sqft           25405  [2900, 1,947 sqft, 3,000 sqft, 6,457 sqft, nan...   \n",
       "zipcode         4549  [28387, 99216, 90049, 75205, 32908, 19145, 347...   \n",
       "beds            1184  [4, 3 Beds, 5 Beds, nan, 2 Beds, 3, 4 Beds, 3 ...   \n",
       "state             39  [NC, WA, CA, TX, FL, PA, TN, IA, NY, OR, DC, N...   \n",
       "stories          348  [nan, 2.0, 1.0, 3.0, One, 2, Multi/Split, 4.0,...   \n",
       "mls-id         24907  [nan, 19221142, SR19195113, 201909438, T315986...   \n",
       "PrivatePool        2                                    [nan, yes, Yes]   \n",
       "MlsId         232944  [611019, 201916904, FR19221027, 14191809, 8617...   \n",
       "target         43939  [$418,000, $310,000, $2,895,000, $2,395,000, $...   \n",
       "\n",
       "                null   dtype  \n",
       "status         39918  object  \n",
       "private pool  373004  object  \n",
       "propertyType   34733  object  \n",
       "street             2  object  \n",
       "baths         106338  object  \n",
       "homeFacts          0  object  \n",
       "fireplace     274070  object  \n",
       "city              34  object  \n",
       "schools            0  object  \n",
       "sqft           40577  object  \n",
       "zipcode            0  object  \n",
       "beds           91282  object  \n",
       "state              0  object  \n",
       "stories       150715  object  \n",
       "mls-id        352243  object  \n",
       "PrivatePool   336874  object  \n",
       "MlsId          66880  object  \n",
       "target          2481  object  "
      ]
     },
     "execution_count": 11,
     "metadata": {},
     "output_type": "execute_result"
    }
   ],
   "source": [
    "pd.concat([df.agg(['nunique', lambda s: s.unique()[:15]]).transpose(),\\\n",
    "                      pd.Series(df.isnull().sum(), name='null'),\n",
    "                      pd.Series(df.dtypes, name='dtype')], axis=1)"
   ]
  },
  {
   "cell_type": "markdown",
   "id": "89fab741",
   "metadata": {},
   "source": [
    "## Предобработка и очистка данных"
   ]
  },
  {
   "cell_type": "markdown",
   "id": "2607ce2f",
   "metadata": {},
   "source": [
    "Ниже мы обрежем длинные правые хвосты во многих полях, удаляя редкие варианты или выбросы"
   ]
  },
  {
   "cell_type": "markdown",
   "id": "11417da9",
   "metadata": {},
   "source": [
    "### status"
   ]
  },
  {
   "cell_type": "code",
   "execution_count": 12,
   "id": "76870a01",
   "metadata": {},
   "outputs": [
    {
     "data": {
      "text/plain": [
       "160"
      ]
     },
     "execution_count": 12,
     "metadata": {},
     "output_type": "execute_result"
    }
   ],
   "source": [
    "len(df['status'].unique())"
   ]
  },
  {
   "cell_type": "markdown",
   "id": "1755e9e4",
   "metadata": {},
   "source": [
    "Название поля говорит само за себя и имеет множество значений. Скормим их чат боту GPT и попросим классифицировать, выдав  ответ в виде списка питон"
   ]
  },
  {
   "cell_type": "markdown",
   "id": "a5525608",
   "metadata": {},
   "source": [
    "Его ответ:\n",
    "Это общая классификация статусов, которые вы предоставили. \n",
    "Однако, стоит отметить, что точное значение каждого статуса может зависеть от местных правил и условий рынка недвижимости.\n",
    "Это списки Python, которые содержат статусы недвижимости, разделенные на группы."
   ]
  },
  {
   "cell_type": "code",
   "execution_count": 13,
   "id": "d9678c60",
   "metadata": {},
   "outputs": [],
   "source": [
    "active = [\"Active Backup\", \"Active Contingent\", \"Temporary Active\", \"Active - Contingent\", \"Active with Contract\", \"Active\", \"for sale\", \"New construction\", \"New\", \"For sale\", \"A Active\", \"Active/Contingent\", \"Active Under Contract\", \"Active Option\", \"Active Option Contract\", \"Active With Contingencies\", \"Active Contingency\", \"Active - Auction\", \"Active With Offer\", \"Active Backup\"]\n",
    "pending = ['Pending Fe', 'P Pending Sale', 'Pending Sh', 'Pending Backups Wanted', 'Pending W/Backup Wanted', 'Pending, Continue to Show', \"Pending Offer Approval\", \"Pending In\", \"Pending W/Insp Finance\", \"Pending   Continue To Show   Financing\", \"Pending W/ Cont.\", \"Pending W/Escape Clause\", \"Pending - Continue to Show\", \"Contract\", \"Pending Sale\", \"Accepting backups\", \"Pending Take Backups\", \"Lease/Purchase\", \"Pending\", \"P\", \"Under Contract\", \"Under Contract   Showing\", \"Under Contract Backups\", \"Option Pending\", \"Under Contract Show\", \"Pending   Continue To Show\", \"Pending Ab\", \"Contract P\", \"Pending Continue To Show\", \"pending\", \"Pending Inspection\",  \"C\",\"Pending With Contingencies\",\"Lease/Purchase Pending\",\"Pending Bring Backup\",\"C Continue Show\",\"Pending Taking Backups\",\"Offer Pending Signature\",\"Under Contract - Show\",\"U Under Contract\",\"Pending - Taking Backups\"]\n",
    "contingent = [\"Ct\", 'Contingent', \"Contingent Finance and Inspection\", \"CT Insp - Inspection Contingency\", \"Contingency 48 Hr (+/ )\", \"Contingent   Release\", \"Conditional Contract\", \"Contingent - Sale of Home\", \"Contingent - Financing\", \"Contingent Finance And Inspection\",\"Contingent Show\",\"Contingent Take Backup\",\"Contingent   Show\",\"Contingent Lien Holder Release\",\"Contingency Contract\",\"Contingent Escape\"]\n",
    "auction = [\"Pre-foreclosure / auction\",\" / auction\",\"Pre-foreclosure\",\"foreclosure\",\"Foreclosed\",\"Auction\",\"Auction - Active\",\"Active - Auction\"]\n",
    "off_market = [\"Back on Market\"]\n",
    "recently_sold = ['Sold: $285,000', 'Sold: $15,000', \"recently sold\"]\n",
    "coming_soon = ['Coming soon: Oct 30.', 'Coming soon: Dec 23.','Coming soon: Nov 14.', 'Coming soon: Nov 22.', 'Coming soon: Oct 21.', 'Coming soon: Dec 14.', 'Coming soon: Oct 24.', 'Coming soon: Dec 18.', 'Coming soon: Dec 16.', 'Coming soon: Dec 3.', 'Coming soon: Dec 25.', 'Coming soon: Nov 11.', 'Coming soon: Nov 28.', 'Coming soon: Nov 17.', 'Coming soon: Dec 6.', 'Coming soon: Nov 27.', 'Coming soon: Nov 26.', 'Coming soon: Dec 7.', 'Coming soon: Dec 27.', 'Coming soon: Dec 11.', 'Coming soon: Dec 5.', 'Coming soon: Nov 13.', 'Coming soon: Nov 19.', 'Coming soon: Nov 8.', 'Coming soon: Oct 29.', 'Coming soon: Dec 15.','Coming soon: Dec 20.','Coming soon: Dec 13.','Sold: $285,000','Sold: $15,000','Coming soon: Dec 12.','Coming soon: Nov 5.','Coming soon: Nov 12.',\"Coming soon: Nov 21.\",\"Coming soon: Dec 4.\",\"Coming soon: Nov 23.\",\"Coming soon: Nov 29.\",\"Coming soon: Dec 2.\",\"Coming soon: Nov 30.\",\"Coming soon: Dec 10.\",\"Coming soon: Dec 24.\",\"Coming soon: Nov 14.\",\"Coming soon: Nov 22.\",\"Coming soon: Oct 21.\",\"Coming soon: Dec 14.\",\"Coming soon: Oct 24.\"]\n",
    "for_rent = ['for rent', 'Apartment for rent']\n",
    "other = [None, \"/ auction\" ,\"/ auction\" ,\"Price Change\" ,\"Option Contract\" ,\"Pi\" ,\"Due Diligence Period\" ,\"Contract Contingent On Buyer Sale\" ,\"Closed\" ,\"Listing Extended\" ,\"For Sale\" ,\"Condo for rent\"]"
   ]
  },
  {
   "cell_type": "code",
   "execution_count": 14,
   "id": "4ba74c6a",
   "metadata": {},
   "outputs": [],
   "source": [
    "def encoding_status(row):\n",
    "    \"\"\"закодируем множество значений, используя  вышестоящие списки\"\"\"\n",
    "    if row in active: return 'active'\n",
    "    elif row in pending: return 'pending'\n",
    "    elif row in contingent: return 'contingent'\n",
    "    elif row in auction: return 'auction'\n",
    "    elif row in off_market: return 'off_market'\n",
    "    elif row in recently_sold: return 'recently_sold'\n",
    "    elif row in coming_soon: return 'coming_soon'\n",
    "    elif row in other: return 'other'\n",
    "    elif row in for_rent: return 'for_rent'\n",
    "    "
   ]
  },
  {
   "cell_type": "code",
   "execution_count": 15,
   "id": "1daa9bae",
   "metadata": {},
   "outputs": [
    {
     "data": {
      "application/vnd.jupyter.widget-view+json": {
       "model_id": "023140e5c1f6463b8d9feb70393e311d",
       "version_major": 2,
       "version_minor": 0
      },
      "text/plain": [
       "Pandas Apply:   0%|          | 0/377185 [00:00<?, ?it/s]"
      ]
     },
     "metadata": {},
     "output_type": "display_data"
    }
   ],
   "source": [
    "df['status'] =  df['status'].swifter.apply(encoding_status)"
   ]
  },
  {
   "cell_type": "code",
   "execution_count": 16,
   "id": "de90e779",
   "metadata": {},
   "outputs": [
    {
     "data": {
      "text/plain": [
       "<Axes: >"
      ]
     },
     "execution_count": 16,
     "metadata": {},
     "output_type": "execute_result"
    },
    {
     "data": {
      "image/png": "[encoded data removed]",
      "text/plain": [
       "<Figure size 640x480 with 1 Axes>"
      ]
     },
     "metadata": {},
     "output_type": "display_data"
    }
   ],
   "source": [
    "df['status'].value_counts().plot.bar()"
   ]
  },
  {
   "cell_type": "code",
   "execution_count": 17,
   "id": "7add70b0",
   "metadata": {},
   "outputs": [
    {
     "data": {
      "text/plain": [
       "40308"
      ]
     },
     "execution_count": 17,
     "metadata": {},
     "output_type": "execute_result"
    }
   ],
   "source": [
    "sum(df['status'].isna())"
   ]
  },
  {
   "cell_type": "code",
   "execution_count": 18,
   "id": "e60acb0a",
   "metadata": {},
   "outputs": [],
   "source": [
    "# заполним пропуски\n",
    "df['status'].fillna('active', inplace=True)"
   ]
  },
  {
   "cell_type": "markdown",
   "id": "7538816c",
   "metadata": {},
   "source": [
    "### propertyType (тип недвижимости)"
   ]
  },
  {
   "cell_type": "code",
   "execution_count": 19,
   "id": "aa967b47",
   "metadata": {},
   "outputs": [
    {
     "data": {
      "text/plain": [
       "1281"
      ]
     },
     "execution_count": 19,
     "metadata": {},
     "output_type": "execute_result"
    }
   ],
   "source": [
    "# очень много типов\n",
    "len(df['propertyType'].unique())"
   ]
  },
  {
   "cell_type": "code",
   "execution_count": 20,
   "id": "b08b280f",
   "metadata": {},
   "outputs": [],
   "source": [
    "lst = df['propertyType'].tolist()"
   ]
  },
  {
   "cell_type": "code",
   "execution_count": 21,
   "id": "9b8bf9f1",
   "metadata": {},
   "outputs": [],
   "source": [
    "group1 = [x for x in lst if x in ['Single Family Home', 'single-family home', 'Single Family']]\n",
    "group2 = [x for x in lst if x in ['lot/land',]]\n",
    "group3 = [x for x in lst if x in ['townhouse',]]\n",
    "group4 = [x for x in lst if x in ['coop',]]\n",
    "group5 = [x for x in lst if x in ['multi-family',]]\n",
    "group6 = [x for x in lst if x in ['Condo',]]\n",
    "group7 = [x for x in lst if x in ['Penthouse, Split-Level',]]\n",
    "group8 = [x for x in lst if str(x) == \"nan\"]\n"
   ]
  },
  {
   "cell_type": "code",
   "execution_count": 22,
   "id": "a710bcad",
   "metadata": {},
   "outputs": [],
   "source": [
    "def encoding_propertyType(row):\n",
    "    \"\"\"закодируем множество значений, используя  вышестоящие списки\"\"\"\n",
    "    if row in group1: return 'single'\n",
    "    elif row in group2: return 'land'\n",
    "    elif row in group3: return 'townhouse'\n",
    "    elif row in group4: return 'coop'\n",
    "    elif row in group5: return 'multi'\n",
    "    elif row in group6: return 'condo'\n",
    "    elif row in group7: return 'penthouse'\n",
    "    elif row in group8: return 8\n",
    "    \n",
    "  "
   ]
  },
  {
   "cell_type": "code",
   "execution_count": 23,
   "id": "7c6636eb",
   "metadata": {},
   "outputs": [
    {
     "data": {
      "application/vnd.jupyter.widget-view+json": {
       "model_id": "5f57a303aa6445c6b87afc64b693cafa",
       "version_major": 2,
       "version_minor": 0
      },
      "text/plain": [
       "Pandas Apply:   0%|          | 0/377185 [00:00<?, ?it/s]"
      ]
     },
     "metadata": {},
     "output_type": "display_data"
    }
   ],
   "source": [
    "df['property_type'] =  df['propertyType'].swifter.apply(encoding_propertyType)"
   ]
  },
  {
   "cell_type": "code",
   "execution_count": 24,
   "id": "90b29258",
   "metadata": {},
   "outputs": [
    {
     "data": {
      "text/plain": [
       "<Axes: >"
      ]
     },
     "execution_count": 24,
     "metadata": {},
     "output_type": "execute_result"
    },
    {
     "data": {
      "image/png": "[encoded data removed]",
      "text/plain": [
       "<Figure size 640x480 with 1 Axes>"
      ]
     },
     "metadata": {},
     "output_type": "display_data"
    }
   ],
   "source": [
    "df['property_type'].value_counts().plot.bar()"
   ]
  },
  {
   "cell_type": "code",
   "execution_count": 25,
   "id": "6d870a45",
   "metadata": {},
   "outputs": [],
   "source": [
    "# заполним пропуски\n",
    "df.loc[df['property_type'] == 8,'property_type'] = 'single'"
   ]
  },
  {
   "cell_type": "code",
   "execution_count": 26,
   "id": "7425628d",
   "metadata": {},
   "outputs": [],
   "source": [
    "# и удалим исходный столбец\n",
    "del df['propertyType']"
   ]
  },
  {
   "cell_type": "markdown",
   "id": "ec0fa9d8",
   "metadata": {},
   "source": [
    "### baths ( число ванных комнат)"
   ]
  },
  {
   "cell_type": "code",
   "execution_count": 27,
   "id": "4d09c9c8",
   "metadata": {},
   "outputs": [
    {
     "data": {
      "application/vnd.jupyter.widget-view+json": {
       "model_id": "875398325e6749ffaf421384dad1dbb8",
       "version_major": 2,
       "version_minor": 0
      },
      "text/plain": [
       "Pandas Apply:   0%|          | 0/377185 [00:00<?, ?it/s]"
      ]
     },
     "metadata": {},
     "output_type": "display_data"
    }
   ],
   "source": [
    "#Нужно оставить  в поле только число ванных и площадь помещений\n",
    "df['baths'] = df['baths'].swifter.apply(extract_cost)"
   ]
  },
  {
   "cell_type": "code",
   "execution_count": 28,
   "id": "d5db23e6",
   "metadata": {},
   "outputs": [
    {
     "data": {
      "application/vnd.jupyter.widget-view+json": {
       "model_id": "92a77ac2ef2446bba12a16a69152ab29",
       "version_major": 2,
       "version_minor": 0
      },
      "text/plain": [
       "Pandas Apply:   0%|          | 0/377185 [00:00<?, ?it/s]"
      ]
     },
     "metadata": {},
     "output_type": "display_data"
    }
   ],
   "source": [
    "# Все, что более 20, в том числе комнаты и площадь, пусть станет излишеством т.е. будет в группе 20\n",
    "df['baths'] = df['baths'].swifter.apply(lambda x: 20 if x>=20 else x)"
   ]
  },
  {
   "cell_type": "code",
   "execution_count": 29,
   "id": "15ffd72e",
   "metadata": {},
   "outputs": [
    {
     "data": {
      "text/plain": [
       "2.0     114724\n",
       "3.0      70534\n",
       "4.0      27609\n",
       "1.0      18781\n",
       "20.0     14737\n",
       "5.0       9747\n",
       "6.0       4497\n",
       "0.0       3918\n",
       "7.0       2143\n",
       "8.0       1190\n",
       "9.0        552\n",
       "10.0       342\n",
       "11.0       190\n",
       "12.0       138\n",
       "13.0        74\n",
       "16.0        52\n",
       "14.0        46\n",
       "18.0        32\n",
       "15.0        28\n",
       "17.0        10\n",
       "19.0         3\n",
       "Name: baths, dtype: int64"
      ]
     },
     "execution_count": 29,
     "metadata": {},
     "output_type": "execute_result"
    }
   ],
   "source": [
    "df['baths'].value_counts()"
   ]
  },
  {
   "cell_type": "code",
   "execution_count": 30,
   "id": "85c5a161",
   "metadata": {},
   "outputs": [
    {
     "data": {
      "text/plain": [
       "107838"
      ]
     },
     "execution_count": 30,
     "metadata": {},
     "output_type": "execute_result"
    }
   ],
   "source": [
    "df['baths'].isna().sum()"
   ]
  },
  {
   "cell_type": "code",
   "execution_count": 31,
   "id": "f7b599f6",
   "metadata": {},
   "outputs": [],
   "source": [
    "# заполним пропуски\n",
    "df['baths'].fillna(2, inplace=True)"
   ]
  },
  {
   "cell_type": "code",
   "execution_count": 32,
   "id": "fcec2494",
   "metadata": {},
   "outputs": [
    {
     "data": {
      "text/plain": [
       "<Axes: >"
      ]
     },
     "execution_count": 32,
     "metadata": {},
     "output_type": "execute_result"
    },
    {
     "data": {
      "image/png": "[encoded data removed]",
      "text/plain": [
       "<Figure size 640x480 with 1 Axes>"
      ]
     },
     "metadata": {},
     "output_type": "display_data"
    }
   ],
   "source": [
    "df['baths'].value_counts().plot.bar()"
   ]
  },
  {
   "cell_type": "markdown",
   "id": "21264a03",
   "metadata": {
    "tags": []
   },
   "source": [
    "### homeFacts"
   ]
  },
  {
   "cell_type": "markdown",
   "id": "c782eec7",
   "metadata": {},
   "source": [
    "Это поле содержит факты о жилье: год постройки, год ремонта, отопление, кондиционирование, парковки, стоимость квадратного метра"
   ]
  },
  {
   "cell_type": "code",
   "execution_count": 33,
   "id": "23da3708",
   "metadata": {},
   "outputs": [],
   "source": [
    "import ast\n",
    "def homeFacts_parsing(row):\n",
    "    return_dict ={}\n",
    "    try: return_dict['Year_built'] = int(ast.literal_eval(row)['atAGlanceFacts'][0]['factValue'])\n",
    "    except: return_dict['Year_built'] = np.nan\n",
    "    try: return_dict['Remodeled_year'] = int(ast.literal_eval(row)['atAGlanceFacts'][1]['factValue'])\n",
    "    except: return_dict['Remodeled_year'] = np.nan\n",
    "    try: return_dict['Heating'] = ast.literal_eval(row)['atAGlanceFacts'][2]['factValue']\n",
    "    except: return_dict['Heating'] = np.nan\n",
    "    try: return_dict['Cooling'] = ast.literal_eval(row)['atAGlanceFacts'][3]['factValue']\n",
    "    except: return_dict['Cooling'] = np.nan\n",
    "    try: return_dict['Parking'] = ast.literal_eval(row)['atAGlanceFacts'][4]['factValue']\n",
    "    except: return_dict['Parking'] = np.nan\n",
    "    try: return_dict ['Price/sqft'] = ast.literal_eval(row)['atAGlanceFacts'][6]['factValue']\n",
    "    except: return_dict['Price/sqft'] = np.nan\n",
    "    return pd.Series(return_dict)\n"
   ]
  },
  {
   "cell_type": "code",
   "execution_count": 34,
   "id": "cc1a0db3",
   "metadata": {},
   "outputs": [
    {
     "data": {
      "application/vnd.jupyter.widget-view+json": {
       "model_id": "79f441a8be214cee8cf9106e1ceb2840",
       "version_major": 2,
       "version_minor": 0
      },
      "text/plain": [
       "Pandas Apply:   0%|          | 0/377185 [00:00<?, ?it/s]"
      ]
     },
     "metadata": {},
     "output_type": "display_data"
    }
   ],
   "source": [
    "#Распарсим json\n",
    "df[['year_built', 'remodeled_year', 'heating', 'cooling', 'parking', 'price/sqft']] = df['homeFacts'].swifter.apply(homeFacts_parsing)"
   ]
  },
  {
   "cell_type": "code",
   "execution_count": 35,
   "id": "5691fad1",
   "metadata": {},
   "outputs": [],
   "source": [
    "# и удалим исходный столбец\n",
    "del df['homeFacts']"
   ]
  },
  {
   "cell_type": "markdown",
   "id": "a1830a2a",
   "metadata": {},
   "source": [
    "#### cooling"
   ]
  },
  {
   "cell_type": "code",
   "execution_count": 36,
   "id": "4ffae27f",
   "metadata": {},
   "outputs": [
    {
     "data": {
      "text/plain": [
       "<Axes: >"
      ]
     },
     "execution_count": 36,
     "metadata": {},
     "output_type": "execute_result"
    },
    {
     "data": {
      "image/png": "[encoded data removed]",
      "text/plain": [
       "<Figure size 640x480 with 1 Axes>"
      ]
     },
     "metadata": {},
     "output_type": "display_data"
    }
   ],
   "source": [
    "df['cooling'].value_counts()[:30].plot.bar()"
   ]
  },
  {
   "cell_type": "markdown",
   "id": "bd39fcdc",
   "metadata": {},
   "source": [
    "Имеем множество значений. Закодируем все разнообразие отопления   как 'есть' или 'нет'"
   ]
  },
  {
   "cell_type": "code",
   "execution_count": 37,
   "id": "385fb5d7",
   "metadata": {},
   "outputs": [],
   "source": [
    "def encoding_cooling(x):\n",
    "    if 'no data'  in str(x).lower(): return '0'\n",
    "    elif x=='': return '0'\n",
    "    else: return '1'  "
   ]
  },
  {
   "cell_type": "code",
   "execution_count": 38,
   "id": "24f5e5e1",
   "metadata": {},
   "outputs": [
    {
     "data": {
      "application/vnd.jupyter.widget-view+json": {
       "model_id": "0e41153e59c74d23900d0589b04c1989",
       "version_major": 2,
       "version_minor": 0
      },
      "text/plain": [
       "Pandas Apply:   0%|          | 0/377185 [00:00<?, ?it/s]"
      ]
     },
     "metadata": {},
     "output_type": "display_data"
    }
   ],
   "source": [
    "df['cooling'] =  df['cooling'].swifter.apply(encoding_cooling)"
   ]
  },
  {
   "cell_type": "code",
   "execution_count": 39,
   "id": "71de824b",
   "metadata": {},
   "outputs": [
    {
     "data": {
      "text/plain": [
       "<Axes: >"
      ]
     },
     "execution_count": 39,
     "metadata": {},
     "output_type": "execute_result"
    },
    {
     "data": {
      "image/png": "[encoded data removed]",
      "text/plain": [
       "<Figure size 640x480 with 1 Axes>"
      ]
     },
     "metadata": {},
     "output_type": "display_data"
    }
   ],
   "source": [
    "df['cooling'].value_counts().plot.bar()"
   ]
  },
  {
   "cell_type": "code",
   "execution_count": 40,
   "id": "885578b1",
   "metadata": {},
   "outputs": [
    {
     "data": {
      "text/plain": [
       "0"
      ]
     },
     "execution_count": 40,
     "metadata": {},
     "output_type": "execute_result"
    }
   ],
   "source": [
    "sum(df['cooling'].isna())"
   ]
  },
  {
   "cell_type": "markdown",
   "id": "787f7c18",
   "metadata": {},
   "source": [
    "#### heating"
   ]
  },
  {
   "cell_type": "code",
   "execution_count": 41,
   "id": "4df65648",
   "metadata": {
    "scrolled": true
   },
   "outputs": [
    {
     "data": {
      "text/plain": [
       "<Axes: >"
      ]
     },
     "execution_count": 41,
     "metadata": {},
     "output_type": "execute_result"
    },
    {
     "data": {
      "image/png": "[encoded data removed]",
      "text/plain": [
       "<Figure size 640x480 with 1 Axes>"
      ]
     },
     "metadata": {},
     "output_type": "display_data"
    }
   ],
   "source": [
    "df['heating'].value_counts()[:30].plot.bar()"
   ]
  },
  {
   "cell_type": "code",
   "execution_count": 42,
   "id": "aff03da0",
   "metadata": {},
   "outputs": [],
   "source": [
    "def encoding_heating(x):\n",
    "    if 'no data'  in str(x).lower(): return 'no_data'\n",
    "    elif 'gas' in str(x).lower(): return 'gas'\n",
    "    elif 'electric'in str(x).lower(): return 'electric'\n",
    "    elif 'pump' in str(x).lower(): return 'pump'\n",
    "    elif 'air' in str(x).lower(): return 'air'\n",
    "    elif x=='': return 6  \n",
    "    "
   ]
  },
  {
   "cell_type": "code",
   "execution_count": 43,
   "id": "77b31e6b",
   "metadata": {},
   "outputs": [
    {
     "data": {
      "application/vnd.jupyter.widget-view+json": {
       "model_id": "7ed3aa34545b4193bdc0169ac6ddee85",
       "version_major": 2,
       "version_minor": 0
      },
      "text/plain": [
       "Pandas Apply:   0%|          | 0/377185 [00:00<?, ?it/s]"
      ]
     },
     "metadata": {},
     "output_type": "display_data"
    }
   ],
   "source": [
    "df['heating'] =  df['heating'].swifter.apply(encoding_heating)"
   ]
  },
  {
   "cell_type": "code",
   "execution_count": 44,
   "id": "f02d8c02",
   "metadata": {},
   "outputs": [],
   "source": [
    "# заполним пропуски\n",
    "df.loc[df['heating'] == 6,'heating'] = 'no_data'"
   ]
  },
  {
   "cell_type": "code",
   "execution_count": 45,
   "id": "5e4d55d2",
   "metadata": {},
   "outputs": [
    {
     "data": {
      "text/plain": [
       "<Axes: >"
      ]
     },
     "execution_count": 45,
     "metadata": {},
     "output_type": "execute_result"
    },
    {
     "data": {
      "image/png": "[encoded data removed]",
      "text/plain": [
       "<Figure size 640x480 with 1 Axes>"
      ]
     },
     "metadata": {},
     "output_type": "display_data"
    }
   ],
   "source": [
    "df['heating'].value_counts().plot.bar()"
   ]
  },
  {
   "cell_type": "markdown",
   "id": "74e6f6f4",
   "metadata": {},
   "source": [
    "#### parking"
   ]
  },
  {
   "cell_type": "code",
   "execution_count": 46,
   "id": "3fd13f99",
   "metadata": {},
   "outputs": [
    {
     "data": {
      "text/plain": [
       "<Axes: >"
      ]
     },
     "execution_count": 46,
     "metadata": {},
     "output_type": "execute_result"
    },
    {
     "data": {
      "image/png": "[encoded data removed]",
      "text/plain": [
       "<Figure size 640x480 with 1 Axes>"
      ]
     },
     "metadata": {},
     "output_type": "display_data"
    }
   ],
   "source": [
    "df['parking'].value_counts()[:30].plot.bar()"
   ]
  },
  {
   "cell_type": "markdown",
   "id": "645640c4",
   "metadata": {},
   "source": [
    "df.loc[df['cooling'].notna(),'cooling'] = 1\n",
    "df.loc[df['cooling'].isnull(),'cooling'] = 0"
   ]
  },
  {
   "cell_type": "code",
   "execution_count": 47,
   "id": "89e419f1",
   "metadata": {},
   "outputs": [],
   "source": [
    "def encoding_parking(x):\n",
    "    if '4'  in str(x).lower(): return 'four'\n",
    "    elif '3' in str(x).lower(): return 'three'\n",
    "    elif '2'in str(x).lower(): return 'two'\n",
    "    elif '1' in str(x).lower(): return 'one'\n",
    "    elif 'Carport' in str(x).lower(): return 'carport'\n",
    "    elif 'none' in str(x).lower(): return 'none'\n",
    "    elif 'off' in str(x).lower(): return 'off_street'\n",
    "    elif 'on' in str(x).lower(): return 'on_street'\n",
    "    elif 'detached' in str(x).lower(): return 'detached'\n",
    "    elif 'No Data' in str(x).lower(): return 'no_data'\n",
    "    elif 'attached' in str(x).lower(): return 'attached'\n",
    "    \n",
    "    elif x=='': return 'none'  "
   ]
  },
  {
   "cell_type": "code",
   "execution_count": 48,
   "id": "2e77cd2e",
   "metadata": {},
   "outputs": [
    {
     "data": {
      "text/plain": [
       "''"
      ]
     },
     "execution_count": 48,
     "metadata": {},
     "output_type": "execute_result"
    }
   ],
   "source": [
    "df['parking'].iloc[103]"
   ]
  },
  {
   "cell_type": "code",
   "execution_count": 49,
   "id": "9b4e4f9e",
   "metadata": {},
   "outputs": [
    {
     "data": {
      "text/plain": [
       "'none'"
      ]
     },
     "execution_count": 49,
     "metadata": {},
     "output_type": "execute_result"
    }
   ],
   "source": [
    "encoding_parking(df['parking'].iloc[103])"
   ]
  },
  {
   "cell_type": "code",
   "execution_count": 50,
   "id": "360e7707",
   "metadata": {},
   "outputs": [
    {
     "data": {
      "application/vnd.jupyter.widget-view+json": {
       "model_id": "043a52b404214c0985f8aa2f811b4c47",
       "version_major": 2,
       "version_minor": 0
      },
      "text/plain": [
       "Pandas Apply:   0%|          | 0/377185 [00:00<?, ?it/s]"
      ]
     },
     "metadata": {},
     "output_type": "display_data"
    }
   ],
   "source": [
    "df['Parking'] =  df['parking'].swifter.apply(encoding_parking)"
   ]
  },
  {
   "cell_type": "code",
   "execution_count": 51,
   "id": "bfff573b",
   "metadata": {},
   "outputs": [
    {
     "data": {
      "text/plain": [
       "<Axes: >"
      ]
     },
     "execution_count": 51,
     "metadata": {},
     "output_type": "execute_result"
    },
    {
     "data": {
      "image/png": "[encoded data removed]",
      "text/plain": [
       "<Figure size 640x480 with 1 Axes>"
      ]
     },
     "metadata": {},
     "output_type": "display_data"
    }
   ],
   "source": [
    "df['Parking'].value_counts().plot.bar()"
   ]
  },
  {
   "cell_type": "code",
   "execution_count": 52,
   "id": "a23151e0",
   "metadata": {},
   "outputs": [],
   "source": [
    "# и удалим исходный столбец\n",
    "del df['parking']"
   ]
  },
  {
   "cell_type": "markdown",
   "id": "fd414967",
   "metadata": {},
   "source": [
    "### schools"
   ]
  },
  {
   "cell_type": "markdown",
   "id": "34b16981",
   "metadata": {},
   "source": [
    "Это JSON данные о школах. Они содержат информацию о рейтинге школы, расстоянии до школы и классах, которые обучаются в школе. Например, в данных указано, что Southern Pines Elementary School имеет рейтинг 4 и находится на расстоянии 2.7 миль. В этой школе обучаются ученики с 3 по 5 классы."
   ]
  },
  {
   "cell_type": "code",
   "execution_count": 53,
   "id": "2d0abeba",
   "metadata": {},
   "outputs": [
    {
     "data": {
      "text/plain": [
       "\"[{'rating': ['4/10', 'None/10', '4/10'], 'data': {'Distance': ['1.65mi', '1.32mi', '1.01mi'], 'Grades': ['9-12', '3-8', 'PK-8']}, 'name': ['East Valley High School&Extension', 'Eastvalley Middle School', 'Trentwood Elementary School']}]\""
      ]
     },
     "execution_count": 53,
     "metadata": {},
     "output_type": "execute_result"
    }
   ],
   "source": [
    "df['schools'][1]"
   ]
  },
  {
   "cell_type": "markdown",
   "id": "43ea9399",
   "metadata": {},
   "source": [
    "рассчитаем количество школ вокруг объекта, среднее расстояние до них и средний рейтинг ['scools_quantity', 'scools_distance', 'scool_rating']"
   ]
  },
  {
   "cell_type": "code",
   "execution_count": 54,
   "id": "d5f233f5",
   "metadata": {},
   "outputs": [],
   "source": [
    "def scools_data(row):\n",
    "    return_dict ={}\n",
    "    scools_quantity = len(ast.literal_eval(row)[0]['name'])\n",
    "    \n",
    "    s=0\n",
    "    for i in ast.literal_eval(row)[0]['data']['Distance']:\n",
    "        s+=float(extract_first_digit(i))\n",
    "    \n",
    "    \n",
    "    s2=0\n",
    "    for i in ast.literal_eval(row)[0]['rating']:\n",
    "        k=extract_first_digit(i) \n",
    "        if k: s2+=int(k)\n",
    "            \n",
    "    if scools_quantity:\n",
    "        scools_distance = round(s/scools_quantity, 2)        \n",
    "        scool_rating = round(s2/scools_quantity, 2)\n",
    "    else:\n",
    "        scools_distance = np.nan\n",
    "        scool_rating= np.nan\n",
    "    return pd.Series([scools_quantity, scools_distance, scool_rating])"
   ]
  },
  {
   "cell_type": "code",
   "execution_count": 55,
   "id": "adf2c4ca",
   "metadata": {},
   "outputs": [
    {
     "data": {
      "application/vnd.jupyter.widget-view+json": {
       "model_id": "f50093fb7b3f454084c9b0ae8691996b",
       "version_major": 2,
       "version_minor": 0
      },
      "text/plain": [
       "Pandas Apply:   0%|          | 0/377185 [00:00<?, ?it/s]"
      ]
     },
     "metadata": {},
     "output_type": "display_data"
    }
   ],
   "source": [
    "df[['scools_quantity', 'scools_distance', 'scool_rating']] = df['schools'].swifter.apply(scools_data)"
   ]
  },
  {
   "cell_type": "code",
   "execution_count": 56,
   "id": "433c13a3",
   "metadata": {},
   "outputs": [],
   "source": [
    "del df['schools']"
   ]
  },
  {
   "cell_type": "code",
   "execution_count": 57,
   "id": "5c8da015",
   "metadata": {},
   "outputs": [
    {
     "data": {
      "text/plain": [
       "(0, 4284, 4284)"
      ]
     },
     "execution_count": 57,
     "metadata": {},
     "output_type": "execute_result"
    }
   ],
   "source": [
    "sum(df['scools_quantity'].isna()),  sum(df['scools_distance'].isna()), sum(df['scool_rating'].isna())"
   ]
  },
  {
   "cell_type": "code",
   "execution_count": 58,
   "id": "80656cca",
   "metadata": {},
   "outputs": [
    {
     "data": {
      "text/plain": [
       "0.9    3256\n",
       "Name: scools_distance, dtype: int64"
      ]
     },
     "execution_count": 58,
     "metadata": {},
     "output_type": "execute_result"
    }
   ],
   "source": [
    "df['scools_distance'].value_counts().iloc[:1]"
   ]
  },
  {
   "cell_type": "code",
   "execution_count": 59,
   "id": "740cd734",
   "metadata": {},
   "outputs": [],
   "source": [
    "df['scools_distance'].fillna(0.9, inplace=True)"
   ]
  },
  {
   "cell_type": "code",
   "execution_count": 60,
   "id": "69a8b613",
   "metadata": {},
   "outputs": [
    {
     "data": {
      "text/plain": [
       "6.0    20590\n",
       "Name: scool_rating, dtype: int64"
      ]
     },
     "execution_count": 60,
     "metadata": {},
     "output_type": "execute_result"
    }
   ],
   "source": [
    "df['scool_rating'].value_counts().iloc[:1]"
   ]
  },
  {
   "cell_type": "code",
   "execution_count": 61,
   "id": "729368a4",
   "metadata": {},
   "outputs": [],
   "source": [
    "df['scool_rating'].fillna(6, inplace=True)"
   ]
  },
  {
   "cell_type": "code",
   "execution_count": 62,
   "id": "388fe8d1",
   "metadata": {},
   "outputs": [
    {
     "data": {
      "text/plain": [
       "<Axes: >"
      ]
     },
     "execution_count": 62,
     "metadata": {},
     "output_type": "execute_result"
    },
    {
     "data": {
      "image/png": "[encoded data removed]",
      "text/plain": [
       "<Figure size 640x480 with 1 Axes>"
      ]
     },
     "metadata": {},
     "output_type": "display_data"
    }
   ],
   "source": [
    "df['scools_quantity'].value_counts().plot.bar()"
   ]
  },
  {
   "cell_type": "code",
   "execution_count": 63,
   "id": "30aed301",
   "metadata": {},
   "outputs": [
    {
     "data": {
      "text/plain": [
       "<Axes: >"
      ]
     },
     "execution_count": 63,
     "metadata": {},
     "output_type": "execute_result"
    },
    {
     "data": {
      "image/png": "[encoded data removed]",
      "text/plain": [
       "<Figure size 640x480 with 1 Axes>"
      ]
     },
     "metadata": {},
     "output_type": "display_data"
    }
   ],
   "source": [
    "df['scools_distance'].value_counts().plot.bar()"
   ]
  },
  {
   "cell_type": "code",
   "execution_count": 64,
   "id": "524700f9",
   "metadata": {},
   "outputs": [
    {
     "data": {
      "application/vnd.jupyter.widget-view+json": {
       "model_id": "312a423ce90f42b18efe2e78519040d8",
       "version_major": 2,
       "version_minor": 0
      },
      "text/plain": [
       "Pandas Apply:   0%|          | 0/377185 [00:00<?, ?it/s]"
      ]
     },
     "metadata": {},
     "output_type": "display_data"
    }
   ],
   "source": [
    "df['scools_distance'] = df['scools_distance'].swifter.apply(lambda x: x if x<20 else 20)"
   ]
  },
  {
   "cell_type": "code",
   "execution_count": 65,
   "id": "45b00a49",
   "metadata": {},
   "outputs": [
    {
     "data": {
      "text/plain": [
       "<Axes: xlabel='scools_distance'>"
      ]
     },
     "execution_count": 65,
     "metadata": {},
     "output_type": "execute_result"
    },
    {
     "data": {
      "image/png": "[encoded data removed]",
      "text/plain": [
       "<Figure size 640x480 with 1 Axes>"
      ]
     },
     "metadata": {},
     "output_type": "display_data"
    }
   ],
   "source": [
    "sns.boxplot(x=df[\"scools_distance\"])"
   ]
  },
  {
   "cell_type": "code",
   "execution_count": 66,
   "id": "32e861a9",
   "metadata": {},
   "outputs": [
    {
     "data": {
      "text/plain": [
       "<Axes: >"
      ]
     },
     "execution_count": 66,
     "metadata": {},
     "output_type": "execute_result"
    },
    {
     "data": {
      "image/png": "[encoded data removed]",
      "text/plain": [
       "<Figure size 640x480 with 1 Axes>"
      ]
     },
     "metadata": {},
     "output_type": "display_data"
    }
   ],
   "source": [
    "df['scool_rating'].value_counts().plot.bar()"
   ]
  },
  {
   "cell_type": "code",
   "execution_count": 67,
   "id": "aa61f4e1",
   "metadata": {},
   "outputs": [
    {
     "data": {
      "text/plain": [
       "<Axes: xlabel='scool_rating'>"
      ]
     },
     "execution_count": 67,
     "metadata": {},
     "output_type": "execute_result"
    },
    {
     "data": {
      "image/png": "[encoded data removed]",
      "text/plain": [
       "<Figure size 640x480 with 1 Axes>"
      ]
     },
     "metadata": {},
     "output_type": "display_data"
    }
   ],
   "source": [
    "sns.boxplot(x=df[\"scool_rating\"])"
   ]
  },
  {
   "cell_type": "markdown",
   "id": "d4d7a2dd",
   "metadata": {},
   "source": [
    "### sqft"
   ]
  },
  {
   "cell_type": "code",
   "execution_count": 68,
   "id": "ab7df298",
   "metadata": {},
   "outputs": [
    {
     "data": {
      "application/vnd.jupyter.widget-view+json": {
       "model_id": "c30fe3f441ab4dd1944a928c343e7744",
       "version_major": 2,
       "version_minor": 0
      },
      "text/plain": [
       "Pandas Apply:   0%|          | 0/377185 [00:00<?, ?it/s]"
      ]
     },
     "metadata": {},
     "output_type": "display_data"
    }
   ],
   "source": [
    "#Это площадь, преобразем ее в числовой формат\n",
    "df['sqft'] = df['sqft'].swifter.apply(extract_first_digit)"
   ]
  },
  {
   "cell_type": "code",
   "execution_count": 69,
   "id": "b8e3abc1",
   "metadata": {},
   "outputs": [
    {
     "data": {
      "text/plain": [
       "65075"
      ]
     },
     "execution_count": 69,
     "metadata": {},
     "output_type": "execute_result"
    }
   ],
   "source": [
    "sum(df['sqft'].isna())"
   ]
  },
  {
   "cell_type": "code",
   "execution_count": 70,
   "id": "1ca16d4a",
   "metadata": {},
   "outputs": [
    {
     "data": {
      "text/plain": [
       "0.0      11854\n",
       "1.2       1196\n",
       "1.0        946\n",
       "1.5        846\n",
       "1.1        818\n",
       "1.8        795\n",
       "1.4        737\n",
       "2.0        723\n",
       "800.0      711\n",
       "1.6        674\n",
       "Name: sqft, dtype: int64"
      ]
     },
     "execution_count": 70,
     "metadata": {},
     "output_type": "execute_result"
    }
   ],
   "source": [
    "df['sqft'].value_counts().iloc[:10]"
   ]
  },
  {
   "cell_type": "code",
   "execution_count": 71,
   "id": "75884265",
   "metadata": {},
   "outputs": [
    {
     "data": {
      "text/plain": [
       "65075"
      ]
     },
     "execution_count": 71,
     "metadata": {},
     "output_type": "execute_result"
    }
   ],
   "source": [
    "sum(df['sqft'].isna())"
   ]
  },
  {
   "cell_type": "code",
   "execution_count": 72,
   "id": "9a994764",
   "metadata": {},
   "outputs": [],
   "source": [
    "df['sqft'].fillna(1.2, inplace=True)"
   ]
  },
  {
   "cell_type": "markdown",
   "id": "5f3dbb40",
   "metadata": {},
   "source": [
    "### beds"
   ]
  },
  {
   "cell_type": "code",
   "execution_count": 73,
   "id": "16471c40",
   "metadata": {},
   "outputs": [
    {
     "data": {
      "application/vnd.jupyter.widget-view+json": {
       "model_id": "7d12f3d359af479cb3ff1ee8582b665d",
       "version_major": 2,
       "version_minor": 0
      },
      "text/plain": [
       "Pandas Apply:   0%|          | 0/377185 [00:00<?, ?it/s]"
      ]
     },
     "metadata": {},
     "output_type": "display_data"
    }
   ],
   "source": [
    "#Это число спален, преобразуем в числовой вид\n",
    "df['beds'] = df['beds'].swifter.apply(extract_first_digit, return_type='integer')"
   ]
  },
  {
   "cell_type": "code",
   "execution_count": 74,
   "id": "98987e9c",
   "metadata": {},
   "outputs": [
    {
     "data": {
      "text/plain": [
       "129727"
      ]
     },
     "execution_count": 74,
     "metadata": {},
     "output_type": "execute_result"
    }
   ],
   "source": [
    "sum(df['beds'].isna())"
   ]
  },
  {
   "cell_type": "code",
   "execution_count": 75,
   "id": "18a56a92",
   "metadata": {},
   "outputs": [
    {
     "data": {
      "text/plain": [
       "3.0    97749\n",
       "4.0    63717\n",
       "2.0    47727\n",
       "5.0    20337\n",
       "6.0     6276\n",
       "Name: beds, dtype: int64"
      ]
     },
     "execution_count": 75,
     "metadata": {},
     "output_type": "execute_result"
    }
   ],
   "source": [
    "df['beds'].value_counts().iloc[:5]"
   ]
  },
  {
   "cell_type": "code",
   "execution_count": 76,
   "id": "af294314",
   "metadata": {},
   "outputs": [],
   "source": [
    "df['beds'].fillna(3, inplace=True)"
   ]
  },
  {
   "cell_type": "code",
   "execution_count": null,
   "id": "53894b0a",
   "metadata": {},
   "outputs": [],
   "source": []
  },
  {
   "cell_type": "markdown",
   "id": "5b047bed",
   "metadata": {},
   "source": [
    "### Price/sqft"
   ]
  },
  {
   "cell_type": "code",
   "execution_count": 77,
   "id": "45e609c5",
   "metadata": {},
   "outputs": [
    {
     "data": {
      "application/vnd.jupyter.widget-view+json": {
       "model_id": "2dad928997644a608a74cc7105cfce85",
       "version_major": 2,
       "version_minor": 0
      },
      "text/plain": [
       "Pandas Apply:   0%|          | 0/377185 [00:00<?, ?it/s]"
      ]
     },
     "metadata": {},
     "output_type": "display_data"
    }
   ],
   "source": [
    "# Стоимость за квадратный метр, преобразуем в число\n",
    "df['price/sqft'] = df['price/sqft'].swifter.apply(extract_cost)"
   ]
  },
  {
   "cell_type": "markdown",
   "id": "e0c92f09",
   "metadata": {},
   "source": [
    "### target"
   ]
  },
  {
   "cell_type": "code",
   "execution_count": 78,
   "id": "b9b79876",
   "metadata": {},
   "outputs": [
    {
     "data": {
      "application/vnd.jupyter.widget-view+json": {
       "model_id": "433bd146e98541d9863e3b8713abb4d3",
       "version_major": 2,
       "version_minor": 0
      },
      "text/plain": [
       "Pandas Apply:   0%|          | 0/377185 [00:00<?, ?it/s]"
      ]
     },
     "metadata": {},
     "output_type": "display_data"
    }
   ],
   "source": [
    "#Целевой показатель - стомость, преобразуем в число\n",
    "df['target'] = df['target'].swifter.apply(extract_cost)"
   ]
  },
  {
   "cell_type": "code",
   "execution_count": 79,
   "id": "d54be188",
   "metadata": {},
   "outputs": [],
   "source": [
    "df = df.dropna(subset=['target'])"
   ]
  },
  {
   "cell_type": "code",
   "execution_count": 80,
   "id": "fc7bfc1e",
   "metadata": {},
   "outputs": [
    {
     "data": {
      "application/vnd.jupyter.widget-view+json": {
       "model_id": "40d961d1e02743ae92edeea5e66082b8",
       "version_major": 2,
       "version_minor": 0
      },
      "text/plain": [
       "Pandas Apply:   0%|          | 0/374704 [00:00<?, ?it/s]"
      ]
     },
     "metadata": {},
     "output_type": "display_data"
    }
   ],
   "source": [
    "df['target'] = df['target'].swifter.apply(lambda x: x if x<10000000 else 100000000)"
   ]
  },
  {
   "cell_type": "code",
   "execution_count": 81,
   "id": "f4727d50",
   "metadata": {},
   "outputs": [
    {
     "data": {
      "image/png": "[encoded data removed]",
      "text/plain": [
       "<Figure size 1000x800 with 2 Axes>"
      ]
     },
     "metadata": {},
     "output_type": "display_data"
    },
    {
     "data": {
      "text/plain": [
       "<Figure size 1000x700 with 0 Axes>"
      ]
     },
     "metadata": {},
     "output_type": "display_data"
    }
   ],
   "source": [
    "fig, axes = plt.subplots(nrows=2, ncols=1, figsize=(10, 8))\n",
    "fig = plt.figure(figsize=(10, 7))\n",
    "histplot = sns.histplot(\n",
    "    data=df,\n",
    "    x='target',\n",
    "    bins=50,\n",
    "    kde=True,\n",
    "    ax=axes[0]\n",
    ");\n",
    "boxplot = sns.boxplot(\n",
    "    data=df,\n",
    "    x='target',\n",
    "    orient='h',\n",
    "    width=0.5,\n",
    "    ax=axes[1]\n",
    ");\n",
    "histplot.set_title('Стоимость');\n",
    "axes[0].set_title('Гистограмма стоимости', fontsize=16)\n",
    "\n",
    "histplot.grid()"
   ]
  },
  {
   "cell_type": "markdown",
   "id": "2e50b8c6",
   "metadata": {},
   "source": [
    "#### Имеем распределение с длинным хвостом, в дальнейшем нужно проверить влияние  логарифмирования"
   ]
  },
  {
   "cell_type": "markdown",
   "id": "3ead720d",
   "metadata": {},
   "source": [
    "### MlsId"
   ]
  },
  {
   "cell_type": "markdown",
   "id": "a2aa5422",
   "metadata": {},
   "source": [
    "Служба множественного листинга (MLS) — это база данных, созданная сотрудничающими брокерами по недвижимости для предоставления данных о недвижимости для продажи. \n",
    "MLS позволяет брокерам просматривать списки недвижимости для продажи друг у друга с целью связать покупателей с продавцами.\n",
    "Служба множественного листинга помогает агентам по недвижимости и брокерам связываться, объединяя и обмениваясь информацией при распределении комиссионных. Вероятно наличие в данной базе повышает скорость продажи и следовательно стоимость.\n",
    "\n",
    "Закодируем все разнообразие отопления как 'есть' или 'нет'"
   ]
  },
  {
   "cell_type": "code",
   "execution_count": 82,
   "id": "1bc70769",
   "metadata": {},
   "outputs": [],
   "source": [
    "def mls_sum(row):\n",
    "    val = np.nan\n",
    "    if row['mls-id'].isna(): val = 0 \n",
    "    else: val = 1\n",
    "    if row['MlsId'].isna(): val = 0 \n",
    "    else: val = 1\n",
    "    return val\n",
    "    "
   ]
  },
  {
   "cell_type": "code",
   "execution_count": 83,
   "id": "63bace37",
   "metadata": {},
   "outputs": [],
   "source": [
    "df.loc[df['mls-id'].notna(),'mls-id'] = 1\n",
    "df.loc[df['mls-id'].isnull(),'mls-id'] = 0\n"
   ]
  },
  {
   "cell_type": "code",
   "execution_count": 84,
   "id": "7f344037",
   "metadata": {},
   "outputs": [],
   "source": [
    "df.loc[df['MlsId'].notna(),'MlsId'] = 1\n",
    "df.loc[df['MlsId'].isnull(),'MlsId'] = 0"
   ]
  },
  {
   "cell_type": "code",
   "execution_count": 85,
   "id": "9215212e",
   "metadata": {},
   "outputs": [],
   "source": [
    "df['mlsid'] = df['mls-id'] + df['MlsId']\n",
    "df.loc[df['mlsid'] == 2,'MlsId'] = 1"
   ]
  },
  {
   "cell_type": "code",
   "execution_count": 86,
   "id": "354ac2e0",
   "metadata": {},
   "outputs": [],
   "source": [
    "del df['mls-id']\n",
    "del df['MlsId']"
   ]
  },
  {
   "cell_type": "code",
   "execution_count": 87,
   "id": "14063780",
   "metadata": {},
   "outputs": [
    {
     "data": {
      "text/plain": [
       "<Axes: >"
      ]
     },
     "execution_count": 87,
     "metadata": {},
     "output_type": "execute_result"
    },
    {
     "data": {
      "image/png": "[encoded data removed]",
      "text/plain": [
       "<Figure size 640x480 with 1 Axes>"
      ]
     },
     "metadata": {},
     "output_type": "display_data"
    }
   ],
   "source": [
    "df['mlsid'].value_counts().plot.bar()"
   ]
  },
  {
   "cell_type": "code",
   "execution_count": 88,
   "id": "0876715e",
   "metadata": {},
   "outputs": [
    {
     "data": {
      "text/plain": [
       "0"
      ]
     },
     "execution_count": 88,
     "metadata": {},
     "output_type": "execute_result"
    }
   ],
   "source": [
    "sum(df['mlsid'].isna())"
   ]
  },
  {
   "cell_type": "markdown",
   "id": "78537e23",
   "metadata": {},
   "source": [
    "### private pool (бассейн)"
   ]
  },
  {
   "cell_type": "markdown",
   "id": "96103454",
   "metadata": {},
   "source": [
    "Закодируем все разнообразие отопления как 'есть' или 'нет'"
   ]
  },
  {
   "cell_type": "code",
   "execution_count": 89,
   "id": "a0ac273e",
   "metadata": {},
   "outputs": [],
   "source": [
    "df.loc[df['private pool'].notna(),'private pool'] = 1\n",
    "df.loc[df['private pool'].isnull(),'private pool'] = 0"
   ]
  },
  {
   "cell_type": "code",
   "execution_count": 90,
   "id": "3722a4df",
   "metadata": {},
   "outputs": [],
   "source": [
    "df.loc[df['PrivatePool'].notna(),'PrivatePool'] = 1\n",
    "df.loc[df['PrivatePool'].isnull(),'PrivatePool'] = 0"
   ]
  },
  {
   "cell_type": "code",
   "execution_count": 91,
   "id": "1eb4d8a0",
   "metadata": {},
   "outputs": [],
   "source": [
    "df['private_pool'] = df['private pool'] + df['PrivatePool']\n",
    "df.loc[df['private_pool'] == 2,'private_pool'] = 1"
   ]
  },
  {
   "cell_type": "code",
   "execution_count": 92,
   "id": "c0160d44",
   "metadata": {},
   "outputs": [],
   "source": [
    "del df['private pool']\n",
    "del df['PrivatePool']"
   ]
  },
  {
   "cell_type": "code",
   "execution_count": 93,
   "id": "5946a7f6",
   "metadata": {},
   "outputs": [
    {
     "data": {
      "text/plain": [
       "<Axes: >"
      ]
     },
     "execution_count": 93,
     "metadata": {},
     "output_type": "execute_result"
    },
    {
     "data": {
      "image/png": "[encoded data removed]",
      "text/plain": [
       "<Figure size 640x480 with 1 Axes>"
      ]
     },
     "metadata": {},
     "output_type": "display_data"
    }
   ],
   "source": [
    "df['private_pool'].value_counts().plot.bar()"
   ]
  },
  {
   "cell_type": "code",
   "execution_count": 94,
   "id": "ef213c0a",
   "metadata": {},
   "outputs": [
    {
     "data": {
      "text/plain": [
       "0"
      ]
     },
     "execution_count": 94,
     "metadata": {},
     "output_type": "execute_result"
    }
   ],
   "source": [
    "sum(df['private_pool'].isna())"
   ]
  },
  {
   "cell_type": "markdown",
   "id": "55448b6a",
   "metadata": {},
   "source": [
    "### stories"
   ]
  },
  {
   "cell_type": "code",
   "execution_count": 95,
   "id": "d76a78ea",
   "metadata": {},
   "outputs": [
    {
     "data": {
      "text/plain": [
       "<Axes: >"
      ]
     },
     "execution_count": 95,
     "metadata": {},
     "output_type": "execute_result"
    },
    {
     "data": {
      "image/png": "[encoded data removed]",
      "text/plain": [
       "<Figure size 640x480 with 1 Axes>"
      ]
     },
     "metadata": {},
     "output_type": "display_data"
    }
   ],
   "source": [
    "df['stories'].value_counts()[:30].plot.bar()"
   ]
  },
  {
   "cell_type": "code",
   "execution_count": 96,
   "id": "8b95dab5",
   "metadata": {},
   "outputs": [
    {
     "data": {
      "text/plain": [
       "1.0    66808\n",
       "2.0    55003\n",
       "1      22795\n",
       "2      17976\n",
       "3.0    11233\n",
       "0.0     7209\n",
       "One     5758\n",
       "0       4231\n",
       "3       4201\n",
       "9.0     2914\n",
       "Name: stories, dtype: int64"
      ]
     },
     "execution_count": 96,
     "metadata": {},
     "output_type": "execute_result"
    }
   ],
   "source": [
    "df['stories'].value_counts()[:10]"
   ]
  },
  {
   "cell_type": "code",
   "execution_count": 97,
   "id": "3d22ae7d",
   "metadata": {},
   "outputs": [],
   "source": [
    "one = ['1.0', '1','One', '1 Story', '1.00', 'One Story', 'Ranch/1 Story']\n",
    "two = ['2.0', '2', '2.00', 'Two', '2 Story']"
   ]
  },
  {
   "cell_type": "code",
   "execution_count": 98,
   "id": "11ac9489",
   "metadata": {},
   "outputs": [],
   "source": [
    "def encoding_stories(row):\n",
    "    \"\"\"закодируем множество значений, используя  вышестоящие списки\"\"\"\n",
    "    if row in (one): return 1\n",
    "    elif row in (two): return 2\n",
    "    else: return 3    "
   ]
  },
  {
   "cell_type": "code",
   "execution_count": 99,
   "id": "83bf997a",
   "metadata": {},
   "outputs": [
    {
     "data": {
      "application/vnd.jupyter.widget-view+json": {
       "model_id": "f7d91c7e9ecc43f68d56ad5b09847fcd",
       "version_major": 2,
       "version_minor": 0
      },
      "text/plain": [
       "Pandas Apply:   0%|          | 0/374704 [00:00<?, ?it/s]"
      ]
     },
     "metadata": {},
     "output_type": "display_data"
    }
   ],
   "source": [
    "df['stories'] =  df['stories'].swifter.apply(encoding_stories)"
   ]
  },
  {
   "cell_type": "code",
   "execution_count": 100,
   "id": "5793b31e",
   "metadata": {},
   "outputs": [
    {
     "data": {
      "text/plain": [
       "0"
      ]
     },
     "execution_count": 100,
     "metadata": {},
     "output_type": "execute_result"
    }
   ],
   "source": [
    "sum(df['stories'].isna())"
   ]
  },
  {
   "cell_type": "markdown",
   "id": "a93e7bf5",
   "metadata": {},
   "source": [
    "### fireplace"
   ]
  },
  {
   "cell_type": "markdown",
   "id": "0650a674",
   "metadata": {},
   "source": [
    "Закодируем все разнообразие отопления как 'есть' или 'нет'"
   ]
  },
  {
   "cell_type": "code",
   "execution_count": 101,
   "id": "64d3ad64",
   "metadata": {},
   "outputs": [],
   "source": [
    "df.loc[df['fireplace'].notna(),'fireplace'] = 1\n",
    "df.loc[df['fireplace'].isnull(),'fireplace'] = 0"
   ]
  },
  {
   "cell_type": "code",
   "execution_count": 102,
   "id": "bbbc1829",
   "metadata": {},
   "outputs": [
    {
     "data": {
      "text/plain": [
       "<Axes: >"
      ]
     },
     "execution_count": 102,
     "metadata": {},
     "output_type": "execute_result"
    },
    {
     "data": {
      "image/png": "[encoded data removed]",
      "text/plain": [
       "<Figure size 640x480 with 1 Axes>"
      ]
     },
     "metadata": {},
     "output_type": "display_data"
    }
   ],
   "source": [
    "df['fireplace'].value_counts()[:30].plot.bar()"
   ]
  },
  {
   "cell_type": "code",
   "execution_count": 103,
   "id": "19d2c041",
   "metadata": {},
   "outputs": [],
   "source": [
    "to_delete = [  'remodeled_year']"
   ]
  },
  {
   "cell_type": "code",
   "execution_count": 104,
   "id": "b3b6aaad",
   "metadata": {},
   "outputs": [],
   "source": [
    "df.drop (columns=to_delete, axis= 1 , inplace= True )"
   ]
  },
  {
   "cell_type": "markdown",
   "id": "44820beb",
   "metadata": {},
   "source": [
    "#### Что мы имеем в итоге очистки данных"
   ]
  },
  {
   "cell_type": "code",
   "execution_count": 105,
   "id": "d148a5fb",
   "metadata": {},
   "outputs": [
    {
     "data": {
      "text/html": [
       "<div>\n",
       "<style scoped>\n",
       "    .dataframe tbody tr th:only-of-type {\n",
       "        vertical-align: middle;\n",
       "    }\n",
       "\n",
       "    .dataframe tbody tr th {\n",
       "        vertical-align: top;\n",
       "    }\n",
       "\n",
       "    .dataframe thead th {\n",
       "        text-align: right;\n",
       "    }\n",
       "</style>\n",
       "<table border=\"1\" class=\"dataframe\">\n",
       "  <thead>\n",
       "    <tr style=\"text-align: right;\">\n",
       "      <th></th>\n",
       "      <th>nunique</th>\n",
       "      <th>&lt;lambda&gt;</th>\n",
       "      <th>null</th>\n",
       "      <th>dtype</th>\n",
       "    </tr>\n",
       "  </thead>\n",
       "  <tbody>\n",
       "    <tr>\n",
       "      <th>status</th>\n",
       "      <td>8</td>\n",
       "      <td>[active, pending, auction, for_rent, contingen...</td>\n",
       "      <td>0</td>\n",
       "      <td>object</td>\n",
       "    </tr>\n",
       "    <tr>\n",
       "      <th>street</th>\n",
       "      <td>334751</td>\n",
       "      <td>[240 Heather Ln, 12911 E Heroy Ave, 2005 Westr...</td>\n",
       "      <td>2</td>\n",
       "      <td>object</td>\n",
       "    </tr>\n",
       "    <tr>\n",
       "      <th>baths</th>\n",
       "      <td>21</td>\n",
       "      <td>[3.0, 2.0, 8.0, 20.0, 4.0, 5.0, 7.0, 1.0, 6.0,...</td>\n",
       "      <td>0</td>\n",
       "      <td>float64</td>\n",
       "    </tr>\n",
       "    <tr>\n",
       "      <th>fireplace</th>\n",
       "      <td>2</td>\n",
       "      <td>[1, 0]</td>\n",
       "      <td>0</td>\n",
       "      <td>object</td>\n",
       "    </tr>\n",
       "    <tr>\n",
       "      <th>city</th>\n",
       "      <td>2019</td>\n",
       "      <td>[Southern Pines, Spokane Valley, Los Angeles, ...</td>\n",
       "      <td>34</td>\n",
       "      <td>object</td>\n",
       "    </tr>\n",
       "    <tr>\n",
       "      <th>sqft</th>\n",
       "      <td>12550</td>\n",
       "      <td>[2900.0, 1.947, 3.0, 6.457, 1.2, 897.0, 1.507,...</td>\n",
       "      <td>0</td>\n",
       "      <td>float64</td>\n",
       "    </tr>\n",
       "    <tr>\n",
       "      <th>zipcode</th>\n",
       "      <td>4541</td>\n",
       "      <td>[28387, 99216, 90049, 75205, 32908, 19145, 347...</td>\n",
       "      <td>0</td>\n",
       "      <td>object</td>\n",
       "    </tr>\n",
       "    <tr>\n",
       "      <th>beds</th>\n",
       "      <td>76</td>\n",
       "      <td>[4.0, 3.0, 5.0, 2.0, 8.0, 1.0, 6.0, 12.0, 14.0...</td>\n",
       "      <td>0</td>\n",
       "      <td>float64</td>\n",
       "    </tr>\n",
       "    <tr>\n",
       "      <th>state</th>\n",
       "      <td>39</td>\n",
       "      <td>[NC, WA, CA, TX, FL, PA, TN, IA, NY, OR, DC, N...</td>\n",
       "      <td>0</td>\n",
       "      <td>object</td>\n",
       "    </tr>\n",
       "    <tr>\n",
       "      <th>stories</th>\n",
       "      <td>3</td>\n",
       "      <td>[3, 2, 1]</td>\n",
       "      <td>0</td>\n",
       "      <td>int64</td>\n",
       "    </tr>\n",
       "    <tr>\n",
       "      <th>target</th>\n",
       "      <td>33873</td>\n",
       "      <td>[418000.0, 310000.0, 2895000.0, 2395000.0, 500...</td>\n",
       "      <td>0</td>\n",
       "      <td>float64</td>\n",
       "    </tr>\n",
       "    <tr>\n",
       "      <th>property_type</th>\n",
       "      <td>7</td>\n",
       "      <td>[single, land, townhouse, None, coop, multi, p...</td>\n",
       "      <td>95548</td>\n",
       "      <td>object</td>\n",
       "    </tr>\n",
       "    <tr>\n",
       "      <th>year_built</th>\n",
       "      <td>226</td>\n",
       "      <td>[2019.0, 1961.0, 2006.0, nan, 1920.0, 1976.0, ...</td>\n",
       "      <td>63267</td>\n",
       "      <td>float64</td>\n",
       "    </tr>\n",
       "    <tr>\n",
       "      <th>heating</th>\n",
       "      <td>5</td>\n",
       "      <td>[pump, no_data, air, electric, gas, None]</td>\n",
       "      <td>56043</td>\n",
       "      <td>object</td>\n",
       "    </tr>\n",
       "    <tr>\n",
       "      <th>cooling</th>\n",
       "      <td>2</td>\n",
       "      <td>[0, 1]</td>\n",
       "      <td>0</td>\n",
       "      <td>object</td>\n",
       "    </tr>\n",
       "    <tr>\n",
       "      <th>price/sqft</th>\n",
       "      <td>3039</td>\n",
       "      <td>[144.0, 159.0, 965.0, 371.0, nan, 233.0, 120.0...</td>\n",
       "      <td>63808</td>\n",
       "      <td>float64</td>\n",
       "    </tr>\n",
       "    <tr>\n",
       "      <th>Parking</th>\n",
       "      <td>9</td>\n",
       "      <td>[none, attached, detached, two, four, off_stre...</td>\n",
       "      <td>35978</td>\n",
       "      <td>object</td>\n",
       "    </tr>\n",
       "    <tr>\n",
       "      <th>scools_quantity</th>\n",
       "      <td>27</td>\n",
       "      <td>[8.0, 3.0, 4.0, 0.0, 6.0, 5.0, 2.0, 1.0, 10.0,...</td>\n",
       "      <td>0</td>\n",
       "      <td>float64</td>\n",
       "    </tr>\n",
       "    <tr>\n",
       "      <th>scools_distance</th>\n",
       "      <td>1649</td>\n",
       "      <td>[5.4, 1.33, 1.96, 0.75, 4.08, 0.9, 3.83, 1.1, ...</td>\n",
       "      <td>0</td>\n",
       "      <td>float64</td>\n",
       "    </tr>\n",
       "    <tr>\n",
       "      <th>scool_rating</th>\n",
       "      <td>257</td>\n",
       "      <td>[3.25, 2.67, 6.67, 9.25, 4.67, 6.0, 1.75, 3.17...</td>\n",
       "      <td>0</td>\n",
       "      <td>float64</td>\n",
       "    </tr>\n",
       "    <tr>\n",
       "      <th>mlsid</th>\n",
       "      <td>2</td>\n",
       "      <td>[1, 0]</td>\n",
       "      <td>0</td>\n",
       "      <td>object</td>\n",
       "    </tr>\n",
       "    <tr>\n",
       "      <th>private_pool</th>\n",
       "      <td>2</td>\n",
       "      <td>[0, 1]</td>\n",
       "      <td>0</td>\n",
       "      <td>object</td>\n",
       "    </tr>\n",
       "  </tbody>\n",
       "</table>\n",
       "</div>"
      ],
      "text/plain": [
       "                nunique                                           <lambda>  \\\n",
       "status                8  [active, pending, auction, for_rent, contingen...   \n",
       "street           334751  [240 Heather Ln, 12911 E Heroy Ave, 2005 Westr...   \n",
       "baths                21  [3.0, 2.0, 8.0, 20.0, 4.0, 5.0, 7.0, 1.0, 6.0,...   \n",
       "fireplace             2                                             [1, 0]   \n",
       "city               2019  [Southern Pines, Spokane Valley, Los Angeles, ...   \n",
       "sqft              12550  [2900.0, 1.947, 3.0, 6.457, 1.2, 897.0, 1.507,...   \n",
       "zipcode            4541  [28387, 99216, 90049, 75205, 32908, 19145, 347...   \n",
       "beds                 76  [4.0, 3.0, 5.0, 2.0, 8.0, 1.0, 6.0, 12.0, 14.0...   \n",
       "state                39  [NC, WA, CA, TX, FL, PA, TN, IA, NY, OR, DC, N...   \n",
       "stories               3                                          [3, 2, 1]   \n",
       "target            33873  [418000.0, 310000.0, 2895000.0, 2395000.0, 500...   \n",
       "property_type         7  [single, land, townhouse, None, coop, multi, p...   \n",
       "year_built          226  [2019.0, 1961.0, 2006.0, nan, 1920.0, 1976.0, ...   \n",
       "heating               5          [pump, no_data, air, electric, gas, None]   \n",
       "cooling               2                                             [0, 1]   \n",
       "price/sqft         3039  [144.0, 159.0, 965.0, 371.0, nan, 233.0, 120.0...   \n",
       "Parking               9  [none, attached, detached, two, four, off_stre...   \n",
       "scools_quantity      27  [8.0, 3.0, 4.0, 0.0, 6.0, 5.0, 2.0, 1.0, 10.0,...   \n",
       "scools_distance    1649  [5.4, 1.33, 1.96, 0.75, 4.08, 0.9, 3.83, 1.1, ...   \n",
       "scool_rating        257  [3.25, 2.67, 6.67, 9.25, 4.67, 6.0, 1.75, 3.17...   \n",
       "mlsid                 2                                             [1, 0]   \n",
       "private_pool          2                                             [0, 1]   \n",
       "\n",
       "                  null    dtype  \n",
       "status               0   object  \n",
       "street               2   object  \n",
       "baths                0  float64  \n",
       "fireplace            0   object  \n",
       "city                34   object  \n",
       "sqft                 0  float64  \n",
       "zipcode              0   object  \n",
       "beds                 0  float64  \n",
       "state                0   object  \n",
       "stories              0    int64  \n",
       "target               0  float64  \n",
       "property_type    95548   object  \n",
       "year_built       63267  float64  \n",
       "heating          56043   object  \n",
       "cooling              0   object  \n",
       "price/sqft       63808  float64  \n",
       "Parking          35978   object  \n",
       "scools_quantity      0  float64  \n",
       "scools_distance      0  float64  \n",
       "scool_rating         0  float64  \n",
       "mlsid                0   object  \n",
       "private_pool         0   object  "
      ]
     },
     "execution_count": 105,
     "metadata": {},
     "output_type": "execute_result"
    }
   ],
   "source": [
    "pd.concat([df.agg(['nunique', lambda s: s.unique()[:15]]).transpose(),\\\n",
    "                      pd.Series(df.isnull().sum(), name='null'),\n",
    "                      pd.Series(df.dtypes, name='dtype')], axis=1)"
   ]
  },
  {
   "cell_type": "code",
   "execution_count": 106,
   "id": "036b63e0",
   "metadata": {},
   "outputs": [],
   "source": [
    "#Удалим все строки с пропусками\n",
    "df.dropna(inplace=True)"
   ]
  },
  {
   "cell_type": "code",
   "execution_count": 107,
   "id": "8022595f",
   "metadata": {},
   "outputs": [],
   "source": [
    "#Поделим фичи на числовые и категориальные\n",
    "num_features = [col for col in df.columns if df[col].dtype in ['float64','int64']]\n",
    "num_features.remove('target') #не забыв удалить из списка целевую колону\n",
    "cat_features = [col for col in df.columns if df[col].dtype not in ['float64','int64']]\n"
   ]
  },
  {
   "cell_type": "code",
   "execution_count": 108,
   "id": "6c8add8d",
   "metadata": {},
   "outputs": [
    {
     "data": {
      "text/plain": [
       "['baths',\n",
       " 'sqft',\n",
       " 'beds',\n",
       " 'stories',\n",
       " 'year_built',\n",
       " 'price/sqft',\n",
       " 'scools_quantity',\n",
       " 'scools_distance',\n",
       " 'scool_rating']"
      ]
     },
     "execution_count": 108,
     "metadata": {},
     "output_type": "execute_result"
    }
   ],
   "source": [
    "num_features"
   ]
  },
  {
   "cell_type": "code",
   "execution_count": 109,
   "id": "bf1c001b",
   "metadata": {},
   "outputs": [
    {
     "data": {
      "text/plain": [
       "['status',\n",
       " 'street',\n",
       " 'fireplace',\n",
       " 'city',\n",
       " 'zipcode',\n",
       " 'state',\n",
       " 'property_type',\n",
       " 'heating',\n",
       " 'cooling',\n",
       " 'Parking',\n",
       " 'mlsid',\n",
       " 'private_pool']"
      ]
     },
     "execution_count": 109,
     "metadata": {},
     "output_type": "execute_result"
    }
   ],
   "source": [
    "cat_features"
   ]
  },
  {
   "cell_type": "markdown",
   "id": "8fb7a63e",
   "metadata": {},
   "source": [
    "## Machine Learning"
   ]
  },
  {
   "cell_type": "markdown",
   "id": "56a170d6",
   "metadata": {},
   "source": [
    "### Train Split"
   ]
  },
  {
   "cell_type": "code",
   "execution_count": 110,
   "id": "804ea5fa",
   "metadata": {},
   "outputs": [],
   "source": [
    "y = df['target']\n",
    "X = df.loc[:, df.columns !='target']"
   ]
  },
  {
   "cell_type": "code",
   "execution_count": 111,
   "id": "b00a5299",
   "metadata": {},
   "outputs": [],
   "source": [
    "X_train, X_test, y_train, y_test = train_test_split(X, y, test_size=VAL_SIZE, shuffle=True, random_state=RANDOM_SEED)"
   ]
  },
  {
   "cell_type": "markdown",
   "id": "5300d03f",
   "metadata": {},
   "source": [
    "### Baseline"
   ]
  },
  {
   "cell_type": "markdown",
   "id": "cb84c0bf",
   "metadata": {},
   "source": [
    "#### CatBoostRegressor"
   ]
  },
  {
   "cell_type": "code",
   "execution_count": 112,
   "id": "8938c560-d2c3-4899-994b-297b568d5fda",
   "metadata": {},
   "outputs": [],
   "source": [
    "#pip install ipywidgets  \n",
    "# визуализация не работает ошибки catboost-widget победить не удалось"
   ]
  },
  {
   "cell_type": "code",
   "execution_count": 113,
   "id": "149e1d68",
   "metadata": {},
   "outputs": [],
   "source": [
    "# !jupyter nbextension enable --py widgetsnbextension"
   ]
  },
  {
   "cell_type": "code",
   "execution_count": 114,
   "id": "b6e908a9",
   "metadata": {},
   "outputs": [
    {
     "data": {
      "application/vnd.jupyter.widget-view+json": {
       "model_id": "4a19a2e0c8dc491f9161b3671f84ac5d",
       "version_major": 2,
       "version_minor": 0
      },
      "text/plain": [
       "MetricVisualizer(layout=Layout(align_self='stretch', height='500px'))"
      ]
     },
     "metadata": {},
     "output_type": "display_data"
    },
    {
     "data": {
      "text/plain": [
       "<catboost.core.CatBoostRegressor at 0x1c3a309ac40>"
      ]
     },
     "execution_count": 114,
     "metadata": {},
     "output_type": "execute_result"
    }
   ],
   "source": [
    "model = CatBoostRegressor(\n",
    "                          random_seed = RANDOM_SEED,\n",
    "                          #silent=True,\n",
    "                         )\n",
    "model.fit(X_train, y_train,\n",
    "         cat_features=cat_features,\n",
    "         #eval_set=(X_test, y_test),\n",
    "         verbose=False,\n",
    "        # use_best_model=True,       \n",
    "         plot=True\n",
    "         )\n"
   ]
  },
  {
   "cell_type": "code",
   "execution_count": 115,
   "id": "7e1cfd14",
   "metadata": {
    "scrolled": true
   },
   "outputs": [
    {
     "name": "stdout",
     "output_type": "stream",
     "text": [
      "Точность модели по метрике MAPE: 40.03%\n"
     ]
    }
   ],
   "source": [
    "# оцениваем точность\n",
    "predict = model.predict(X_test)\n",
    "print(f\"Точность модели по метрике MAPE: {(mape(y_test, predict))*100:0.2f}%\")"
   ]
  },
  {
   "cell_type": "code",
   "execution_count": 116,
   "id": "154dab7d",
   "metadata": {},
   "outputs": [
    {
     "name": "stdout",
     "output_type": "stream",
     "text": [
      "Hello\n"
     ]
    }
   ],
   "source": [
    "print('Hello')"
   ]
  },
  {
   "cell_type": "markdown",
   "id": "a0277e84",
   "metadata": {},
   "source": [
    "###  Прологарифмируем тяжелый хвост целевого признака"
   ]
  },
  {
   "cell_type": "code",
   "execution_count": 117,
   "id": "e933fa69",
   "metadata": {},
   "outputs": [],
   "source": [
    "df['target_log'] = df['target'].swifter.apply(np.log)"
   ]
  },
  {
   "cell_type": "code",
   "execution_count": 118,
   "id": "c28f3f86",
   "metadata": {
    "scrolled": true
   },
   "outputs": [
    {
     "data": {
      "image/png": "[encoded data removed]",
      "text/plain": [
       "<Figure size 640x480 with 1 Axes>"
      ]
     },
     "metadata": {},
     "output_type": "display_data"
    }
   ],
   "source": [
    "#checking the target variables for distribution\n",
    "sns.distplot(df['target_log'])\n",
    "plt.axvline(x=df['target_log'].mean(), linestyle='--', linewidth=2)\n",
    "plt.title('target_log');"
   ]
  },
  {
   "cell_type": "code",
   "execution_count": 119,
   "id": "cfa5f309",
   "metadata": {},
   "outputs": [],
   "source": [
    "y = df['target_log']\n",
    "# Удалим целевые показатели\n",
    "X = df.loc[:, df.columns !='target']\n",
    "X = X.loc[:, X.columns !='target_log'] "
   ]
  },
  {
   "cell_type": "code",
   "execution_count": 120,
   "id": "cc6ac9a3",
   "metadata": {},
   "outputs": [],
   "source": [
    "X_train, X_test, y_train, y_test = train_test_split(X, y, test_size=VAL_SIZE, shuffle=True, random_state=RANDOM_SEED)"
   ]
  },
  {
   "cell_type": "code",
   "execution_count": 121,
   "id": "37b1ba2b",
   "metadata": {},
   "outputs": [
    {
     "data": {
      "application/vnd.jupyter.widget-view+json": {
       "model_id": "48395dfbbfd64e41a42ad30cdc9d80ba",
       "version_major": 2,
       "version_minor": 0
      },
      "text/plain": [
       "MetricVisualizer(layout=Layout(align_self='stretch', height='500px'))"
      ]
     },
     "metadata": {},
     "output_type": "display_data"
    },
    {
     "data": {
      "text/plain": [
       "<catboost.core.CatBoostRegressor at 0x1c3a2d14970>"
      ]
     },
     "execution_count": 121,
     "metadata": {},
     "output_type": "execute_result"
    }
   ],
   "source": [
    "model = CatBoostRegressor(\n",
    "                          random_seed = RANDOM_SEED,\n",
    "                          #silent=True,\n",
    "                         )\n",
    "model.fit(X_train, y_train,\n",
    "         cat_features=cat_features,\n",
    "         #eval_set=(X_test, y_test),\n",
    "         verbose=False,\n",
    "        # use_best_model=True,       \n",
    "         plot=True\n",
    "         )"
   ]
  },
  {
   "cell_type": "code",
   "execution_count": 122,
   "id": "edbe9fa2",
   "metadata": {},
   "outputs": [
    {
     "name": "stdout",
     "output_type": "stream",
     "text": [
      "Точность модели по метрике MAPE: 0.39%\n"
     ]
    }
   ],
   "source": [
    "# оцениваем точность\n",
    "predict = model.predict(X_test)\n",
    "print(f\"Точность модели по метрике MAPE: {(mape(y_test, predict))*100:0.2f}%\")"
   ]
  },
  {
   "cell_type": "markdown",
   "id": "58e25b27",
   "metadata": {},
   "source": [
    "#### Логарифмирование кардинально улучшило точность"
   ]
  },
  {
   "cell_type": "markdown",
   "id": "5de6392f",
   "metadata": {},
   "source": [
    "Может произошла утечка данных? Кажется нет"
   ]
  },
  {
   "cell_type": "code",
   "execution_count": 123,
   "id": "00148d91",
   "metadata": {},
   "outputs": [
    {
     "data": {
      "text/plain": [
       "<Axes: >"
      ]
     },
     "execution_count": 123,
     "metadata": {},
     "output_type": "execute_result"
    },
    {
     "data": {
      "image/png": "[encoded data removed]",
      "text/plain": [
       "<Figure size 640x480 with 2 Axes>"
      ]
     },
     "metadata": {},
     "output_type": "display_data"
    }
   ],
   "source": [
    "sns.heatmap(df[num_features].corr().abs(), vmin=0, vmax=1)"
   ]
  },
  {
   "cell_type": "code",
   "execution_count": null,
   "id": "ea20d092",
   "metadata": {},
   "outputs": [],
   "source": []
  },
  {
   "cell_type": "markdown",
   "id": "0df873d2",
   "metadata": {},
   "source": [
    "### Попробуем другие модели только на числовых показателях"
   ]
  },
  {
   "cell_type": "code",
   "execution_count": 124,
   "id": "c763e91d",
   "metadata": {},
   "outputs": [],
   "source": [
    "XX = df[num_features] #Ограничимся только числовыми показателями, это как показано ниже не ухудшает точность\n",
    "yy = df['target']"
   ]
  },
  {
   "cell_type": "code",
   "execution_count": 125,
   "id": "4ee89032",
   "metadata": {},
   "outputs": [
    {
     "data": {
      "text/plain": [
       "['baths',\n",
       " 'sqft',\n",
       " 'beds',\n",
       " 'stories',\n",
       " 'year_built',\n",
       " 'price/sqft',\n",
       " 'scools_quantity',\n",
       " 'scools_distance',\n",
       " 'scool_rating']"
      ]
     },
     "execution_count": 125,
     "metadata": {},
     "output_type": "execute_result"
    }
   ],
   "source": [
    "num_features"
   ]
  },
  {
   "cell_type": "code",
   "execution_count": 126,
   "id": "24141741",
   "metadata": {},
   "outputs": [],
   "source": [
    "XX_train, XX_test, yy_train, yy_test = train_test_split(XX, yy, test_size=VAL_SIZE, shuffle=True, random_state=RANDOM_SEED)"
   ]
  },
  {
   "cell_type": "code",
   "execution_count": 127,
   "id": "ac5bfa5f",
   "metadata": {},
   "outputs": [],
   "source": [
    "XX_log = df[num_features]\n",
    "yy_log = df['target_log']"
   ]
  },
  {
   "cell_type": "code",
   "execution_count": 128,
   "id": "b770531c",
   "metadata": {},
   "outputs": [],
   "source": [
    "XX_train_log, XX_test_log, yy_train_log, yy_test_log = train_test_split(XX_log, yy_log, \n",
    "                                                test_size=VAL_SIZE, shuffle=True, random_state=RANDOM_SEED)"
   ]
  },
  {
   "cell_type": "code",
   "execution_count": null,
   "id": "4401de51",
   "metadata": {},
   "outputs": [],
   "source": []
  },
  {
   "cell_type": "markdown",
   "id": "9056112b",
   "metadata": {},
   "source": [
    "#### CatBoostRegressor "
   ]
  },
  {
   "cell_type": "code",
   "execution_count": 129,
   "id": "05b17b94",
   "metadata": {},
   "outputs": [
    {
     "data": {
      "application/vnd.jupyter.widget-view+json": {
       "model_id": "5d7a0861bacd474883d66b4afb9ce779",
       "version_major": 2,
       "version_minor": 0
      },
      "text/plain": [
       "MetricVisualizer(layout=Layout(align_self='stretch', height='500px'))"
      ]
     },
     "metadata": {},
     "output_type": "display_data"
    },
    {
     "data": {
      "text/plain": [
       "<catboost.core.CatBoostRegressor at 0x1c3a240f400>"
      ]
     },
     "execution_count": 129,
     "metadata": {},
     "output_type": "execute_result"
    }
   ],
   "source": [
    "model = CatBoostRegressor(\n",
    "                          random_seed = RANDOM_SEED,\n",
    "                          #silent=True,\n",
    "                         )\n",
    "model.fit(XX_train_log, yy_train_log,\n",
    "         #cat_features=cat_features,\n",
    "         #eval_set=(X_test, y_test),\n",
    "         verbose=False,\n",
    "        # use_best_model=True,       \n",
    "         plot=True\n",
    "         )"
   ]
  },
  {
   "cell_type": "code",
   "execution_count": 130,
   "id": "8de7c068",
   "metadata": {},
   "outputs": [
    {
     "name": "stdout",
     "output_type": "stream",
     "text": [
      "Точность модели по метрике MAPE: 0.37%\n"
     ]
    }
   ],
   "source": [
    "# оцениваем точность\n",
    "predict = model.predict(XX_test_log)\n",
    "print(f\"Точность модели по метрике MAPE: {(mape(yy_test_log, predict))*100:0.2f}%\")"
   ]
  },
  {
   "cell_type": "markdown",
   "id": "9110907f",
   "metadata": {},
   "source": [
    "#### GradientBoosting"
   ]
  },
  {
   "cell_type": "code",
   "execution_count": 131,
   "id": "7001a4fd",
   "metadata": {},
   "outputs": [
    {
     "data": {
      "text/html": [
       "<style>#sk-container-id-1 {color: black;background-color: white;}#sk-container-id-1 pre{padding: 0;}#sk-container-id-1 div.sk-toggleable {background-color: white;}#sk-container-id-1 label.sk-toggleable__label {cursor: pointer;display: block;width: 100%;margin-bottom: 0;padding: 0.3em;box-sizing: border-box;text-align: center;}#sk-container-id-1 label.sk-toggleable__label-arrow:before {content: \"▸\";float: left;margin-right: 0.25em;color: #696969;}#sk-container-id-1 label.sk-toggleable__label-arrow:hover:before {color: black;}#sk-container-id-1 div.sk-estimator:hover label.sk-toggleable__label-arrow:before {color: black;}#sk-container-id-1 div.sk-toggleable__content {max-height: 0;max-width: 0;overflow: hidden;text-align: left;background-color: #f0f8ff;}#sk-container-id-1 div.sk-toggleable__content pre {margin: 0.2em;color: black;border-radius: 0.25em;background-color: #f0f8ff;}#sk-container-id-1 input.sk-toggleable__control:checked~div.sk-toggleable__content {max-height: 200px;max-width: 100%;overflow: auto;}#sk-container-id-1 input.sk-toggleable__control:checked~label.sk-toggleable__label-arrow:before {content: \"▾\";}#sk-container-id-1 div.sk-estimator input.sk-toggleable__control:checked~label.sk-toggleable__label {background-color: #d4ebff;}#sk-container-id-1 div.sk-label input.sk-toggleable__control:checked~label.sk-toggleable__label {background-color: #d4ebff;}#sk-container-id-1 input.sk-hidden--visually {border: 0;clip: rect(1px 1px 1px 1px);clip: rect(1px, 1px, 1px, 1px);height: 1px;margin: -1px;overflow: hidden;padding: 0;position: absolute;width: 1px;}#sk-container-id-1 div.sk-estimator {font-family: monospace;background-color: #f0f8ff;border: 1px dotted black;border-radius: 0.25em;box-sizing: border-box;margin-bottom: 0.5em;}#sk-container-id-1 div.sk-estimator:hover {background-color: #d4ebff;}#sk-container-id-1 div.sk-parallel-item::after {content: \"\";width: 100%;border-bottom: 1px solid gray;flex-grow: 1;}#sk-container-id-1 div.sk-label:hover label.sk-toggleable__label {background-color: #d4ebff;}#sk-container-id-1 div.sk-serial::before {content: \"\";position: absolute;border-left: 1px solid gray;box-sizing: border-box;top: 0;bottom: 0;left: 50%;z-index: 0;}#sk-container-id-1 div.sk-serial {display: flex;flex-direction: column;align-items: center;background-color: white;padding-right: 0.2em;padding-left: 0.2em;position: relative;}#sk-container-id-1 div.sk-item {position: relative;z-index: 1;}#sk-container-id-1 div.sk-parallel {display: flex;align-items: stretch;justify-content: center;background-color: white;position: relative;}#sk-container-id-1 div.sk-item::before, #sk-container-id-1 div.sk-parallel-item::before {content: \"\";position: absolute;border-left: 1px solid gray;box-sizing: border-box;top: 0;bottom: 0;left: 50%;z-index: -1;}#sk-container-id-1 div.sk-parallel-item {display: flex;flex-direction: column;z-index: 1;position: relative;background-color: white;}#sk-container-id-1 div.sk-parallel-item:first-child::after {align-self: flex-end;width: 50%;}#sk-container-id-1 div.sk-parallel-item:last-child::after {align-self: flex-start;width: 50%;}#sk-container-id-1 div.sk-parallel-item:only-child::after {width: 0;}#sk-container-id-1 div.sk-dashed-wrapped {border: 1px dashed gray;margin: 0 0.4em 0.5em 0.4em;box-sizing: border-box;padding-bottom: 0.4em;background-color: white;}#sk-container-id-1 div.sk-label label {font-family: monospace;font-weight: bold;display: inline-block;line-height: 1.2em;}#sk-container-id-1 div.sk-label-container {text-align: center;}#sk-container-id-1 div.sk-container {/* jupyter's `normalize.less` sets `[hidden] { display: none; }` but bootstrap.min.css set `[hidden] { display: none !important; }` so we also need the `!important` here to be able to override the default hidden behavior on the sphinx rendered scikit-learn.org. See: https://github.com/scikit-learn/scikit-learn/issues/21755 */display: inline-block !important;position: relative;}#sk-container-id-1 div.sk-text-repr-fallback {display: none;}</style><div id=\"sk-container-id-1\" class=\"sk-top-container\"><div class=\"sk-text-repr-fallback\"><pre>GradientBoostingRegressor(loss=&#x27;ls&#x27;, max_depth=10, n_estimators=900)</pre><b>In a Jupyter environment, please rerun this cell to show the HTML representation or trust the notebook. <br />On GitHub, the HTML representation is unable to render, please try loading this page with nbviewer.org.</b></div><div class=\"sk-container\" hidden><div class=\"sk-item\"><div class=\"sk-estimator sk-toggleable\"><input class=\"sk-toggleable__control sk-hidden--visually\" id=\"sk-estimator-id-1\" type=\"checkbox\" checked><label for=\"sk-estimator-id-1\" class=\"sk-toggleable__label sk-toggleable__label-arrow\">GradientBoostingRegressor</label><div class=\"sk-toggleable__content\"><pre>GradientBoostingRegressor(loss=&#x27;ls&#x27;, max_depth=10, n_estimators=900)</pre></div></div></div></div></div>"
      ],
      "text/plain": [
       "GradientBoostingRegressor(loss='ls', max_depth=10, n_estimators=900)"
      ]
     },
     "execution_count": 131,
     "metadata": {},
     "output_type": "execute_result"
    }
   ],
   "source": [
    "gbr = GradientBoostingRegressor(loss ='ls', max_depth=10, n_estimators = 900)\n",
    "gbr.fit (XX_train, yy_train)"
   ]
  },
  {
   "cell_type": "code",
   "execution_count": 132,
   "id": "2ce91fb5",
   "metadata": {
    "scrolled": true
   },
   "outputs": [
    {
     "name": "stdout",
     "output_type": "stream",
     "text": [
      "Точность модели по метрике MAPE: 25.22%\n"
     ]
    }
   ],
   "source": [
    "pred_gbr = gbr.predict(XX_test)\n",
    "\n",
    "print(f\"Точность модели по метрике MAPE: {(mape(yy_test, pred_gbr))*100:0.2f}%\")"
   ]
  },
  {
   "cell_type": "markdown",
   "id": "df704678",
   "metadata": {},
   "source": [
    "При логарифмировании целевого признака"
   ]
  },
  {
   "cell_type": "code",
   "execution_count": 133,
   "id": "56fc7fba",
   "metadata": {},
   "outputs": [
    {
     "data": {
      "text/html": [
       "<style>#sk-container-id-2 {color: black;background-color: white;}#sk-container-id-2 pre{padding: 0;}#sk-container-id-2 div.sk-toggleable {background-color: white;}#sk-container-id-2 label.sk-toggleable__label {cursor: pointer;display: block;width: 100%;margin-bottom: 0;padding: 0.3em;box-sizing: border-box;text-align: center;}#sk-container-id-2 label.sk-toggleable__label-arrow:before {content: \"▸\";float: left;margin-right: 0.25em;color: #696969;}#sk-container-id-2 label.sk-toggleable__label-arrow:hover:before {color: black;}#sk-container-id-2 div.sk-estimator:hover label.sk-toggleable__label-arrow:before {color: black;}#sk-container-id-2 div.sk-toggleable__content {max-height: 0;max-width: 0;overflow: hidden;text-align: left;background-color: #f0f8ff;}#sk-container-id-2 div.sk-toggleable__content pre {margin: 0.2em;color: black;border-radius: 0.25em;background-color: #f0f8ff;}#sk-container-id-2 input.sk-toggleable__control:checked~div.sk-toggleable__content {max-height: 200px;max-width: 100%;overflow: auto;}#sk-container-id-2 input.sk-toggleable__control:checked~label.sk-toggleable__label-arrow:before {content: \"▾\";}#sk-container-id-2 div.sk-estimator input.sk-toggleable__control:checked~label.sk-toggleable__label {background-color: #d4ebff;}#sk-container-id-2 div.sk-label input.sk-toggleable__control:checked~label.sk-toggleable__label {background-color: #d4ebff;}#sk-container-id-2 input.sk-hidden--visually {border: 0;clip: rect(1px 1px 1px 1px);clip: rect(1px, 1px, 1px, 1px);height: 1px;margin: -1px;overflow: hidden;padding: 0;position: absolute;width: 1px;}#sk-container-id-2 div.sk-estimator {font-family: monospace;background-color: #f0f8ff;border: 1px dotted black;border-radius: 0.25em;box-sizing: border-box;margin-bottom: 0.5em;}#sk-container-id-2 div.sk-estimator:hover {background-color: #d4ebff;}#sk-container-id-2 div.sk-parallel-item::after {content: \"\";width: 100%;border-bottom: 1px solid gray;flex-grow: 1;}#sk-container-id-2 div.sk-label:hover label.sk-toggleable__label {background-color: #d4ebff;}#sk-container-id-2 div.sk-serial::before {content: \"\";position: absolute;border-left: 1px solid gray;box-sizing: border-box;top: 0;bottom: 0;left: 50%;z-index: 0;}#sk-container-id-2 div.sk-serial {display: flex;flex-direction: column;align-items: center;background-color: white;padding-right: 0.2em;padding-left: 0.2em;position: relative;}#sk-container-id-2 div.sk-item {position: relative;z-index: 1;}#sk-container-id-2 div.sk-parallel {display: flex;align-items: stretch;justify-content: center;background-color: white;position: relative;}#sk-container-id-2 div.sk-item::before, #sk-container-id-2 div.sk-parallel-item::before {content: \"\";position: absolute;border-left: 1px solid gray;box-sizing: border-box;top: 0;bottom: 0;left: 50%;z-index: -1;}#sk-container-id-2 div.sk-parallel-item {display: flex;flex-direction: column;z-index: 1;position: relative;background-color: white;}#sk-container-id-2 div.sk-parallel-item:first-child::after {align-self: flex-end;width: 50%;}#sk-container-id-2 div.sk-parallel-item:last-child::after {align-self: flex-start;width: 50%;}#sk-container-id-2 div.sk-parallel-item:only-child::after {width: 0;}#sk-container-id-2 div.sk-dashed-wrapped {border: 1px dashed gray;margin: 0 0.4em 0.5em 0.4em;box-sizing: border-box;padding-bottom: 0.4em;background-color: white;}#sk-container-id-2 div.sk-label label {font-family: monospace;font-weight: bold;display: inline-block;line-height: 1.2em;}#sk-container-id-2 div.sk-label-container {text-align: center;}#sk-container-id-2 div.sk-container {/* jupyter's `normalize.less` sets `[hidden] { display: none; }` but bootstrap.min.css set `[hidden] { display: none !important; }` so we also need the `!important` here to be able to override the default hidden behavior on the sphinx rendered scikit-learn.org. See: https://github.com/scikit-learn/scikit-learn/issues/21755 */display: inline-block !important;position: relative;}#sk-container-id-2 div.sk-text-repr-fallback {display: none;}</style><div id=\"sk-container-id-2\" class=\"sk-top-container\"><div class=\"sk-text-repr-fallback\"><pre>GradientBoostingRegressor(loss=&#x27;ls&#x27;, max_depth=10, n_estimators=900)</pre><b>In a Jupyter environment, please rerun this cell to show the HTML representation or trust the notebook. <br />On GitHub, the HTML representation is unable to render, please try loading this page with nbviewer.org.</b></div><div class=\"sk-container\" hidden><div class=\"sk-item\"><div class=\"sk-estimator sk-toggleable\"><input class=\"sk-toggleable__control sk-hidden--visually\" id=\"sk-estimator-id-2\" type=\"checkbox\" checked><label for=\"sk-estimator-id-2\" class=\"sk-toggleable__label sk-toggleable__label-arrow\">GradientBoostingRegressor</label><div class=\"sk-toggleable__content\"><pre>GradientBoostingRegressor(loss=&#x27;ls&#x27;, max_depth=10, n_estimators=900)</pre></div></div></div></div></div>"
      ],
      "text/plain": [
       "GradientBoostingRegressor(loss='ls', max_depth=10, n_estimators=900)"
      ]
     },
     "execution_count": 133,
     "metadata": {},
     "output_type": "execute_result"
    }
   ],
   "source": [
    "gbr = GradientBoostingRegressor(loss ='ls', max_depth=10, n_estimators = 900)\n",
    "gbr.fit (XX_train_log, yy_train_log)"
   ]
  },
  {
   "cell_type": "code",
   "execution_count": 134,
   "id": "fc7bc559",
   "metadata": {
    "scrolled": true
   },
   "outputs": [
    {
     "name": "stdout",
     "output_type": "stream",
     "text": [
      "Точность модели по метрике MAPE: 0.28%\n"
     ]
    }
   ],
   "source": [
    "pred_gbr = gbr.predict(XX_test_log)\n",
    "\n",
    "print(f\"Точность модели по метрике MAPE: {(mape(yy_test_log, pred_gbr))*100:0.2f}%\")"
   ]
  },
  {
   "cell_type": "markdown",
   "id": "00182621",
   "metadata": {},
   "source": [
    "#### Random Forest"
   ]
  },
  {
   "cell_type": "code",
   "execution_count": 135,
   "id": "ee32f989",
   "metadata": {},
   "outputs": [
    {
     "name": "stderr",
     "output_type": "stream",
     "text": [
      "[Parallel(n_jobs=-1)]: Using backend ThreadingBackend with 20 concurrent workers.\n",
      "[Parallel(n_jobs=-1)]: Done  10 tasks      | elapsed:    0.7s\n",
      "[Parallel(n_jobs=-1)]: Done 160 tasks      | elapsed:    5.2s\n",
      "[Parallel(n_jobs=-1)]: Done 300 out of 300 | elapsed:    9.1s finished\n"
     ]
    },
    {
     "data": {
      "text/html": [
       "<style>#sk-container-id-3 {color: black;background-color: white;}#sk-container-id-3 pre{padding: 0;}#sk-container-id-3 div.sk-toggleable {background-color: white;}#sk-container-id-3 label.sk-toggleable__label {cursor: pointer;display: block;width: 100%;margin-bottom: 0;padding: 0.3em;box-sizing: border-box;text-align: center;}#sk-container-id-3 label.sk-toggleable__label-arrow:before {content: \"▸\";float: left;margin-right: 0.25em;color: #696969;}#sk-container-id-3 label.sk-toggleable__label-arrow:hover:before {color: black;}#sk-container-id-3 div.sk-estimator:hover label.sk-toggleable__label-arrow:before {color: black;}#sk-container-id-3 div.sk-toggleable__content {max-height: 0;max-width: 0;overflow: hidden;text-align: left;background-color: #f0f8ff;}#sk-container-id-3 div.sk-toggleable__content pre {margin: 0.2em;color: black;border-radius: 0.25em;background-color: #f0f8ff;}#sk-container-id-3 input.sk-toggleable__control:checked~div.sk-toggleable__content {max-height: 200px;max-width: 100%;overflow: auto;}#sk-container-id-3 input.sk-toggleable__control:checked~label.sk-toggleable__label-arrow:before {content: \"▾\";}#sk-container-id-3 div.sk-estimator input.sk-toggleable__control:checked~label.sk-toggleable__label {background-color: #d4ebff;}#sk-container-id-3 div.sk-label input.sk-toggleable__control:checked~label.sk-toggleable__label {background-color: #d4ebff;}#sk-container-id-3 input.sk-hidden--visually {border: 0;clip: rect(1px 1px 1px 1px);clip: rect(1px, 1px, 1px, 1px);height: 1px;margin: -1px;overflow: hidden;padding: 0;position: absolute;width: 1px;}#sk-container-id-3 div.sk-estimator {font-family: monospace;background-color: #f0f8ff;border: 1px dotted black;border-radius: 0.25em;box-sizing: border-box;margin-bottom: 0.5em;}#sk-container-id-3 div.sk-estimator:hover {background-color: #d4ebff;}#sk-container-id-3 div.sk-parallel-item::after {content: \"\";width: 100%;border-bottom: 1px solid gray;flex-grow: 1;}#sk-container-id-3 div.sk-label:hover label.sk-toggleable__label {background-color: #d4ebff;}#sk-container-id-3 div.sk-serial::before {content: \"\";position: absolute;border-left: 1px solid gray;box-sizing: border-box;top: 0;bottom: 0;left: 50%;z-index: 0;}#sk-container-id-3 div.sk-serial {display: flex;flex-direction: column;align-items: center;background-color: white;padding-right: 0.2em;padding-left: 0.2em;position: relative;}#sk-container-id-3 div.sk-item {position: relative;z-index: 1;}#sk-container-id-3 div.sk-parallel {display: flex;align-items: stretch;justify-content: center;background-color: white;position: relative;}#sk-container-id-3 div.sk-item::before, #sk-container-id-3 div.sk-parallel-item::before {content: \"\";position: absolute;border-left: 1px solid gray;box-sizing: border-box;top: 0;bottom: 0;left: 50%;z-index: -1;}#sk-container-id-3 div.sk-parallel-item {display: flex;flex-direction: column;z-index: 1;position: relative;background-color: white;}#sk-container-id-3 div.sk-parallel-item:first-child::after {align-self: flex-end;width: 50%;}#sk-container-id-3 div.sk-parallel-item:last-child::after {align-self: flex-start;width: 50%;}#sk-container-id-3 div.sk-parallel-item:only-child::after {width: 0;}#sk-container-id-3 div.sk-dashed-wrapped {border: 1px dashed gray;margin: 0 0.4em 0.5em 0.4em;box-sizing: border-box;padding-bottom: 0.4em;background-color: white;}#sk-container-id-3 div.sk-label label {font-family: monospace;font-weight: bold;display: inline-block;line-height: 1.2em;}#sk-container-id-3 div.sk-label-container {text-align: center;}#sk-container-id-3 div.sk-container {/* jupyter's `normalize.less` sets `[hidden] { display: none; }` but bootstrap.min.css set `[hidden] { display: none !important; }` so we also need the `!important` here to be able to override the default hidden behavior on the sphinx rendered scikit-learn.org. See: https://github.com/scikit-learn/scikit-learn/issues/21755 */display: inline-block !important;position: relative;}#sk-container-id-3 div.sk-text-repr-fallback {display: none;}</style><div id=\"sk-container-id-3\" class=\"sk-top-container\"><div class=\"sk-text-repr-fallback\"><pre>ExtraTreesRegressor(bootstrap=True, n_estimators=300, n_jobs=-1,\n",
       "                    random_state=42, verbose=1)</pre><b>In a Jupyter environment, please rerun this cell to show the HTML representation or trust the notebook. <br />On GitHub, the HTML representation is unable to render, please try loading this page with nbviewer.org.</b></div><div class=\"sk-container\" hidden><div class=\"sk-item\"><div class=\"sk-estimator sk-toggleable\"><input class=\"sk-toggleable__control sk-hidden--visually\" id=\"sk-estimator-id-3\" type=\"checkbox\" checked><label for=\"sk-estimator-id-3\" class=\"sk-toggleable__label sk-toggleable__label-arrow\">ExtraTreesRegressor</label><div class=\"sk-toggleable__content\"><pre>ExtraTreesRegressor(bootstrap=True, n_estimators=300, n_jobs=-1,\n",
       "                    random_state=42, verbose=1)</pre></div></div></div></div></div>"
      ],
      "text/plain": [
       "ExtraTreesRegressor(bootstrap=True, n_estimators=300, n_jobs=-1,\n",
       "                    random_state=42, verbose=1)"
      ]
     },
     "execution_count": 135,
     "metadata": {},
     "output_type": "execute_result"
    }
   ],
   "source": [
    "rf = ExtraTreesRegressor(n_estimators=300, random_state=RANDOM_SEED, n_jobs=-1,\n",
    "                         bootstrap=True, verbose=1)\n",
    "rf.fit(XX_train, yy_train)"
   ]
  },
  {
   "cell_type": "code",
   "execution_count": 136,
   "id": "9ee95d19",
   "metadata": {},
   "outputs": [
    {
     "name": "stderr",
     "output_type": "stream",
     "text": [
      "[Parallel(n_jobs=20)]: Using backend ThreadingBackend with 20 concurrent workers.\n",
      "[Parallel(n_jobs=20)]: Done  10 tasks      | elapsed:    0.0s\n",
      "[Parallel(n_jobs=20)]: Done 160 tasks      | elapsed:    0.3s\n",
      "[Parallel(n_jobs=20)]: Done 300 out of 300 | elapsed:    0.6s finished\n"
     ]
    }
   ],
   "source": [
    "pred_rf = rf.predict(XX_test)\n"
   ]
  },
  {
   "cell_type": "code",
   "execution_count": 137,
   "id": "b08e5847",
   "metadata": {},
   "outputs": [
    {
     "name": "stdout",
     "output_type": "stream",
     "text": [
      "Точность модели по метрике MAPE: 21.83%\n"
     ]
    }
   ],
   "source": [
    "\n",
    "print(f\"Точность модели по метрике MAPE: {(mape(yy_test, pred_rf))*100:0.2f}%\")\n",
    "#print(f'Mean Absolute Percentage Error: {MAPE}')"
   ]
  },
  {
   "cell_type": "markdown",
   "id": "2f296b13",
   "metadata": {},
   "source": [
    "При логарифмировании целевого признака"
   ]
  },
  {
   "cell_type": "code",
   "execution_count": 138,
   "id": "56e4045f",
   "metadata": {},
   "outputs": [
    {
     "name": "stderr",
     "output_type": "stream",
     "text": [
      "[Parallel(n_jobs=-1)]: Using backend ThreadingBackend with 20 concurrent workers.\n",
      "[Parallel(n_jobs=-1)]: Done  10 tasks      | elapsed:    0.4s\n",
      "[Parallel(n_jobs=-1)]: Done 160 tasks      | elapsed:    4.8s\n",
      "[Parallel(n_jobs=-1)]: Done 300 out of 300 | elapsed:    8.7s finished\n"
     ]
    },
    {
     "data": {
      "text/html": [
       "<style>#sk-container-id-4 {color: black;background-color: white;}#sk-container-id-4 pre{padding: 0;}#sk-container-id-4 div.sk-toggleable {background-color: white;}#sk-container-id-4 label.sk-toggleable__label {cursor: pointer;display: block;width: 100%;margin-bottom: 0;padding: 0.3em;box-sizing: border-box;text-align: center;}#sk-container-id-4 label.sk-toggleable__label-arrow:before {content: \"▸\";float: left;margin-right: 0.25em;color: #696969;}#sk-container-id-4 label.sk-toggleable__label-arrow:hover:before {color: black;}#sk-container-id-4 div.sk-estimator:hover label.sk-toggleable__label-arrow:before {color: black;}#sk-container-id-4 div.sk-toggleable__content {max-height: 0;max-width: 0;overflow: hidden;text-align: left;background-color: #f0f8ff;}#sk-container-id-4 div.sk-toggleable__content pre {margin: 0.2em;color: black;border-radius: 0.25em;background-color: #f0f8ff;}#sk-container-id-4 input.sk-toggleable__control:checked~div.sk-toggleable__content {max-height: 200px;max-width: 100%;overflow: auto;}#sk-container-id-4 input.sk-toggleable__control:checked~label.sk-toggleable__label-arrow:before {content: \"▾\";}#sk-container-id-4 div.sk-estimator input.sk-toggleable__control:checked~label.sk-toggleable__label {background-color: #d4ebff;}#sk-container-id-4 div.sk-label input.sk-toggleable__control:checked~label.sk-toggleable__label {background-color: #d4ebff;}#sk-container-id-4 input.sk-hidden--visually {border: 0;clip: rect(1px 1px 1px 1px);clip: rect(1px, 1px, 1px, 1px);height: 1px;margin: -1px;overflow: hidden;padding: 0;position: absolute;width: 1px;}#sk-container-id-4 div.sk-estimator {font-family: monospace;background-color: #f0f8ff;border: 1px dotted black;border-radius: 0.25em;box-sizing: border-box;margin-bottom: 0.5em;}#sk-container-id-4 div.sk-estimator:hover {background-color: #d4ebff;}#sk-container-id-4 div.sk-parallel-item::after {content: \"\";width: 100%;border-bottom: 1px solid gray;flex-grow: 1;}#sk-container-id-4 div.sk-label:hover label.sk-toggleable__label {background-color: #d4ebff;}#sk-container-id-4 div.sk-serial::before {content: \"\";position: absolute;border-left: 1px solid gray;box-sizing: border-box;top: 0;bottom: 0;left: 50%;z-index: 0;}#sk-container-id-4 div.sk-serial {display: flex;flex-direction: column;align-items: center;background-color: white;padding-right: 0.2em;padding-left: 0.2em;position: relative;}#sk-container-id-4 div.sk-item {position: relative;z-index: 1;}#sk-container-id-4 div.sk-parallel {display: flex;align-items: stretch;justify-content: center;background-color: white;position: relative;}#sk-container-id-4 div.sk-item::before, #sk-container-id-4 div.sk-parallel-item::before {content: \"\";position: absolute;border-left: 1px solid gray;box-sizing: border-box;top: 0;bottom: 0;left: 50%;z-index: -1;}#sk-container-id-4 div.sk-parallel-item {display: flex;flex-direction: column;z-index: 1;position: relative;background-color: white;}#sk-container-id-4 div.sk-parallel-item:first-child::after {align-self: flex-end;width: 50%;}#sk-container-id-4 div.sk-parallel-item:last-child::after {align-self: flex-start;width: 50%;}#sk-container-id-4 div.sk-parallel-item:only-child::after {width: 0;}#sk-container-id-4 div.sk-dashed-wrapped {border: 1px dashed gray;margin: 0 0.4em 0.5em 0.4em;box-sizing: border-box;padding-bottom: 0.4em;background-color: white;}#sk-container-id-4 div.sk-label label {font-family: monospace;font-weight: bold;display: inline-block;line-height: 1.2em;}#sk-container-id-4 div.sk-label-container {text-align: center;}#sk-container-id-4 div.sk-container {/* jupyter's `normalize.less` sets `[hidden] { display: none; }` but bootstrap.min.css set `[hidden] { display: none !important; }` so we also need the `!important` here to be able to override the default hidden behavior on the sphinx rendered scikit-learn.org. See: https://github.com/scikit-learn/scikit-learn/issues/21755 */display: inline-block !important;position: relative;}#sk-container-id-4 div.sk-text-repr-fallback {display: none;}</style><div id=\"sk-container-id-4\" class=\"sk-top-container\"><div class=\"sk-text-repr-fallback\"><pre>ExtraTreesRegressor(bootstrap=True, n_estimators=300, n_jobs=-1,\n",
       "                    random_state=42, verbose=1)</pre><b>In a Jupyter environment, please rerun this cell to show the HTML representation or trust the notebook. <br />On GitHub, the HTML representation is unable to render, please try loading this page with nbviewer.org.</b></div><div class=\"sk-container\" hidden><div class=\"sk-item\"><div class=\"sk-estimator sk-toggleable\"><input class=\"sk-toggleable__control sk-hidden--visually\" id=\"sk-estimator-id-4\" type=\"checkbox\" checked><label for=\"sk-estimator-id-4\" class=\"sk-toggleable__label sk-toggleable__label-arrow\">ExtraTreesRegressor</label><div class=\"sk-toggleable__content\"><pre>ExtraTreesRegressor(bootstrap=True, n_estimators=300, n_jobs=-1,\n",
       "                    random_state=42, verbose=1)</pre></div></div></div></div></div>"
      ],
      "text/plain": [
       "ExtraTreesRegressor(bootstrap=True, n_estimators=300, n_jobs=-1,\n",
       "                    random_state=42, verbose=1)"
      ]
     },
     "execution_count": 138,
     "metadata": {},
     "output_type": "execute_result"
    }
   ],
   "source": [
    "rf = ExtraTreesRegressor(n_estimators=300, random_state=RANDOM_SEED, n_jobs=-1,\n",
    "                         bootstrap=True, verbose=1)\n",
    "rf.fit(XX_train_log, yy_train_log)"
   ]
  },
  {
   "cell_type": "code",
   "execution_count": 139,
   "id": "23db6ec0",
   "metadata": {},
   "outputs": [
    {
     "name": "stderr",
     "output_type": "stream",
     "text": [
      "[Parallel(n_jobs=20)]: Using backend ThreadingBackend with 20 concurrent workers.\n",
      "[Parallel(n_jobs=20)]: Done  10 tasks      | elapsed:    0.0s\n",
      "[Parallel(n_jobs=20)]: Done 160 tasks      | elapsed:    0.3s\n",
      "[Parallel(n_jobs=20)]: Done 300 out of 300 | elapsed:    0.6s finished\n"
     ]
    }
   ],
   "source": [
    "pred_rf = rf.predict(XX_test_log)"
   ]
  },
  {
   "cell_type": "code",
   "execution_count": 140,
   "id": "75ccb98e",
   "metadata": {},
   "outputs": [
    {
     "name": "stdout",
     "output_type": "stream",
     "text": [
      "Точность модели по метрике MAPE: 0.65%\n"
     ]
    }
   ],
   "source": [
    "print(f\"Точность модели по метрике MAPE: {(mape(yy_test_log, pred_rf))*100:0.2f}%\")\n",
    "#print(f'Mean Absolute Percentage Error: {MAPE}')"
   ]
  },
  {
   "cell_type": "markdown",
   "id": "2c40cc33",
   "metadata": {},
   "source": [
    "#### XGBRegressor"
   ]
  },
  {
   "cell_type": "code",
   "execution_count": 141,
   "id": "bf1151c0",
   "metadata": {},
   "outputs": [
    {
     "data": {
      "text/html": [
       "<style>#sk-container-id-5 {color: black;background-color: white;}#sk-container-id-5 pre{padding: 0;}#sk-container-id-5 div.sk-toggleable {background-color: white;}#sk-container-id-5 label.sk-toggleable__label {cursor: pointer;display: block;width: 100%;margin-bottom: 0;padding: 0.3em;box-sizing: border-box;text-align: center;}#sk-container-id-5 label.sk-toggleable__label-arrow:before {content: \"▸\";float: left;margin-right: 0.25em;color: #696969;}#sk-container-id-5 label.sk-toggleable__label-arrow:hover:before {color: black;}#sk-container-id-5 div.sk-estimator:hover label.sk-toggleable__label-arrow:before {color: black;}#sk-container-id-5 div.sk-toggleable__content {max-height: 0;max-width: 0;overflow: hidden;text-align: left;background-color: #f0f8ff;}#sk-container-id-5 div.sk-toggleable__content pre {margin: 0.2em;color: black;border-radius: 0.25em;background-color: #f0f8ff;}#sk-container-id-5 input.sk-toggleable__control:checked~div.sk-toggleable__content {max-height: 200px;max-width: 100%;overflow: auto;}#sk-container-id-5 input.sk-toggleable__control:checked~label.sk-toggleable__label-arrow:before {content: \"▾\";}#sk-container-id-5 div.sk-estimator input.sk-toggleable__control:checked~label.sk-toggleable__label {background-color: #d4ebff;}#sk-container-id-5 div.sk-label input.sk-toggleable__control:checked~label.sk-toggleable__label {background-color: #d4ebff;}#sk-container-id-5 input.sk-hidden--visually {border: 0;clip: rect(1px 1px 1px 1px);clip: rect(1px, 1px, 1px, 1px);height: 1px;margin: -1px;overflow: hidden;padding: 0;position: absolute;width: 1px;}#sk-container-id-5 div.sk-estimator {font-family: monospace;background-color: #f0f8ff;border: 1px dotted black;border-radius: 0.25em;box-sizing: border-box;margin-bottom: 0.5em;}#sk-container-id-5 div.sk-estimator:hover {background-color: #d4ebff;}#sk-container-id-5 div.sk-parallel-item::after {content: \"\";width: 100%;border-bottom: 1px solid gray;flex-grow: 1;}#sk-container-id-5 div.sk-label:hover label.sk-toggleable__label {background-color: #d4ebff;}#sk-container-id-5 div.sk-serial::before {content: \"\";position: absolute;border-left: 1px solid gray;box-sizing: border-box;top: 0;bottom: 0;left: 50%;z-index: 0;}#sk-container-id-5 div.sk-serial {display: flex;flex-direction: column;align-items: center;background-color: white;padding-right: 0.2em;padding-left: 0.2em;position: relative;}#sk-container-id-5 div.sk-item {position: relative;z-index: 1;}#sk-container-id-5 div.sk-parallel {display: flex;align-items: stretch;justify-content: center;background-color: white;position: relative;}#sk-container-id-5 div.sk-item::before, #sk-container-id-5 div.sk-parallel-item::before {content: \"\";position: absolute;border-left: 1px solid gray;box-sizing: border-box;top: 0;bottom: 0;left: 50%;z-index: -1;}#sk-container-id-5 div.sk-parallel-item {display: flex;flex-direction: column;z-index: 1;position: relative;background-color: white;}#sk-container-id-5 div.sk-parallel-item:first-child::after {align-self: flex-end;width: 50%;}#sk-container-id-5 div.sk-parallel-item:last-child::after {align-self: flex-start;width: 50%;}#sk-container-id-5 div.sk-parallel-item:only-child::after {width: 0;}#sk-container-id-5 div.sk-dashed-wrapped {border: 1px dashed gray;margin: 0 0.4em 0.5em 0.4em;box-sizing: border-box;padding-bottom: 0.4em;background-color: white;}#sk-container-id-5 div.sk-label label {font-family: monospace;font-weight: bold;display: inline-block;line-height: 1.2em;}#sk-container-id-5 div.sk-label-container {text-align: center;}#sk-container-id-5 div.sk-container {/* jupyter's `normalize.less` sets `[hidden] { display: none; }` but bootstrap.min.css set `[hidden] { display: none !important; }` so we also need the `!important` here to be able to override the default hidden behavior on the sphinx rendered scikit-learn.org. See: https://github.com/scikit-learn/scikit-learn/issues/21755 */display: inline-block !important;position: relative;}#sk-container-id-5 div.sk-text-repr-fallback {display: none;}</style><div id=\"sk-container-id-5\" class=\"sk-top-container\"><div class=\"sk-text-repr-fallback\"><pre>XGBRegressor(base_score=0.5, booster=&#x27;gbtree&#x27;, colsample_bylevel=1,\n",
       "             colsample_bynode=1, colsample_bytree=0.7, enable_categorical=False,\n",
       "             gamma=0, gpu_id=-1, importance_type=None,\n",
       "             interaction_constraints=&#x27;&#x27;, learning_rate=0.03, max_delta_step=0,\n",
       "             max_depth=12, min_child_weight=4, missing=nan,\n",
       "             monotone_constraints=&#x27;()&#x27;, n_estimators=500, n_jobs=4, nthread=4,\n",
       "             num_parallel_tree=1, predictor=&#x27;auto&#x27;, random_state=0, reg_alpha=0,\n",
       "             reg_lambda=1, scale_pos_weight=1, subsample=0.7,\n",
       "             tree_method=&#x27;exact&#x27;, validate_parameters=1, verbosity=None)</pre><b>In a Jupyter environment, please rerun this cell to show the HTML representation or trust the notebook. <br />On GitHub, the HTML representation is unable to render, please try loading this page with nbviewer.org.</b></div><div class=\"sk-container\" hidden><div class=\"sk-item\"><div class=\"sk-estimator sk-toggleable\"><input class=\"sk-toggleable__control sk-hidden--visually\" id=\"sk-estimator-id-5\" type=\"checkbox\" checked><label for=\"sk-estimator-id-5\" class=\"sk-toggleable__label sk-toggleable__label-arrow\">XGBRegressor</label><div class=\"sk-toggleable__content\"><pre>XGBRegressor(base_score=0.5, booster=&#x27;gbtree&#x27;, colsample_bylevel=1,\n",
       "             colsample_bynode=1, colsample_bytree=0.7, enable_categorical=False,\n",
       "             gamma=0, gpu_id=-1, importance_type=None,\n",
       "             interaction_constraints=&#x27;&#x27;, learning_rate=0.03, max_delta_step=0,\n",
       "             max_depth=12, min_child_weight=4, missing=nan,\n",
       "             monotone_constraints=&#x27;()&#x27;, n_estimators=500, n_jobs=4, nthread=4,\n",
       "             num_parallel_tree=1, predictor=&#x27;auto&#x27;, random_state=0, reg_alpha=0,\n",
       "             reg_lambda=1, scale_pos_weight=1, subsample=0.7,\n",
       "             tree_method=&#x27;exact&#x27;, validate_parameters=1, verbosity=None)</pre></div></div></div></div></div>"
      ],
      "text/plain": [
       "XGBRegressor(base_score=0.5, booster='gbtree', colsample_bylevel=1,\n",
       "             colsample_bynode=1, colsample_bytree=0.7, enable_categorical=False,\n",
       "             gamma=0, gpu_id=-1, importance_type=None,\n",
       "             interaction_constraints='', learning_rate=0.03, max_delta_step=0,\n",
       "             max_depth=12, min_child_weight=4, missing=nan,\n",
       "             monotone_constraints='()', n_estimators=500, n_jobs=4, nthread=4,\n",
       "             num_parallel_tree=1, predictor='auto', random_state=0, reg_alpha=0,\n",
       "             reg_lambda=1, scale_pos_weight=1, subsample=0.7,\n",
       "             tree_method='exact', validate_parameters=1, verbosity=None)"
      ]
     },
     "execution_count": 141,
     "metadata": {},
     "output_type": "execute_result"
    }
   ],
   "source": [
    "xg_reg = xgb.XGBRegressor ( colsample_bytree= 0.7, \n",
    "                            learning_rate= 0.03, \n",
    "                            max_depth= 12, \n",
    "                            min_child_weight = 4, \n",
    "                            n_estimators = 500, \n",
    "                            nthread = 4, \n",
    "                            \n",
    "                            subsample = 0.7)\n",
    "\n",
    "#(objective='reg:squarederror', colsample_bytree=0.5,\n",
    "#                          learning_rate=0.05, max_depth=12, alpha=1,\n",
    "#                          n_estimators=1000)\n",
    "xg_reg.fit(XX_train, yy_train)"
   ]
  },
  {
   "cell_type": "code",
   "execution_count": 142,
   "id": "c126e508",
   "metadata": {},
   "outputs": [
    {
     "name": "stdout",
     "output_type": "stream",
     "text": [
      "Точность модели по метрике MAPE: 41.83%\n"
     ]
    }
   ],
   "source": [
    "predict_xg_reg = xg_reg.predict(XX_test)\n",
    "print(f\"Точность модели по метрике MAPE: {(mape(yy_test, predict_xg_reg))*100:0.2f}%\")"
   ]
  },
  {
   "cell_type": "markdown",
   "id": "0c8b2580",
   "metadata": {},
   "source": [
    "При логарифмировании целевого признака"
   ]
  },
  {
   "cell_type": "code",
   "execution_count": 143,
   "id": "f926bb3b",
   "metadata": {},
   "outputs": [
    {
     "data": {
      "text/html": [
       "<style>#sk-container-id-6 {color: black;background-color: white;}#sk-container-id-6 pre{padding: 0;}#sk-container-id-6 div.sk-toggleable {background-color: white;}#sk-container-id-6 label.sk-toggleable__label {cursor: pointer;display: block;width: 100%;margin-bottom: 0;padding: 0.3em;box-sizing: border-box;text-align: center;}#sk-container-id-6 label.sk-toggleable__label-arrow:before {content: \"▸\";float: left;margin-right: 0.25em;color: #696969;}#sk-container-id-6 label.sk-toggleable__label-arrow:hover:before {color: black;}#sk-container-id-6 div.sk-estimator:hover label.sk-toggleable__label-arrow:before {color: black;}#sk-container-id-6 div.sk-toggleable__content {max-height: 0;max-width: 0;overflow: hidden;text-align: left;background-color: #f0f8ff;}#sk-container-id-6 div.sk-toggleable__content pre {margin: 0.2em;color: black;border-radius: 0.25em;background-color: #f0f8ff;}#sk-container-id-6 input.sk-toggleable__control:checked~div.sk-toggleable__content {max-height: 200px;max-width: 100%;overflow: auto;}#sk-container-id-6 input.sk-toggleable__control:checked~label.sk-toggleable__label-arrow:before {content: \"▾\";}#sk-container-id-6 div.sk-estimator input.sk-toggleable__control:checked~label.sk-toggleable__label {background-color: #d4ebff;}#sk-container-id-6 div.sk-label input.sk-toggleable__control:checked~label.sk-toggleable__label {background-color: #d4ebff;}#sk-container-id-6 input.sk-hidden--visually {border: 0;clip: rect(1px 1px 1px 1px);clip: rect(1px, 1px, 1px, 1px);height: 1px;margin: -1px;overflow: hidden;padding: 0;position: absolute;width: 1px;}#sk-container-id-6 div.sk-estimator {font-family: monospace;background-color: #f0f8ff;border: 1px dotted black;border-radius: 0.25em;box-sizing: border-box;margin-bottom: 0.5em;}#sk-container-id-6 div.sk-estimator:hover {background-color: #d4ebff;}#sk-container-id-6 div.sk-parallel-item::after {content: \"\";width: 100%;border-bottom: 1px solid gray;flex-grow: 1;}#sk-container-id-6 div.sk-label:hover label.sk-toggleable__label {background-color: #d4ebff;}#sk-container-id-6 div.sk-serial::before {content: \"\";position: absolute;border-left: 1px solid gray;box-sizing: border-box;top: 0;bottom: 0;left: 50%;z-index: 0;}#sk-container-id-6 div.sk-serial {display: flex;flex-direction: column;align-items: center;background-color: white;padding-right: 0.2em;padding-left: 0.2em;position: relative;}#sk-container-id-6 div.sk-item {position: relative;z-index: 1;}#sk-container-id-6 div.sk-parallel {display: flex;align-items: stretch;justify-content: center;background-color: white;position: relative;}#sk-container-id-6 div.sk-item::before, #sk-container-id-6 div.sk-parallel-item::before {content: \"\";position: absolute;border-left: 1px solid gray;box-sizing: border-box;top: 0;bottom: 0;left: 50%;z-index: -1;}#sk-container-id-6 div.sk-parallel-item {display: flex;flex-direction: column;z-index: 1;position: relative;background-color: white;}#sk-container-id-6 div.sk-parallel-item:first-child::after {align-self: flex-end;width: 50%;}#sk-container-id-6 div.sk-parallel-item:last-child::after {align-self: flex-start;width: 50%;}#sk-container-id-6 div.sk-parallel-item:only-child::after {width: 0;}#sk-container-id-6 div.sk-dashed-wrapped {border: 1px dashed gray;margin: 0 0.4em 0.5em 0.4em;box-sizing: border-box;padding-bottom: 0.4em;background-color: white;}#sk-container-id-6 div.sk-label label {font-family: monospace;font-weight: bold;display: inline-block;line-height: 1.2em;}#sk-container-id-6 div.sk-label-container {text-align: center;}#sk-container-id-6 div.sk-container {/* jupyter's `normalize.less` sets `[hidden] { display: none; }` but bootstrap.min.css set `[hidden] { display: none !important; }` so we also need the `!important` here to be able to override the default hidden behavior on the sphinx rendered scikit-learn.org. See: https://github.com/scikit-learn/scikit-learn/issues/21755 */display: inline-block !important;position: relative;}#sk-container-id-6 div.sk-text-repr-fallback {display: none;}</style><div id=\"sk-container-id-6\" class=\"sk-top-container\"><div class=\"sk-text-repr-fallback\"><pre>XGBRegressor(base_score=0.5, booster=&#x27;gbtree&#x27;, colsample_bylevel=1,\n",
       "             colsample_bynode=1, colsample_bytree=0.7, enable_categorical=False,\n",
       "             gamma=0, gpu_id=-1, importance_type=None,\n",
       "             interaction_constraints=&#x27;&#x27;, learning_rate=0.03, max_delta_step=0,\n",
       "             max_depth=12, min_child_weight=4, missing=nan,\n",
       "             monotone_constraints=&#x27;()&#x27;, n_estimators=500, n_jobs=4, nthread=4,\n",
       "             num_parallel_tree=1, predictor=&#x27;auto&#x27;, random_state=0, reg_alpha=0,\n",
       "             reg_lambda=1, scale_pos_weight=1, subsample=0.7,\n",
       "             tree_method=&#x27;exact&#x27;, validate_parameters=1, verbosity=None)</pre><b>In a Jupyter environment, please rerun this cell to show the HTML representation or trust the notebook. <br />On GitHub, the HTML representation is unable to render, please try loading this page with nbviewer.org.</b></div><div class=\"sk-container\" hidden><div class=\"sk-item\"><div class=\"sk-estimator sk-toggleable\"><input class=\"sk-toggleable__control sk-hidden--visually\" id=\"sk-estimator-id-6\" type=\"checkbox\" checked><label for=\"sk-estimator-id-6\" class=\"sk-toggleable__label sk-toggleable__label-arrow\">XGBRegressor</label><div class=\"sk-toggleable__content\"><pre>XGBRegressor(base_score=0.5, booster=&#x27;gbtree&#x27;, colsample_bylevel=1,\n",
       "             colsample_bynode=1, colsample_bytree=0.7, enable_categorical=False,\n",
       "             gamma=0, gpu_id=-1, importance_type=None,\n",
       "             interaction_constraints=&#x27;&#x27;, learning_rate=0.03, max_delta_step=0,\n",
       "             max_depth=12, min_child_weight=4, missing=nan,\n",
       "             monotone_constraints=&#x27;()&#x27;, n_estimators=500, n_jobs=4, nthread=4,\n",
       "             num_parallel_tree=1, predictor=&#x27;auto&#x27;, random_state=0, reg_alpha=0,\n",
       "             reg_lambda=1, scale_pos_weight=1, subsample=0.7,\n",
       "             tree_method=&#x27;exact&#x27;, validate_parameters=1, verbosity=None)</pre></div></div></div></div></div>"
      ],
      "text/plain": [
       "XGBRegressor(base_score=0.5, booster='gbtree', colsample_bylevel=1,\n",
       "             colsample_bynode=1, colsample_bytree=0.7, enable_categorical=False,\n",
       "             gamma=0, gpu_id=-1, importance_type=None,\n",
       "             interaction_constraints='', learning_rate=0.03, max_delta_step=0,\n",
       "             max_depth=12, min_child_weight=4, missing=nan,\n",
       "             monotone_constraints='()', n_estimators=500, n_jobs=4, nthread=4,\n",
       "             num_parallel_tree=1, predictor='auto', random_state=0, reg_alpha=0,\n",
       "             reg_lambda=1, scale_pos_weight=1, subsample=0.7,\n",
       "             tree_method='exact', validate_parameters=1, verbosity=None)"
      ]
     },
     "execution_count": 143,
     "metadata": {},
     "output_type": "execute_result"
    }
   ],
   "source": [
    "xg_reg = xgb.XGBRegressor ( colsample_bytree= 0.7, \n",
    "                            learning_rate= 0.03, \n",
    "                            max_depth= 12, \n",
    "                            min_child_weight = 4, \n",
    "                            n_estimators = 500, \n",
    "                            nthread = 4, \n",
    "                            \n",
    "                            subsample = 0.7)\n",
    "\n",
    "#(objective='reg:squarederror', colsample_bytree=0.5,\n",
    "#                          learning_rate=0.05, max_depth=12, alpha=1,\n",
    "#                          n_estimators=1000)\n",
    "xg_reg.fit(XX_train_log, yy_train_log)"
   ]
  },
  {
   "cell_type": "code",
   "execution_count": 144,
   "id": "578e4793",
   "metadata": {},
   "outputs": [
    {
     "name": "stdout",
     "output_type": "stream",
     "text": [
      "Точность модели по метрике MAPE: 0.33%\n"
     ]
    }
   ],
   "source": [
    "predict_xg_reg = xg_reg.predict(XX_test_log)\n",
    "print(f\"Точность модели по метрике MAPE: {(mape(yy_test_log, predict_xg_reg))*100:0.2f}%\")"
   ]
  },
  {
   "cell_type": "markdown",
   "id": "465dd1e6",
   "metadata": {},
   "source": [
    "### Подбор гиперпараметров"
   ]
  },
  {
   "cell_type": "markdown",
   "id": "97b7f8b6",
   "metadata": {},
   "source": [
    "GradientBoosting показывает лучшие результаты"
   ]
  },
  {
   "cell_type": "code",
   "execution_count": 145,
   "id": "a2263458",
   "metadata": {},
   "outputs": [],
   "source": [
    "clf = GradientBoostingRegressor(loss ='ls')"
   ]
  },
  {
   "cell_type": "code",
   "execution_count": 146,
   "id": "6c6b3714",
   "metadata": {},
   "outputs": [],
   "source": [
    "parametrs = { 'learning_rate' : [0.001, 0.1],\n",
    "              'n_estimators': range (900, 5000),\n",
    "              'max_depth': range (1, 20),\n",
    "             }"
   ]
  },
  {
   "cell_type": "code",
   "execution_count": 147,
   "id": "6e05eb3f",
   "metadata": {},
   "outputs": [
    {
     "ename": "KeyboardInterrupt",
     "evalue": "",
     "output_type": "error",
     "traceback": [
      "\u001b[1;31m---------------------------------------------------------------------------\u001b[0m",
      "\u001b[1;31mKeyboardInterrupt\u001b[0m                         Traceback (most recent call last)",
      "Cell \u001b[1;32mIn[147], line 2\u001b[0m\n\u001b[0;32m      1\u001b[0m grid \u001b[38;5;241m=\u001b[39m GridSearchCV(clf, parametrs, cv\u001b[38;5;241m=\u001b[39m\u001b[38;5;241m5\u001b[39m)\n\u001b[1;32m----> 2\u001b[0m \u001b[43mgrid\u001b[49m\u001b[38;5;241;43m.\u001b[39;49m\u001b[43mfit\u001b[49m\u001b[43m(\u001b[49m\u001b[43mXX_train_log\u001b[49m\u001b[43m,\u001b[49m\u001b[43m \u001b[49m\u001b[43myy_train_log\u001b[49m\u001b[43m)\u001b[49m\n",
      "File \u001b[1;32m~\\anaconda3\\envs\\Parsing\\lib\\site-packages\\sklearn\\model_selection\\_search.py:875\u001b[0m, in \u001b[0;36mBaseSearchCV.fit\u001b[1;34m(self, X, y, groups, **fit_params)\u001b[0m\n\u001b[0;32m    869\u001b[0m     results \u001b[38;5;241m=\u001b[39m \u001b[38;5;28mself\u001b[39m\u001b[38;5;241m.\u001b[39m_format_results(\n\u001b[0;32m    870\u001b[0m         all_candidate_params, n_splits, all_out, all_more_results\n\u001b[0;32m    871\u001b[0m     )\n\u001b[0;32m    873\u001b[0m     \u001b[38;5;28;01mreturn\u001b[39;00m results\n\u001b[1;32m--> 875\u001b[0m \u001b[38;5;28;43mself\u001b[39;49m\u001b[38;5;241;43m.\u001b[39;49m\u001b[43m_run_search\u001b[49m\u001b[43m(\u001b[49m\u001b[43mevaluate_candidates\u001b[49m\u001b[43m)\u001b[49m\n\u001b[0;32m    877\u001b[0m \u001b[38;5;66;03m# multimetric is determined here because in the case of a callable\u001b[39;00m\n\u001b[0;32m    878\u001b[0m \u001b[38;5;66;03m# self.scoring the return type is only known after calling\u001b[39;00m\n\u001b[0;32m    879\u001b[0m first_test_score \u001b[38;5;241m=\u001b[39m all_out[\u001b[38;5;241m0\u001b[39m][\u001b[38;5;124m\"\u001b[39m\u001b[38;5;124mtest_scores\u001b[39m\u001b[38;5;124m\"\u001b[39m]\n",
      "File \u001b[1;32m~\\anaconda3\\envs\\Parsing\\lib\\site-packages\\sklearn\\model_selection\\_search.py:1375\u001b[0m, in \u001b[0;36mGridSearchCV._run_search\u001b[1;34m(self, evaluate_candidates)\u001b[0m\n\u001b[0;32m   1373\u001b[0m \u001b[38;5;28;01mdef\u001b[39;00m \u001b[38;5;21m_run_search\u001b[39m(\u001b[38;5;28mself\u001b[39m, evaluate_candidates):\n\u001b[0;32m   1374\u001b[0m \u001b[38;5;250m    \u001b[39m\u001b[38;5;124;03m\"\"\"Search all candidates in param_grid\"\"\"\u001b[39;00m\n\u001b[1;32m-> 1375\u001b[0m     \u001b[43mevaluate_candidates\u001b[49m\u001b[43m(\u001b[49m\u001b[43mParameterGrid\u001b[49m\u001b[43m(\u001b[49m\u001b[38;5;28;43mself\u001b[39;49m\u001b[38;5;241;43m.\u001b[39;49m\u001b[43mparam_grid\u001b[49m\u001b[43m)\u001b[49m\u001b[43m)\u001b[49m\n",
      "File \u001b[1;32m~\\anaconda3\\envs\\Parsing\\lib\\site-packages\\sklearn\\model_selection\\_search.py:822\u001b[0m, in \u001b[0;36mBaseSearchCV.fit.<locals>.evaluate_candidates\u001b[1;34m(candidate_params, cv, more_results)\u001b[0m\n\u001b[0;32m    814\u001b[0m \u001b[38;5;28;01mif\u001b[39;00m \u001b[38;5;28mself\u001b[39m\u001b[38;5;241m.\u001b[39mverbose \u001b[38;5;241m>\u001b[39m \u001b[38;5;241m0\u001b[39m:\n\u001b[0;32m    815\u001b[0m     \u001b[38;5;28mprint\u001b[39m(\n\u001b[0;32m    816\u001b[0m         \u001b[38;5;124m\"\u001b[39m\u001b[38;5;124mFitting \u001b[39m\u001b[38;5;132;01m{0}\u001b[39;00m\u001b[38;5;124m folds for each of \u001b[39m\u001b[38;5;132;01m{1}\u001b[39;00m\u001b[38;5;124m candidates,\u001b[39m\u001b[38;5;124m\"\u001b[39m\n\u001b[0;32m    817\u001b[0m         \u001b[38;5;124m\"\u001b[39m\u001b[38;5;124m totalling \u001b[39m\u001b[38;5;132;01m{2}\u001b[39;00m\u001b[38;5;124m fits\u001b[39m\u001b[38;5;124m\"\u001b[39m\u001b[38;5;241m.\u001b[39mformat(\n\u001b[0;32m    818\u001b[0m             n_splits, n_candidates, n_candidates \u001b[38;5;241m*\u001b[39m n_splits\n\u001b[0;32m    819\u001b[0m         )\n\u001b[0;32m    820\u001b[0m     )\n\u001b[1;32m--> 822\u001b[0m out \u001b[38;5;241m=\u001b[39m \u001b[43mparallel\u001b[49m\u001b[43m(\u001b[49m\n\u001b[0;32m    823\u001b[0m \u001b[43m    \u001b[49m\u001b[43mdelayed\u001b[49m\u001b[43m(\u001b[49m\u001b[43m_fit_and_score\u001b[49m\u001b[43m)\u001b[49m\u001b[43m(\u001b[49m\n\u001b[0;32m    824\u001b[0m \u001b[43m        \u001b[49m\u001b[43mclone\u001b[49m\u001b[43m(\u001b[49m\u001b[43mbase_estimator\u001b[49m\u001b[43m)\u001b[49m\u001b[43m,\u001b[49m\n\u001b[0;32m    825\u001b[0m \u001b[43m        \u001b[49m\u001b[43mX\u001b[49m\u001b[43m,\u001b[49m\n\u001b[0;32m    826\u001b[0m \u001b[43m        \u001b[49m\u001b[43my\u001b[49m\u001b[43m,\u001b[49m\n\u001b[0;32m    827\u001b[0m \u001b[43m        \u001b[49m\u001b[43mtrain\u001b[49m\u001b[38;5;241;43m=\u001b[39;49m\u001b[43mtrain\u001b[49m\u001b[43m,\u001b[49m\n\u001b[0;32m    828\u001b[0m \u001b[43m        \u001b[49m\u001b[43mtest\u001b[49m\u001b[38;5;241;43m=\u001b[39;49m\u001b[43mtest\u001b[49m\u001b[43m,\u001b[49m\n\u001b[0;32m    829\u001b[0m \u001b[43m        \u001b[49m\u001b[43mparameters\u001b[49m\u001b[38;5;241;43m=\u001b[39;49m\u001b[43mparameters\u001b[49m\u001b[43m,\u001b[49m\n\u001b[0;32m    830\u001b[0m \u001b[43m        \u001b[49m\u001b[43msplit_progress\u001b[49m\u001b[38;5;241;43m=\u001b[39;49m\u001b[43m(\u001b[49m\u001b[43msplit_idx\u001b[49m\u001b[43m,\u001b[49m\u001b[43m \u001b[49m\u001b[43mn_splits\u001b[49m\u001b[43m)\u001b[49m\u001b[43m,\u001b[49m\n\u001b[0;32m    831\u001b[0m \u001b[43m        \u001b[49m\u001b[43mcandidate_progress\u001b[49m\u001b[38;5;241;43m=\u001b[39;49m\u001b[43m(\u001b[49m\u001b[43mcand_idx\u001b[49m\u001b[43m,\u001b[49m\u001b[43m \u001b[49m\u001b[43mn_candidates\u001b[49m\u001b[43m)\u001b[49m\u001b[43m,\u001b[49m\n\u001b[0;32m    832\u001b[0m \u001b[43m        \u001b[49m\u001b[38;5;241;43m*\u001b[39;49m\u001b[38;5;241;43m*\u001b[39;49m\u001b[43mfit_and_score_kwargs\u001b[49m\u001b[43m,\u001b[49m\n\u001b[0;32m    833\u001b[0m \u001b[43m    \u001b[49m\u001b[43m)\u001b[49m\n\u001b[0;32m    834\u001b[0m \u001b[43m    \u001b[49m\u001b[38;5;28;43;01mfor\u001b[39;49;00m\u001b[43m \u001b[49m\u001b[43m(\u001b[49m\u001b[43mcand_idx\u001b[49m\u001b[43m,\u001b[49m\u001b[43m \u001b[49m\u001b[43mparameters\u001b[49m\u001b[43m)\u001b[49m\u001b[43m,\u001b[49m\u001b[43m \u001b[49m\u001b[43m(\u001b[49m\u001b[43msplit_idx\u001b[49m\u001b[43m,\u001b[49m\u001b[43m \u001b[49m\u001b[43m(\u001b[49m\u001b[43mtrain\u001b[49m\u001b[43m,\u001b[49m\u001b[43m \u001b[49m\u001b[43mtest\u001b[49m\u001b[43m)\u001b[49m\u001b[43m)\u001b[49m\u001b[43m \u001b[49m\u001b[38;5;129;43;01min\u001b[39;49;00m\u001b[43m \u001b[49m\u001b[43mproduct\u001b[49m\u001b[43m(\u001b[49m\n\u001b[0;32m    835\u001b[0m \u001b[43m        \u001b[49m\u001b[38;5;28;43menumerate\u001b[39;49m\u001b[43m(\u001b[49m\u001b[43mcandidate_params\u001b[49m\u001b[43m)\u001b[49m\u001b[43m,\u001b[49m\u001b[43m \u001b[49m\u001b[38;5;28;43menumerate\u001b[39;49m\u001b[43m(\u001b[49m\u001b[43mcv\u001b[49m\u001b[38;5;241;43m.\u001b[39;49m\u001b[43msplit\u001b[49m\u001b[43m(\u001b[49m\u001b[43mX\u001b[49m\u001b[43m,\u001b[49m\u001b[43m \u001b[49m\u001b[43my\u001b[49m\u001b[43m,\u001b[49m\u001b[43m \u001b[49m\u001b[43mgroups\u001b[49m\u001b[43m)\u001b[49m\u001b[43m)\u001b[49m\n\u001b[0;32m    836\u001b[0m \u001b[43m    \u001b[49m\u001b[43m)\u001b[49m\n\u001b[0;32m    837\u001b[0m \u001b[43m\u001b[49m\u001b[43m)\u001b[49m\n\u001b[0;32m    839\u001b[0m \u001b[38;5;28;01mif\u001b[39;00m \u001b[38;5;28mlen\u001b[39m(out) \u001b[38;5;241m<\u001b[39m \u001b[38;5;241m1\u001b[39m:\n\u001b[0;32m    840\u001b[0m     \u001b[38;5;28;01mraise\u001b[39;00m \u001b[38;5;167;01mValueError\u001b[39;00m(\n\u001b[0;32m    841\u001b[0m         \u001b[38;5;124m\"\u001b[39m\u001b[38;5;124mNo fits were performed. \u001b[39m\u001b[38;5;124m\"\u001b[39m\n\u001b[0;32m    842\u001b[0m         \u001b[38;5;124m\"\u001b[39m\u001b[38;5;124mWas the CV iterator empty? \u001b[39m\u001b[38;5;124m\"\u001b[39m\n\u001b[0;32m    843\u001b[0m         \u001b[38;5;124m\"\u001b[39m\u001b[38;5;124mWere there no candidates?\u001b[39m\u001b[38;5;124m\"\u001b[39m\n\u001b[0;32m    844\u001b[0m     )\n",
      "File \u001b[1;32m~\\anaconda3\\envs\\Parsing\\lib\\site-packages\\joblib\\parallel.py:1051\u001b[0m, in \u001b[0;36mParallel.__call__\u001b[1;34m(self, iterable)\u001b[0m\n\u001b[0;32m   1048\u001b[0m \u001b[38;5;28;01mif\u001b[39;00m \u001b[38;5;28mself\u001b[39m\u001b[38;5;241m.\u001b[39mdispatch_one_batch(iterator):\n\u001b[0;32m   1049\u001b[0m     \u001b[38;5;28mself\u001b[39m\u001b[38;5;241m.\u001b[39m_iterating \u001b[38;5;241m=\u001b[39m \u001b[38;5;28mself\u001b[39m\u001b[38;5;241m.\u001b[39m_original_iterator \u001b[38;5;129;01mis\u001b[39;00m \u001b[38;5;129;01mnot\u001b[39;00m \u001b[38;5;28;01mNone\u001b[39;00m\n\u001b[1;32m-> 1051\u001b[0m \u001b[38;5;28;01mwhile\u001b[39;00m \u001b[38;5;28;43mself\u001b[39;49m\u001b[38;5;241;43m.\u001b[39;49m\u001b[43mdispatch_one_batch\u001b[49m\u001b[43m(\u001b[49m\u001b[43miterator\u001b[49m\u001b[43m)\u001b[49m:\n\u001b[0;32m   1052\u001b[0m     \u001b[38;5;28;01mpass\u001b[39;00m\n\u001b[0;32m   1054\u001b[0m \u001b[38;5;28;01mif\u001b[39;00m pre_dispatch \u001b[38;5;241m==\u001b[39m \u001b[38;5;124m\"\u001b[39m\u001b[38;5;124mall\u001b[39m\u001b[38;5;124m\"\u001b[39m \u001b[38;5;129;01mor\u001b[39;00m n_jobs \u001b[38;5;241m==\u001b[39m \u001b[38;5;241m1\u001b[39m:\n\u001b[0;32m   1055\u001b[0m     \u001b[38;5;66;03m# The iterable was consumed all at once by the above for loop.\u001b[39;00m\n\u001b[0;32m   1056\u001b[0m     \u001b[38;5;66;03m# No need to wait for async callbacks to trigger to\u001b[39;00m\n\u001b[0;32m   1057\u001b[0m     \u001b[38;5;66;03m# consumption.\u001b[39;00m\n",
      "File \u001b[1;32m~\\anaconda3\\envs\\Parsing\\lib\\site-packages\\joblib\\parallel.py:864\u001b[0m, in \u001b[0;36mParallel.dispatch_one_batch\u001b[1;34m(self, iterator)\u001b[0m\n\u001b[0;32m    862\u001b[0m     \u001b[38;5;28;01mreturn\u001b[39;00m \u001b[38;5;28;01mFalse\u001b[39;00m\n\u001b[0;32m    863\u001b[0m \u001b[38;5;28;01melse\u001b[39;00m:\n\u001b[1;32m--> 864\u001b[0m     \u001b[38;5;28;43mself\u001b[39;49m\u001b[38;5;241;43m.\u001b[39;49m\u001b[43m_dispatch\u001b[49m\u001b[43m(\u001b[49m\u001b[43mtasks\u001b[49m\u001b[43m)\u001b[49m\n\u001b[0;32m    865\u001b[0m     \u001b[38;5;28;01mreturn\u001b[39;00m \u001b[38;5;28;01mTrue\u001b[39;00m\n",
      "File \u001b[1;32m~\\anaconda3\\envs\\Parsing\\lib\\site-packages\\joblib\\parallel.py:782\u001b[0m, in \u001b[0;36mParallel._dispatch\u001b[1;34m(self, batch)\u001b[0m\n\u001b[0;32m    780\u001b[0m \u001b[38;5;28;01mwith\u001b[39;00m \u001b[38;5;28mself\u001b[39m\u001b[38;5;241m.\u001b[39m_lock:\n\u001b[0;32m    781\u001b[0m     job_idx \u001b[38;5;241m=\u001b[39m \u001b[38;5;28mlen\u001b[39m(\u001b[38;5;28mself\u001b[39m\u001b[38;5;241m.\u001b[39m_jobs)\n\u001b[1;32m--> 782\u001b[0m     job \u001b[38;5;241m=\u001b[39m \u001b[38;5;28;43mself\u001b[39;49m\u001b[38;5;241;43m.\u001b[39;49m\u001b[43m_backend\u001b[49m\u001b[38;5;241;43m.\u001b[39;49m\u001b[43mapply_async\u001b[49m\u001b[43m(\u001b[49m\u001b[43mbatch\u001b[49m\u001b[43m,\u001b[49m\u001b[43m \u001b[49m\u001b[43mcallback\u001b[49m\u001b[38;5;241;43m=\u001b[39;49m\u001b[43mcb\u001b[49m\u001b[43m)\u001b[49m\n\u001b[0;32m    783\u001b[0m     \u001b[38;5;66;03m# A job can complete so quickly than its callback is\u001b[39;00m\n\u001b[0;32m    784\u001b[0m     \u001b[38;5;66;03m# called before we get here, causing self._jobs to\u001b[39;00m\n\u001b[0;32m    785\u001b[0m     \u001b[38;5;66;03m# grow. To ensure correct results ordering, .insert is\u001b[39;00m\n\u001b[0;32m    786\u001b[0m     \u001b[38;5;66;03m# used (rather than .append) in the following line\u001b[39;00m\n\u001b[0;32m    787\u001b[0m     \u001b[38;5;28mself\u001b[39m\u001b[38;5;241m.\u001b[39m_jobs\u001b[38;5;241m.\u001b[39minsert(job_idx, job)\n",
      "File \u001b[1;32m~\\anaconda3\\envs\\Parsing\\lib\\site-packages\\joblib\\_parallel_backends.py:208\u001b[0m, in \u001b[0;36mSequentialBackend.apply_async\u001b[1;34m(self, func, callback)\u001b[0m\n\u001b[0;32m    206\u001b[0m \u001b[38;5;28;01mdef\u001b[39;00m \u001b[38;5;21mapply_async\u001b[39m(\u001b[38;5;28mself\u001b[39m, func, callback\u001b[38;5;241m=\u001b[39m\u001b[38;5;28;01mNone\u001b[39;00m):\n\u001b[0;32m    207\u001b[0m \u001b[38;5;250m    \u001b[39m\u001b[38;5;124;03m\"\"\"Schedule a func to be run\"\"\"\u001b[39;00m\n\u001b[1;32m--> 208\u001b[0m     result \u001b[38;5;241m=\u001b[39m \u001b[43mImmediateResult\u001b[49m\u001b[43m(\u001b[49m\u001b[43mfunc\u001b[49m\u001b[43m)\u001b[49m\n\u001b[0;32m    209\u001b[0m     \u001b[38;5;28;01mif\u001b[39;00m callback:\n\u001b[0;32m    210\u001b[0m         callback(result)\n",
      "File \u001b[1;32m~\\anaconda3\\envs\\Parsing\\lib\\site-packages\\joblib\\_parallel_backends.py:572\u001b[0m, in \u001b[0;36mImmediateResult.__init__\u001b[1;34m(self, batch)\u001b[0m\n\u001b[0;32m    569\u001b[0m \u001b[38;5;28;01mdef\u001b[39;00m \u001b[38;5;21m__init__\u001b[39m(\u001b[38;5;28mself\u001b[39m, batch):\n\u001b[0;32m    570\u001b[0m     \u001b[38;5;66;03m# Don't delay the application, to avoid keeping the input\u001b[39;00m\n\u001b[0;32m    571\u001b[0m     \u001b[38;5;66;03m# arguments in memory\u001b[39;00m\n\u001b[1;32m--> 572\u001b[0m     \u001b[38;5;28mself\u001b[39m\u001b[38;5;241m.\u001b[39mresults \u001b[38;5;241m=\u001b[39m \u001b[43mbatch\u001b[49m\u001b[43m(\u001b[49m\u001b[43m)\u001b[49m\n",
      "File \u001b[1;32m~\\anaconda3\\envs\\Parsing\\lib\\site-packages\\joblib\\parallel.py:263\u001b[0m, in \u001b[0;36mBatchedCalls.__call__\u001b[1;34m(self)\u001b[0m\n\u001b[0;32m    259\u001b[0m \u001b[38;5;28;01mdef\u001b[39;00m \u001b[38;5;21m__call__\u001b[39m(\u001b[38;5;28mself\u001b[39m):\n\u001b[0;32m    260\u001b[0m     \u001b[38;5;66;03m# Set the default nested backend to self._backend but do not set the\u001b[39;00m\n\u001b[0;32m    261\u001b[0m     \u001b[38;5;66;03m# change the default number of processes to -1\u001b[39;00m\n\u001b[0;32m    262\u001b[0m     \u001b[38;5;28;01mwith\u001b[39;00m parallel_backend(\u001b[38;5;28mself\u001b[39m\u001b[38;5;241m.\u001b[39m_backend, n_jobs\u001b[38;5;241m=\u001b[39m\u001b[38;5;28mself\u001b[39m\u001b[38;5;241m.\u001b[39m_n_jobs):\n\u001b[1;32m--> 263\u001b[0m         \u001b[38;5;28;01mreturn\u001b[39;00m [func(\u001b[38;5;241m*\u001b[39margs, \u001b[38;5;241m*\u001b[39m\u001b[38;5;241m*\u001b[39mkwargs)\n\u001b[0;32m    264\u001b[0m                 \u001b[38;5;28;01mfor\u001b[39;00m func, args, kwargs \u001b[38;5;129;01min\u001b[39;00m \u001b[38;5;28mself\u001b[39m\u001b[38;5;241m.\u001b[39mitems]\n",
      "File \u001b[1;32m~\\anaconda3\\envs\\Parsing\\lib\\site-packages\\joblib\\parallel.py:263\u001b[0m, in \u001b[0;36m<listcomp>\u001b[1;34m(.0)\u001b[0m\n\u001b[0;32m    259\u001b[0m \u001b[38;5;28;01mdef\u001b[39;00m \u001b[38;5;21m__call__\u001b[39m(\u001b[38;5;28mself\u001b[39m):\n\u001b[0;32m    260\u001b[0m     \u001b[38;5;66;03m# Set the default nested backend to self._backend but do not set the\u001b[39;00m\n\u001b[0;32m    261\u001b[0m     \u001b[38;5;66;03m# change the default number of processes to -1\u001b[39;00m\n\u001b[0;32m    262\u001b[0m     \u001b[38;5;28;01mwith\u001b[39;00m parallel_backend(\u001b[38;5;28mself\u001b[39m\u001b[38;5;241m.\u001b[39m_backend, n_jobs\u001b[38;5;241m=\u001b[39m\u001b[38;5;28mself\u001b[39m\u001b[38;5;241m.\u001b[39m_n_jobs):\n\u001b[1;32m--> 263\u001b[0m         \u001b[38;5;28;01mreturn\u001b[39;00m [func(\u001b[38;5;241m*\u001b[39margs, \u001b[38;5;241m*\u001b[39m\u001b[38;5;241m*\u001b[39mkwargs)\n\u001b[0;32m    264\u001b[0m                 \u001b[38;5;28;01mfor\u001b[39;00m func, args, kwargs \u001b[38;5;129;01min\u001b[39;00m \u001b[38;5;28mself\u001b[39m\u001b[38;5;241m.\u001b[39mitems]\n",
      "File \u001b[1;32m~\\anaconda3\\envs\\Parsing\\lib\\site-packages\\sklearn\\utils\\fixes.py:117\u001b[0m, in \u001b[0;36m_FuncWrapper.__call__\u001b[1;34m(self, *args, **kwargs)\u001b[0m\n\u001b[0;32m    115\u001b[0m \u001b[38;5;28;01mdef\u001b[39;00m \u001b[38;5;21m__call__\u001b[39m(\u001b[38;5;28mself\u001b[39m, \u001b[38;5;241m*\u001b[39margs, \u001b[38;5;241m*\u001b[39m\u001b[38;5;241m*\u001b[39mkwargs):\n\u001b[0;32m    116\u001b[0m     \u001b[38;5;28;01mwith\u001b[39;00m config_context(\u001b[38;5;241m*\u001b[39m\u001b[38;5;241m*\u001b[39m\u001b[38;5;28mself\u001b[39m\u001b[38;5;241m.\u001b[39mconfig):\n\u001b[1;32m--> 117\u001b[0m         \u001b[38;5;28;01mreturn\u001b[39;00m \u001b[38;5;28mself\u001b[39m\u001b[38;5;241m.\u001b[39mfunction(\u001b[38;5;241m*\u001b[39margs, \u001b[38;5;241m*\u001b[39m\u001b[38;5;241m*\u001b[39mkwargs)\n",
      "File \u001b[1;32m~\\anaconda3\\envs\\Parsing\\lib\\site-packages\\sklearn\\model_selection\\_validation.py:686\u001b[0m, in \u001b[0;36m_fit_and_score\u001b[1;34m(estimator, X, y, scorer, train, test, verbose, parameters, fit_params, return_train_score, return_parameters, return_n_test_samples, return_times, return_estimator, split_progress, candidate_progress, error_score)\u001b[0m\n\u001b[0;32m    684\u001b[0m         estimator\u001b[38;5;241m.\u001b[39mfit(X_train, \u001b[38;5;241m*\u001b[39m\u001b[38;5;241m*\u001b[39mfit_params)\n\u001b[0;32m    685\u001b[0m     \u001b[38;5;28;01melse\u001b[39;00m:\n\u001b[1;32m--> 686\u001b[0m         estimator\u001b[38;5;241m.\u001b[39mfit(X_train, y_train, \u001b[38;5;241m*\u001b[39m\u001b[38;5;241m*\u001b[39mfit_params)\n\u001b[0;32m    688\u001b[0m \u001b[38;5;28;01mexcept\u001b[39;00m \u001b[38;5;167;01mException\u001b[39;00m:\n\u001b[0;32m    689\u001b[0m     \u001b[38;5;66;03m# Note fit time as time until error\u001b[39;00m\n\u001b[0;32m    690\u001b[0m     fit_time \u001b[38;5;241m=\u001b[39m time\u001b[38;5;241m.\u001b[39mtime() \u001b[38;5;241m-\u001b[39m start_time\n",
      "File \u001b[1;32m~\\anaconda3\\envs\\Parsing\\lib\\site-packages\\sklearn\\ensemble\\_gb.py:668\u001b[0m, in \u001b[0;36mBaseGradientBoosting.fit\u001b[1;34m(self, X, y, sample_weight, monitor)\u001b[0m\n\u001b[0;32m    665\u001b[0m     \u001b[38;5;28mself\u001b[39m\u001b[38;5;241m.\u001b[39m_resize_state()\n\u001b[0;32m    667\u001b[0m \u001b[38;5;66;03m# fit the boosting stages\u001b[39;00m\n\u001b[1;32m--> 668\u001b[0m n_stages \u001b[38;5;241m=\u001b[39m \u001b[38;5;28;43mself\u001b[39;49m\u001b[38;5;241;43m.\u001b[39;49m\u001b[43m_fit_stages\u001b[49m\u001b[43m(\u001b[49m\n\u001b[0;32m    669\u001b[0m \u001b[43m    \u001b[49m\u001b[43mX\u001b[49m\u001b[43m,\u001b[49m\n\u001b[0;32m    670\u001b[0m \u001b[43m    \u001b[49m\u001b[43my\u001b[49m\u001b[43m,\u001b[49m\n\u001b[0;32m    671\u001b[0m \u001b[43m    \u001b[49m\u001b[43mraw_predictions\u001b[49m\u001b[43m,\u001b[49m\n\u001b[0;32m    672\u001b[0m \u001b[43m    \u001b[49m\u001b[43msample_weight\u001b[49m\u001b[43m,\u001b[49m\n\u001b[0;32m    673\u001b[0m \u001b[43m    \u001b[49m\u001b[38;5;28;43mself\u001b[39;49m\u001b[38;5;241;43m.\u001b[39;49m\u001b[43m_rng\u001b[49m\u001b[43m,\u001b[49m\n\u001b[0;32m    674\u001b[0m \u001b[43m    \u001b[49m\u001b[43mX_val\u001b[49m\u001b[43m,\u001b[49m\n\u001b[0;32m    675\u001b[0m \u001b[43m    \u001b[49m\u001b[43my_val\u001b[49m\u001b[43m,\u001b[49m\n\u001b[0;32m    676\u001b[0m \u001b[43m    \u001b[49m\u001b[43msample_weight_val\u001b[49m\u001b[43m,\u001b[49m\n\u001b[0;32m    677\u001b[0m \u001b[43m    \u001b[49m\u001b[43mbegin_at_stage\u001b[49m\u001b[43m,\u001b[49m\n\u001b[0;32m    678\u001b[0m \u001b[43m    \u001b[49m\u001b[43mmonitor\u001b[49m\u001b[43m,\u001b[49m\n\u001b[0;32m    679\u001b[0m \u001b[43m\u001b[49m\u001b[43m)\u001b[49m\n\u001b[0;32m    681\u001b[0m \u001b[38;5;66;03m# change shape of arrays after fit (early-stopping or additional ests)\u001b[39;00m\n\u001b[0;32m    682\u001b[0m \u001b[38;5;28;01mif\u001b[39;00m n_stages \u001b[38;5;241m!=\u001b[39m \u001b[38;5;28mself\u001b[39m\u001b[38;5;241m.\u001b[39mestimators_\u001b[38;5;241m.\u001b[39mshape[\u001b[38;5;241m0\u001b[39m]:\n",
      "File \u001b[1;32m~\\anaconda3\\envs\\Parsing\\lib\\site-packages\\sklearn\\ensemble\\_gb.py:745\u001b[0m, in \u001b[0;36mBaseGradientBoosting._fit_stages\u001b[1;34m(self, X, y, raw_predictions, sample_weight, random_state, X_val, y_val, sample_weight_val, begin_at_stage, monitor)\u001b[0m\n\u001b[0;32m    738\u001b[0m     old_oob_score \u001b[38;5;241m=\u001b[39m loss_(\n\u001b[0;32m    739\u001b[0m         y[\u001b[38;5;241m~\u001b[39msample_mask],\n\u001b[0;32m    740\u001b[0m         raw_predictions[\u001b[38;5;241m~\u001b[39msample_mask],\n\u001b[0;32m    741\u001b[0m         sample_weight[\u001b[38;5;241m~\u001b[39msample_mask],\n\u001b[0;32m    742\u001b[0m     )\n\u001b[0;32m    744\u001b[0m \u001b[38;5;66;03m# fit next stage of trees\u001b[39;00m\n\u001b[1;32m--> 745\u001b[0m raw_predictions \u001b[38;5;241m=\u001b[39m \u001b[38;5;28;43mself\u001b[39;49m\u001b[38;5;241;43m.\u001b[39;49m\u001b[43m_fit_stage\u001b[49m\u001b[43m(\u001b[49m\n\u001b[0;32m    746\u001b[0m \u001b[43m    \u001b[49m\u001b[43mi\u001b[49m\u001b[43m,\u001b[49m\n\u001b[0;32m    747\u001b[0m \u001b[43m    \u001b[49m\u001b[43mX\u001b[49m\u001b[43m,\u001b[49m\n\u001b[0;32m    748\u001b[0m \u001b[43m    \u001b[49m\u001b[43my\u001b[49m\u001b[43m,\u001b[49m\n\u001b[0;32m    749\u001b[0m \u001b[43m    \u001b[49m\u001b[43mraw_predictions\u001b[49m\u001b[43m,\u001b[49m\n\u001b[0;32m    750\u001b[0m \u001b[43m    \u001b[49m\u001b[43msample_weight\u001b[49m\u001b[43m,\u001b[49m\n\u001b[0;32m    751\u001b[0m \u001b[43m    \u001b[49m\u001b[43msample_mask\u001b[49m\u001b[43m,\u001b[49m\n\u001b[0;32m    752\u001b[0m \u001b[43m    \u001b[49m\u001b[43mrandom_state\u001b[49m\u001b[43m,\u001b[49m\n\u001b[0;32m    753\u001b[0m \u001b[43m    \u001b[49m\u001b[43mX_csc\u001b[49m\u001b[43m,\u001b[49m\n\u001b[0;32m    754\u001b[0m \u001b[43m    \u001b[49m\u001b[43mX_csr\u001b[49m\u001b[43m,\u001b[49m\n\u001b[0;32m    755\u001b[0m \u001b[43m\u001b[49m\u001b[43m)\u001b[49m\n\u001b[0;32m    757\u001b[0m \u001b[38;5;66;03m# track deviance (= loss)\u001b[39;00m\n\u001b[0;32m    758\u001b[0m \u001b[38;5;28;01mif\u001b[39;00m do_oob:\n",
      "File \u001b[1;32m~\\anaconda3\\envs\\Parsing\\lib\\site-packages\\sklearn\\ensemble\\_gb.py:247\u001b[0m, in \u001b[0;36mBaseGradientBoosting._fit_stage\u001b[1;34m(self, i, X, y, raw_predictions, sample_weight, sample_mask, random_state, X_csc, X_csr)\u001b[0m\n\u001b[0;32m    244\u001b[0m     sample_weight \u001b[38;5;241m=\u001b[39m sample_weight \u001b[38;5;241m*\u001b[39m sample_mask\u001b[38;5;241m.\u001b[39mastype(np\u001b[38;5;241m.\u001b[39mfloat64)\n\u001b[0;32m    246\u001b[0m X \u001b[38;5;241m=\u001b[39m X_csr \u001b[38;5;28;01mif\u001b[39;00m X_csr \u001b[38;5;129;01mis\u001b[39;00m \u001b[38;5;129;01mnot\u001b[39;00m \u001b[38;5;28;01mNone\u001b[39;00m \u001b[38;5;28;01melse\u001b[39;00m X\n\u001b[1;32m--> 247\u001b[0m \u001b[43mtree\u001b[49m\u001b[38;5;241;43m.\u001b[39;49m\u001b[43mfit\u001b[49m\u001b[43m(\u001b[49m\u001b[43mX\u001b[49m\u001b[43m,\u001b[49m\u001b[43m \u001b[49m\u001b[43mresidual\u001b[49m\u001b[43m,\u001b[49m\u001b[43m \u001b[49m\u001b[43msample_weight\u001b[49m\u001b[38;5;241;43m=\u001b[39;49m\u001b[43msample_weight\u001b[49m\u001b[43m,\u001b[49m\u001b[43m \u001b[49m\u001b[43mcheck_input\u001b[49m\u001b[38;5;241;43m=\u001b[39;49m\u001b[38;5;28;43;01mFalse\u001b[39;49;00m\u001b[43m)\u001b[49m\n\u001b[0;32m    249\u001b[0m \u001b[38;5;66;03m# update tree leaves\u001b[39;00m\n\u001b[0;32m    250\u001b[0m loss\u001b[38;5;241m.\u001b[39mupdate_terminal_regions(\n\u001b[0;32m    251\u001b[0m     tree\u001b[38;5;241m.\u001b[39mtree_,\n\u001b[0;32m    252\u001b[0m     X,\n\u001b[1;32m   (...)\u001b[0m\n\u001b[0;32m    259\u001b[0m     k\u001b[38;5;241m=\u001b[39mk,\n\u001b[0;32m    260\u001b[0m )\n",
      "File \u001b[1;32m~\\anaconda3\\envs\\Parsing\\lib\\site-packages\\sklearn\\tree\\_classes.py:1342\u001b[0m, in \u001b[0;36mDecisionTreeRegressor.fit\u001b[1;34m(self, X, y, sample_weight, check_input)\u001b[0m\n\u001b[0;32m   1313\u001b[0m \u001b[38;5;28;01mdef\u001b[39;00m \u001b[38;5;21mfit\u001b[39m(\u001b[38;5;28mself\u001b[39m, X, y, sample_weight\u001b[38;5;241m=\u001b[39m\u001b[38;5;28;01mNone\u001b[39;00m, check_input\u001b[38;5;241m=\u001b[39m\u001b[38;5;28;01mTrue\u001b[39;00m):\n\u001b[0;32m   1314\u001b[0m \u001b[38;5;250m    \u001b[39m\u001b[38;5;124;03m\"\"\"Build a decision tree regressor from the training set (X, y).\u001b[39;00m\n\u001b[0;32m   1315\u001b[0m \n\u001b[0;32m   1316\u001b[0m \u001b[38;5;124;03m    Parameters\u001b[39;00m\n\u001b[1;32m   (...)\u001b[0m\n\u001b[0;32m   1339\u001b[0m \u001b[38;5;124;03m        Fitted estimator.\u001b[39;00m\n\u001b[0;32m   1340\u001b[0m \u001b[38;5;124;03m    \"\"\"\u001b[39;00m\n\u001b[1;32m-> 1342\u001b[0m     \u001b[38;5;28;43msuper\u001b[39;49m\u001b[43m(\u001b[49m\u001b[43m)\u001b[49m\u001b[38;5;241;43m.\u001b[39;49m\u001b[43mfit\u001b[49m\u001b[43m(\u001b[49m\n\u001b[0;32m   1343\u001b[0m \u001b[43m        \u001b[49m\u001b[43mX\u001b[49m\u001b[43m,\u001b[49m\n\u001b[0;32m   1344\u001b[0m \u001b[43m        \u001b[49m\u001b[43my\u001b[49m\u001b[43m,\u001b[49m\n\u001b[0;32m   1345\u001b[0m \u001b[43m        \u001b[49m\u001b[43msample_weight\u001b[49m\u001b[38;5;241;43m=\u001b[39;49m\u001b[43msample_weight\u001b[49m\u001b[43m,\u001b[49m\n\u001b[0;32m   1346\u001b[0m \u001b[43m        \u001b[49m\u001b[43mcheck_input\u001b[49m\u001b[38;5;241;43m=\u001b[39;49m\u001b[43mcheck_input\u001b[49m\u001b[43m,\u001b[49m\n\u001b[0;32m   1347\u001b[0m \u001b[43m    \u001b[49m\u001b[43m)\u001b[49m\n\u001b[0;32m   1348\u001b[0m     \u001b[38;5;28;01mreturn\u001b[39;00m \u001b[38;5;28mself\u001b[39m\n",
      "File \u001b[1;32m~\\anaconda3\\envs\\Parsing\\lib\\site-packages\\sklearn\\tree\\_classes.py:458\u001b[0m, in \u001b[0;36mBaseDecisionTree.fit\u001b[1;34m(self, X, y, sample_weight, check_input)\u001b[0m\n\u001b[0;32m    447\u001b[0m \u001b[38;5;28;01melse\u001b[39;00m:\n\u001b[0;32m    448\u001b[0m     builder \u001b[38;5;241m=\u001b[39m BestFirstTreeBuilder(\n\u001b[0;32m    449\u001b[0m         splitter,\n\u001b[0;32m    450\u001b[0m         min_samples_split,\n\u001b[1;32m   (...)\u001b[0m\n\u001b[0;32m    455\u001b[0m         \u001b[38;5;28mself\u001b[39m\u001b[38;5;241m.\u001b[39mmin_impurity_decrease,\n\u001b[0;32m    456\u001b[0m     )\n\u001b[1;32m--> 458\u001b[0m \u001b[43mbuilder\u001b[49m\u001b[38;5;241;43m.\u001b[39;49m\u001b[43mbuild\u001b[49m\u001b[43m(\u001b[49m\u001b[38;5;28;43mself\u001b[39;49m\u001b[38;5;241;43m.\u001b[39;49m\u001b[43mtree_\u001b[49m\u001b[43m,\u001b[49m\u001b[43m \u001b[49m\u001b[43mX\u001b[49m\u001b[43m,\u001b[49m\u001b[43m \u001b[49m\u001b[43my\u001b[49m\u001b[43m,\u001b[49m\u001b[43m \u001b[49m\u001b[43msample_weight\u001b[49m\u001b[43m)\u001b[49m\n\u001b[0;32m    460\u001b[0m \u001b[38;5;28;01mif\u001b[39;00m \u001b[38;5;28mself\u001b[39m\u001b[38;5;241m.\u001b[39mn_outputs_ \u001b[38;5;241m==\u001b[39m \u001b[38;5;241m1\u001b[39m \u001b[38;5;129;01mand\u001b[39;00m is_classifier(\u001b[38;5;28mself\u001b[39m):\n\u001b[0;32m    461\u001b[0m     \u001b[38;5;28mself\u001b[39m\u001b[38;5;241m.\u001b[39mn_classes_ \u001b[38;5;241m=\u001b[39m \u001b[38;5;28mself\u001b[39m\u001b[38;5;241m.\u001b[39mn_classes_[\u001b[38;5;241m0\u001b[39m]\n",
      "\u001b[1;31mKeyboardInterrupt\u001b[0m: "
     ]
    }
   ],
   "source": [
    "grid = GridSearchCV(clf, parametrs, cv=5)\n",
    "grid.fit(XX_train_log, yy_train_log)"
   ]
  },
  {
   "cell_type": "code",
   "execution_count": null,
   "id": "f2628f25-5126-4b54-a01e-e77a5c3ead55",
   "metadata": {},
   "outputs": [],
   "source": [
    "grid.best_params_"
   ]
  },
  {
   "cell_type": "markdown",
   "id": "23fb342b",
   "metadata": {},
   "source": [
    "По истечении 8 часов обработка не была закончена. Прервем и будем использовать наилучший вариант  из имеющихся "
   ]
  },
  {
   "cell_type": "code",
   "execution_count": null,
   "id": "83dc5655",
   "metadata": {},
   "outputs": [],
   "source": []
  },
  {
   "cell_type": "code",
   "execution_count": 148,
   "id": "9979ad51",
   "metadata": {},
   "outputs": [
    {
     "data": {
      "text/html": [
       "<style>#sk-container-id-7 {color: black;background-color: white;}#sk-container-id-7 pre{padding: 0;}#sk-container-id-7 div.sk-toggleable {background-color: white;}#sk-container-id-7 label.sk-toggleable__label {cursor: pointer;display: block;width: 100%;margin-bottom: 0;padding: 0.3em;box-sizing: border-box;text-align: center;}#sk-container-id-7 label.sk-toggleable__label-arrow:before {content: \"▸\";float: left;margin-right: 0.25em;color: #696969;}#sk-container-id-7 label.sk-toggleable__label-arrow:hover:before {color: black;}#sk-container-id-7 div.sk-estimator:hover label.sk-toggleable__label-arrow:before {color: black;}#sk-container-id-7 div.sk-toggleable__content {max-height: 0;max-width: 0;overflow: hidden;text-align: left;background-color: #f0f8ff;}#sk-container-id-7 div.sk-toggleable__content pre {margin: 0.2em;color: black;border-radius: 0.25em;background-color: #f0f8ff;}#sk-container-id-7 input.sk-toggleable__control:checked~div.sk-toggleable__content {max-height: 200px;max-width: 100%;overflow: auto;}#sk-container-id-7 input.sk-toggleable__control:checked~label.sk-toggleable__label-arrow:before {content: \"▾\";}#sk-container-id-7 div.sk-estimator input.sk-toggleable__control:checked~label.sk-toggleable__label {background-color: #d4ebff;}#sk-container-id-7 div.sk-label input.sk-toggleable__control:checked~label.sk-toggleable__label {background-color: #d4ebff;}#sk-container-id-7 input.sk-hidden--visually {border: 0;clip: rect(1px 1px 1px 1px);clip: rect(1px, 1px, 1px, 1px);height: 1px;margin: -1px;overflow: hidden;padding: 0;position: absolute;width: 1px;}#sk-container-id-7 div.sk-estimator {font-family: monospace;background-color: #f0f8ff;border: 1px dotted black;border-radius: 0.25em;box-sizing: border-box;margin-bottom: 0.5em;}#sk-container-id-7 div.sk-estimator:hover {background-color: #d4ebff;}#sk-container-id-7 div.sk-parallel-item::after {content: \"\";width: 100%;border-bottom: 1px solid gray;flex-grow: 1;}#sk-container-id-7 div.sk-label:hover label.sk-toggleable__label {background-color: #d4ebff;}#sk-container-id-7 div.sk-serial::before {content: \"\";position: absolute;border-left: 1px solid gray;box-sizing: border-box;top: 0;bottom: 0;left: 50%;z-index: 0;}#sk-container-id-7 div.sk-serial {display: flex;flex-direction: column;align-items: center;background-color: white;padding-right: 0.2em;padding-left: 0.2em;position: relative;}#sk-container-id-7 div.sk-item {position: relative;z-index: 1;}#sk-container-id-7 div.sk-parallel {display: flex;align-items: stretch;justify-content: center;background-color: white;position: relative;}#sk-container-id-7 div.sk-item::before, #sk-container-id-7 div.sk-parallel-item::before {content: \"\";position: absolute;border-left: 1px solid gray;box-sizing: border-box;top: 0;bottom: 0;left: 50%;z-index: -1;}#sk-container-id-7 div.sk-parallel-item {display: flex;flex-direction: column;z-index: 1;position: relative;background-color: white;}#sk-container-id-7 div.sk-parallel-item:first-child::after {align-self: flex-end;width: 50%;}#sk-container-id-7 div.sk-parallel-item:last-child::after {align-self: flex-start;width: 50%;}#sk-container-id-7 div.sk-parallel-item:only-child::after {width: 0;}#sk-container-id-7 div.sk-dashed-wrapped {border: 1px dashed gray;margin: 0 0.4em 0.5em 0.4em;box-sizing: border-box;padding-bottom: 0.4em;background-color: white;}#sk-container-id-7 div.sk-label label {font-family: monospace;font-weight: bold;display: inline-block;line-height: 1.2em;}#sk-container-id-7 div.sk-label-container {text-align: center;}#sk-container-id-7 div.sk-container {/* jupyter's `normalize.less` sets `[hidden] { display: none; }` but bootstrap.min.css set `[hidden] { display: none !important; }` so we also need the `!important` here to be able to override the default hidden behavior on the sphinx rendered scikit-learn.org. See: https://github.com/scikit-learn/scikit-learn/issues/21755 */display: inline-block !important;position: relative;}#sk-container-id-7 div.sk-text-repr-fallback {display: none;}</style><div id=\"sk-container-id-7\" class=\"sk-top-container\"><div class=\"sk-text-repr-fallback\"><pre>GradientBoostingRegressor(loss=&#x27;ls&#x27;, max_depth=10, n_estimators=900)</pre><b>In a Jupyter environment, please rerun this cell to show the HTML representation or trust the notebook. <br />On GitHub, the HTML representation is unable to render, please try loading this page with nbviewer.org.</b></div><div class=\"sk-container\" hidden><div class=\"sk-item\"><div class=\"sk-estimator sk-toggleable\"><input class=\"sk-toggleable__control sk-hidden--visually\" id=\"sk-estimator-id-7\" type=\"checkbox\" checked><label for=\"sk-estimator-id-7\" class=\"sk-toggleable__label sk-toggleable__label-arrow\">GradientBoostingRegressor</label><div class=\"sk-toggleable__content\"><pre>GradientBoostingRegressor(loss=&#x27;ls&#x27;, max_depth=10, n_estimators=900)</pre></div></div></div></div></div>"
      ],
      "text/plain": [
       "GradientBoostingRegressor(loss='ls', max_depth=10, n_estimators=900)"
      ]
     },
     "execution_count": 148,
     "metadata": {},
     "output_type": "execute_result"
    }
   ],
   "source": [
    "gbr = GradientBoostingRegressor(loss ='ls', max_depth=10, n_estimators = 900)\n",
    "gbr.fit (XX_train_log, yy_train_log)"
   ]
  },
  {
   "cell_type": "code",
   "execution_count": 149,
   "id": "619a8f04",
   "metadata": {},
   "outputs": [
    {
     "name": "stdout",
     "output_type": "stream",
     "text": [
      "Точность модели по метрике MAPE: 0.29%\n"
     ]
    }
   ],
   "source": [
    "pred_gbr = gbr.predict(XX_test_log)\n",
    "\n",
    "print(f\"Точность модели по метрике MAPE: {(mape(yy_test_log, pred_gbr))*100:0.2f}%\")"
   ]
  },
  {
   "cell_type": "code",
   "execution_count": 152,
   "id": "f4da509b",
   "metadata": {},
   "outputs": [],
   "source": [
    "import pickle"
   ]
  },
  {
   "cell_type": "code",
   "execution_count": 153,
   "id": "aa9b0cd6",
   "metadata": {},
   "outputs": [],
   "source": [
    "# Производим сериализацию обученной модели\n",
    "with open('myfile.pkl', 'wb') as output:\n",
    "    pickle.dump(gbr, output)"
   ]
  }
 ],
 "metadata": {
  "kernelspec": {
   "display_name": "Python 3 (ipykernel)",
   "language": "python",
   "name": "python3"
  },
  "language_info": {
   "codemirror_mode": {
    "name": "ipython",
    "version": 3
   },
   "file_extension": ".py",
   "mimetype": "text/x-python",
   "name": "python",
   "nbconvert_exporter": "python",
   "pygments_lexer": "ipython3",
   "version": "3.9.12"
  }
 },
 "nbformat": 4,
 "nbformat_minor": 5
}
